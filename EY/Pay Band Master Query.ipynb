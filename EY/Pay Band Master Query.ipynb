{
 "cells": [
  {
   "cell_type": "code",
   "execution_count": null,
   "metadata": {},
   "outputs": [],
   "source": [
    "import pandas as pd\n",
    "import numpy as np\n",
    "PBM = pd.read_csv('UKI PBM.csv', encoding='latin1')"
   ]
  },
  {
   "cell_type": "code",
   "execution_count": null,
   "metadata": {},
   "outputs": [],
   "source": [
    "default=[\"000\",\"010\",\"020\"]\n",
    "\n",
    "PBM = PBM.set_index(\"UJI\")\n",
    "PBM = PBM.drop(default, axis=0)\n",
    "PBM = PBM.reset_index(inplace = False)"
   ]
  },
  {
   "cell_type": "markdown",
   "metadata": {},
   "source": [
    "### ROI"
   ]
  },
  {
   "cell_type": "markdown",
   "metadata": {},
   "source": [
    "ROI = pd.read_csv('ROI PBM.csv', encoding='latin1')b\n",
    "ROI = ROI.set_index(\"UJI\")\n",
    "ROI = ROI.drop(default, axis=0)\n",
    "ROI = ROI.reset_index(inplace = False)"
   ]
  },
  {
   "cell_type": "code",
   "execution_count": null,
   "metadata": {},
   "outputs": [],
   "source": [
    "PBM.columns.values.tolist()"
   ]
  },
  {
   "cell_type": "code",
   "execution_count": null,
   "metadata": {},
   "outputs": [],
   "source": [
    "PBM = PBM[['UJI', 'Location', 'Pay Band', 'Level', 'UJI Library Short Description', 'Entry', 'Mid Point', 'Top', 'SL Indicator']] #Selecting Mid Point instead of derived Mid\n",
    "\n",
    "#ROI = ROI[['UJI', 'Location', 'Pay Band', 'Level', 'UJI Library Short Description', 'Entry', 'Mid Point', 'Top', 'TW Salary Benchmark']] #Selecting Mid Point instead of derived Mid"
   ]
  },
  {
   "cell_type": "markdown",
   "metadata": {},
   "source": [
    "### Set Index for lookup"
   ]
  },
  {
   "cell_type": "code",
   "execution_count": null,
   "metadata": {},
   "outputs": [],
   "source": [
    "PBM['Location'].unique().tolist()"
   ]
  },
  {
   "cell_type": "code",
   "execution_count": null,
   "metadata": {},
   "outputs": [],
   "source": [
    "PBM = PBM.set_index([\"SL Indicator\"])\n",
    "others = [1, 3, 7, 9, 0]\n",
    "PBM = PBM.drop(others, axis=0)\n",
    "PBM = PBM.reset_index(inplace = False)"
   ]
  },
  {
   "cell_type": "code",
   "execution_count": null,
   "metadata": {},
   "outputs": [],
   "source": [
    "PBM = PBM.reset_index(inplace = False)"
   ]
  },
  {
   "cell_type": "code",
   "execution_count": null,
   "metadata": {},
   "outputs": [],
   "source": [
    "test = PBM[PBM[\"Pay Band\"].str.contains('FSO') == False]"
   ]
  },
  {
   "cell_type": "code",
   "execution_count": null,
   "metadata": {},
   "outputs": [],
   "source": [
    "test = test[test[\"Location\"].str.contains('London')]"
   ]
  },
  {
   "cell_type": "code",
   "execution_count": null,
   "metadata": {},
   "outputs": [],
   "source": [
    "test.to_csv(r'PBM ETC.csv',encoding='utf-8-sig', index=False)"
   ]
  },
  {
   "cell_type": "code",
   "execution_count": null,
   "metadata": {},
   "outputs": [],
   "source": [
    "PBM[PBM['Pay Band'].str.contains('FSO')]"
   ]
  },
  {
   "cell_type": "markdown",
   "metadata": {},
   "source": [
    "### Search"
   ]
  },
  {
   "cell_type": "code",
   "execution_count": null,
   "metadata": {},
   "outputs": [],
   "source": [
    "PBM.loc['London', 'EAB']\n",
    "#query = PBM.where((pd.notna(PBM['Pay Band'])) & PBM['Pay Band'].str.contains('AIBD'))\n",
    "#query"
   ]
  },
  {
   "cell_type": "markdown",
   "metadata": {},
   "source": [
    "PBM = pd.concat([PBM, ROI], ignore_index=True)"
   ]
  },
  {
   "cell_type": "code",
   "execution_count": null,
   "metadata": {},
   "outputs": [],
   "source": [
    "PBM['Mid Point'] = PBM['Mid Point'].astype(str).str.replace(',', '')\n",
    "PBM['Mid Point'] = PBM['Mid Point'].astype(str).str.replace(' ', '').astype(float)\n",
    "PBM = PBM.sort_values(\"Mid Point\", ascending=False)\n",
    "PBM = PBM.drop_duplicates([\"UJI\",\"Location\"])\n",
    "\n",
    "#Sort by UJI\n",
    "PBM = PBM.sort_values(\"UJI\")"
   ]
  },
  {
   "cell_type": "code",
   "execution_count": null,
   "metadata": {},
   "outputs": [],
   "source": [
    "PBM.to_csv(r'C:\\Users\\2022464\\Documents\\Learning\\Python\\OPR\\PBM.csv',encoding='utf-8-sig', index=False)"
   ]
  }
 ],
 "metadata": {
  "kernelspec": {
   "display_name": "Python 3",
   "language": "python",
   "name": "python3"
  },
  "language_info": {
   "codemirror_mode": {
    "name": "ipython",
    "version": 3
   },
   "file_extension": ".py",
   "mimetype": "text/x-python",
   "name": "python",
   "nbconvert_exporter": "python",
   "pygments_lexer": "ipython3",
   "version": "3.8.2"
  }
 },
 "nbformat": 4,
 "nbformat_minor": 4
}
