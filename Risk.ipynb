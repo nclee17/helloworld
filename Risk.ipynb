{
 "cells": [
  {
   "cell_type": "code",
   "execution_count": 2,
   "metadata": {},
   "outputs": [],
   "source": [
    "import random\n",
    "import matplotlib\n",
    "import time\n",
    "from IPython.display import clear_output"
   ]
  },
  {
   "cell_type": "code",
   "execution_count": 3,
   "metadata": {},
   "outputs": [],
   "source": [
    "%matplotlib inline"
   ]
  },
  {
   "cell_type": "markdown",
   "metadata": {},
   "source": [
    "### Dictionaries"
   ]
  },
  {
   "cell_type": "code",
   "execution_count": 4,
   "metadata": {},
   "outputs": [],
   "source": [
    "# dictionary: continent name and all territory_id within continent\n",
    "continent_id={\n",
    "    \"North America\":  [1, 2, 3, 4, 5, 6, 7, 8, 9],\n",
    "    \"South America\": [10, 11, 12, 13],\n",
    "    \"Europe\": [14, 15, 16, 17, 18, 19, 20],\n",
    "    \"Africa\": [21, 22, 23, 24, 25, 26],\n",
    "    \"Asia\": [27, 28, 29, 30, 31, 32, 33, 34, 35, 36, 37, 38],\n",
    "    \"Australia\": [39, 40, 41, 42]    \n",
    "}\n",
    "\n",
    "# dictionary: territory_id and its name\n",
    "territory_id={\n",
    "    1: \"Alaska\", 2: \"Alberta\", 3: \"Central America\", 4: \"Eastern United States\", 5: \"Greenland\",\n",
    "    6: \"Northwest Territory\", 7: \"Ontario\", 8: \"Quebec\", 9: \"Western United States\",10: \"Argentina\", \n",
    "    11: \"Brazil\", 12: \"Peru\", 13: \"Venezuela\", 14: \"Great Britain\", 15: \"Iceland\", \n",
    "    16: \"Northern Europe\", 17: \"Scandinavia\", 18: \"Southern Europe\", 19: \"Ukraine\", 20: \"Western Europe\",\n",
    "    21: \"Congo\", 22: \"East Africa\", 23: \"Egypt\", 24: \"Madagascar\", 25: \"North Africa\",\n",
    "    26: \"South Africa\", 27: \"Afghanistan\", 28: \"China\", 29: \"India\", 30: \"Irkutsk\",\n",
    "    31: \"Japan\", 32: \"Kamchatka\", 33: \"Middle East\", 34: \"Mongolia\", 35: \"Siam \",\n",
    "    36: \"Siberia\", 37: \"Ural\", 38: \"Yakutsk\", 39: \"Eastern Australia\", 40: \"Indonesia\",\n",
    "    41: \"New Guinea\",42: \"Western Australia\"\n",
    "}\n",
    "\n",
    "# dictionary: territory_id and all territory_id it borders with\n",
    "neighbour_id={\n",
    "    1: [2, 6, 32],\n",
    "    2: [1, 6, 7, 9],\n",
    "    3: [4, 9, 13],\n",
    "    4: [3, 7, 8, 9],\n",
    "    5: [6, 7, 8, 15],\n",
    "    6: [1, 2, 5, 7],\n",
    "    7: [2, 4, 5, 6, 8, 9],\n",
    "    8: [4, 5, 7],\n",
    "    9: [2, 3, 4, 7],\n",
    "    10: [11, 12],\n",
    "    11: [10, 12, 13, 25],\n",
    "    12: [10, 11, 13],\n",
    "    13: [3, 11, 12],\n",
    "    14: [15, 16, 17, 20],\n",
    "    15: [5, 14, 17],\n",
    "    16: [14, 17, 18, 19, 20],\n",
    "    17: [14, 15, 16, 19],\n",
    "    18: [16, 19, 20, 23, 25, 33],\n",
    "    19: [16, 17, 27, 33, 37],\n",
    "    20: [14, 16, 18, 25],\n",
    "    21: [22, 25, 26],\n",
    "    22: [21, 23, 24, 25, 26, 33],\n",
    "    23: [18, 22, 25, 33],\n",
    "    24: [22, 26],\n",
    "    25: [11, 18, 20, 21, 22, 23],\n",
    "    26: [21, 22, 24],\n",
    "    27: [19, 28, 29, 33, 37],\n",
    "    28: [27, 29, 34, 35, 36, 37],\n",
    "    29: [27, 28, 33, 35],\n",
    "    30: [32, 34, 36, 38],\n",
    "    31: [32, 34],\n",
    "    32: [1, 30, 31, 34, 38],\n",
    "    33: [18, 19, 22, 23, 27, 29],\n",
    "    34: [28, 30, 31, 32, 36],\n",
    "    35: [28, 29, 40],\n",
    "    36: [28, 30, 34, 37, 38],\n",
    "    37: [19, 27, 28, 36],\n",
    "    38: [30, 32, 36],\n",
    "    39: [41, 42],\n",
    "    40: [35, 41, 42],\n",
    "    41: [39, 40, 42],\n",
    "    42: [39, 40, 41]\n",
    "}"
   ]
  },
  {
   "cell_type": "code",
   "execution_count": 5,
   "metadata": {},
   "outputs": [],
   "source": [
    "# dictionary: territory_id and a list of its owners id with the number of troops occupied with\n",
    "territory_occupation={\n",
    "    1: [1, 4],\n",
    "    2: [2, 1],\n",
    "    3: [1, 1],\n",
    "    4: [1, 1],\n",
    "    5: [\"\", 0],\n",
    "    6: [1, 1],\n",
    "    7: [\"\", 0],\n",
    "    8: [\"\", 0],\n",
    "    9: [\"\", 0],\n",
    "    10: [\"\", 0],\n",
    "    11: [\"\", 0],\n",
    "    12: [\"\", 0],\n",
    "    13: [\"\", 0],\n",
    "    14: [\"\", 0],\n",
    "    15: [\"\", 0],\n",
    "    16: [\"\", 0],\n",
    "    17: [\"\", 0],\n",
    "    18: [\"\", 0],\n",
    "    19: [\"\", 0],\n",
    "    20: [\"\", 0],\n",
    "    21: [\"\", 0],\n",
    "    22: [\"\", 0],\n",
    "    23: [\"\", 0],\n",
    "    24: [\"\", 0],\n",
    "    25: [\"\", 0],\n",
    "    26: [\"\", 0],\n",
    "    27: [\"\", 0],\n",
    "    28: [\"\", 0],\n",
    "    29: [\"\", 0],\n",
    "    30: [\"\", 0],\n",
    "    31: [\"\", 0],\n",
    "    32: [\"\", 0],\n",
    "    33: [\"\", 0],\n",
    "    34: [\"\", 0],\n",
    "    35: [\"\", 0],\n",
    "    36: [\"\", 0],\n",
    "    37: [\"\", 0],\n",
    "    38: [\"\", 0],\n",
    "    39: [\"\", 0],\n",
    "    40: [\"\", 0],\n",
    "    41: [\"\", 0],\n",
    "    42: [\"\", 0],\n",
    "}"
   ]
  },
  {
   "cell_type": "markdown",
   "metadata": {},
   "source": [
    "## Player class"
   ]
  },
  {
   "cell_type": "code",
   "execution_count": 35,
   "metadata": {},
   "outputs": [],
   "source": [
    "class Player:\n",
    "\n",
    "    def __init__(self,id_player):\n",
    "        self.name='' #name_player\n",
    "        self.id=id_player  # position of the player in the game\n",
    "        self.occupied_territories=dict() # dictionnary with the territories owned and the number of troops on each territory\n",
    "        self.riskcards=[]\n",
    "        self.missions=[] #Later maybe\n",
    "        self.stock=0 # counter for the reinforcement phase\n",
    "        \n",
    "        \n",
    "     #provide the list of territories occupied by the player \n",
    "    def get_occupied_territories(self):\n",
    "        self.occupied_territories={x:territory_occupation[x][1] for x in territory_occupation.keys() if territory_occupation[x][0]==self.id}\n",
    "        return self.occupied_territories\n",
    "    \n",
    "    def move(self, from_territory_id, to_territory_id, troops):\n",
    "        '''\n",
    "        Validity checks on:\n",
    "        1) from_territory belongs to player\n",
    "        2) selected troops are available (i.e. enough troops at from_territory and at least 1 is remain stationed)\n",
    "        3) to_territory is a neighbour of from_territory\n",
    "        4) to_territory owner is not player\n",
    "        '''\n",
    "        outcome = (from_territory_id in self.occupied_territories.keys(), territory_occupation[from_territory_id][1]-troops>=1, to_territory_id in neighbour_id[from_territory_id], to_territory_id not in self.occupied_territories.keys())\n",
    "        return outcome\n",
    "    \n",
    "    def attack_m(self, from_territory_id, to_territory_id, troops):\n",
    "        # Mechanism for an attack\n",
    "        \n",
    "        # Valid move check\n",
    "        if sum(self.move(from_territory_id, to_territory_id, troops))==4:\n",
    "            original_force=troops\n",
    "            # Update territory_occupation dictionary to move troops out of from_territory\n",
    "            territory_occupation[from_territory_id][1]-=original_force\n",
    "            # loop until \"last-man standing\"\n",
    "            while (troops>0) & (territory_occupation[to_territory_id][1]>0):\n",
    "                attack, defence = self.roll_dice()\n",
    "                print(f\"Attacker: {troops} vs Defender: {territory_occupation[to_territory_id][1]}\")\n",
    "                time.sleep(1)\n",
    "                print(f\"Attacker: {attack} vs Defender: {defence}\")\n",
    "                time.sleep(1)\n",
    "                if sum(attack)==sum(defence):\n",
    "                    print(f\"It's a draw, another battle begins.\")\n",
    "                elif sum(attack)>sum(defence):\n",
    "                    print(f\"Attacker kills one troop of the defender.\")\n",
    "                    territory_occupation[to_territory_id][1]-=1               \n",
    "                else:\n",
    "                    print(f\"Attacker lost one troop.\")\n",
    "                    troops-=1\n",
    "                time.sleep(1)\n",
    "                \n",
    "            # check if attempted conquer was a success    \n",
    "            if troops>0:\n",
    "                self.get_occupied_territories()\n",
    "                territory_occupation[to_territory_id]=[self.id, troops]\n",
    "                print(f\"Successfully conquered {territory_id[to_territory_id]}, moving in with {troops}\", \"troops.\" if troops>1 else \"troop.\")\n",
    "                \n",
    "                if self.win_check():\n",
    "                    print(\"You have won the game.\")\n",
    "                else:\n",
    "                    pass\n",
    "            \n",
    "            else:\n",
    "                print(f\"Failed attempt to conquer {territory_id[to_territory_id]}, {original_force}\", \"troops were\" if original_force>1 else \"troop was\", \"killed.\")\n",
    "            self.get_occupied_territories() \n",
    "        else:\n",
    "            print(\"criteria not met for an attack\")\n",
    "    \n",
    "    def attack(self):\n",
    "        # Update player's occupied_territories dictionary\n",
    "        self.get_occupied_territories()\n",
    "        attack_on = True\n",
    "        while attack_on:\n",
    "            print(f\"\"\"Current territories:\n",
    "{[territory_id[i] for i,j in self.occupied_territories.items()]}\"\"\")\n",
    "            if input('Would you like to make any attacks? Y/N ').upper() == \"Y\":\n",
    "                clear_output()\n",
    "                attack_input=True\n",
    "                while attack_input:\n",
    "                    try:\n",
    "                        print(f\"\"\"Current territories:\n",
    "{[territory_id[i] for i,j in self.occupied_territories.items()]}\"\"\")\n",
    "                        self.attack_m(self.convert_territory_id(input(f\"\"\"Please enter the territory you would want to attack from: \"\"\").title()), self.convert_territory_id(input('Please enter the territory you would want to attack: ').title()), int(input('Enter the number of troops to deploy for this attack: ')))\n",
    "                    except:\n",
    "                        print(\"Please make sure you have enter the information in the correct format.\")\n",
    "                    else:\n",
    "                        break\n",
    "            else:\n",
    "                attack_on=False\n",
    "\n",
    "    def roll_dice(self):\n",
    "        red_dice, blue_dice=random.choices(range(1,7), k=3), random.choices(range(1,7), k=3)\n",
    "        return red_dice, blue_dice\n",
    "\n",
    "    def manoeuvre_m(self, from_territory_id, to_territory_id, troops):\n",
    "        # Mechanism for a manoeuvre\n",
    "        \n",
    "        # Valid move check\n",
    "        if sum(self.move(from_territory_id, to_territory_id, troops)[:3])==3 & sum(self.move(from_territory_id, to_territory_id, troops))!=4:\n",
    "            territory_occupation[to_territory_id][1]+=troops\n",
    "            territory_occupation[from_territory_id][1]-=troops\n",
    "            print(f\"You have moved {troops}\",  \"troops\" if troops>1 else \"troop\", f\"into {territory_id[to_territory_id]}.\")\n",
    "            self.get_occupied_territories()\n",
    "        else:\n",
    "            print(\"criteria not met for a manoeuvre\")\n",
    "    \n",
    "    def manoeuvre(self):\n",
    "        # Phase 3: Manoeuvre, ask obtain player input\n",
    "        # Update player's occupied territories dictionary\n",
    "        self.get_occupied_territories()\n",
    "        manoeuvre_on = True\n",
    "        while manoeuvre_on:\n",
    "            print(f\"\"\"Current territories:\n",
    "{[territory_id[i] for i,j in self.occupied_territories.items()]}\"\"\")\n",
    "            if input('Would you like to make any manoeuvre? Y/N ').upper() == \"Y\":\n",
    "                clear_output()\n",
    "                manoeuvre_input=True\n",
    "                while manoeuvre_input:\n",
    "                    try:\n",
    "                        print(f\"\"\"Current territories:\n",
    "{[territory_id[i] for i,j in self.occupied_territories.items()]}\"\"\")\n",
    "                        self.manoeuvre_m(self.convert_territory_id(input(f\"\"\"Please enter the territory you would want to manoeuvre from: \"\"\").title()), self.convert_territory_id(input('Please enter the territory you would want to manoeuvre to: ').title()), int(input('Enter the number of troops to deploy for this manoeuvre: ')))\n",
    "                    except:\n",
    "                        print(\"Please make sure you have enter the information in the correct format.\")\n",
    "                    else:\n",
    "                        break\n",
    "            else:\n",
    "                manoeuvre_on=False\n",
    "    \n",
    "    def win_check(self):\n",
    "        return len(self.occupied_territories)>=30\n",
    "        pass\n",
    "    \n",
    "    def continent_check(self):\n",
    "        # returns a dictionary of continent and True/False on whether player has conquered the whole continent\n",
    "        progress={i: set(j).issubset(self.occupied_territories.keys()) for i,j in continent_id.items()}\n",
    "        return progress\n",
    "    \n",
    "    def convert_territory_id(self, territory):\n",
    "        return [i for i,j in territory_id.items() if j==territory][0]\n",
    "        \n",
    "    "
   ]
  },
  {
   "cell_type": "code",
   "execution_count": null,
   "metadata": {},
   "outputs": [],
   "source": []
  },
  {
   "cell_type": "code",
   "execution_count": null,
   "metadata": {},
   "outputs": [],
   "source": [
    "def convert(t):\n",
    "        return [i for i,j in territory_id.items() if j==t][0]"
   ]
  },
  {
   "cell_type": "code",
   "execution_count": null,
   "metadata": {},
   "outputs": [],
   "source": [
    "ducky."
   ]
  },
  {
   "cell_type": "code",
   "execution_count": null,
   "metadata": {},
   "outputs": [],
   "source": [
    "#for 2 players / to be adapted for more player\n",
    "Nb_player=2\n",
    "#choose of Number of troops in each game depending on the number of players\n",
    "def game_setup(NbPlayer):\n",
    "    army_size={2:40,3:35,4:30,5:35,6:20}\n",
    "    return army_size[NbPlayer]\n",
    "\n",
    "def assign_territories(Nb_player):\n",
    "    #shuffle the territories\n",
    "    import random\n",
    "    deck_of_territories=random.sample(territory_id.keys(),len(territory_id.keys()))\n",
    "\n",
    "    #distribute all the territories randomly to the players and add exactly one troop of the player  on the territory.\n",
    "\n",
    "    for i,territory in enumerate(deck_of_territories):\n",
    "        player=Joueur1\n",
    "        if i%2==0:\n",
    "            player=Joueur2   \n",
    "        player.occupied_territories[territory]=1\n",
    "        #Update the territory_occupation\n",
    "        territory_occupation[i]=[player.id,1]\n",
    "#Update stock of remaining Troops for each player\n",
    "Joueur1.stock=game_setup(Nb_player)-len(list(Joueur1.occupied_territories.keys()))\n",
    "Joueur2.stock=game_setup(Nb_player)-len(list(Joueur2.occupied_territories.keys())) \n",
    "\n",
    "print(Joueur2.stock)\n",
    "print(Joueur1.stock)\n",
    "print(Joueur2.occupied_territories.keys())\n",
    "print(Joueur1.occupied_territories.keys())"
   ]
  },
  {
   "cell_type": "code",
   "execution_count": null,
   "metadata": {},
   "outputs": [],
   "source": [
    "game_setup(2)"
   ]
  },
  {
   "cell_type": "markdown",
   "metadata": {},
   "source": [
    "# Card Dictionary\n",
    "card_dict=territory_id.copy()\n",
    "card_dict[0]=\"Wild Card\"\n",
    "card_dict[43]=\"Wild Card\""
   ]
  },
  {
   "cell_type": "markdown",
   "metadata": {},
   "source": [
    "![](img/risk-board.png)"
   ]
  },
  {
   "cell_type": "code",
   "execution_count": null,
   "metadata": {},
   "outputs": [],
   "source": []
  },
  {
   "cell_type": "code",
   "execution_count": null,
   "metadata": {},
   "outputs": [],
   "source": []
  },
  {
   "cell_type": "markdown",
   "metadata": {},
   "source": [
    "# initial territory split\n",
    "initial_card_shuffle=random.sample(range(1, 43), 42)\n",
    "card_shuffle=random.sample(range(44), 44)"
   ]
  },
  {
   "cell_type": "code",
   "execution_count": 36,
   "metadata": {},
   "outputs": [],
   "source": [
    "ducky=Player(1)\n",
    "sloth=Player(2)"
   ]
  },
  {
   "cell_type": "code",
   "execution_count": 39,
   "metadata": {},
   "outputs": [
    {
     "name": "stdout",
     "output_type": "stream",
     "text": [
      "Current territories:\n",
      "['Alaska', 'Central America', 'Eastern United States', 'Northwest Territory']\n",
      "Please enter the territory you would want to manoeuvre from: Alaska\n",
      "Please enter the territory you would want to manoeuvre to: Northwest territory\n",
      "Enter the number of troops to deploy for this manoeuvre: 1\n",
      "You have moved 1 troop into Northwest Territory.\n",
      "Current territories:\n",
      "['Alaska', 'Central America', 'Eastern United States', 'Northwest Territory']\n",
      "Would you like to make any manoeuvre? Y/N N\n"
     ]
    }
   ],
   "source": [
    "ducky.manoeuvre()"
   ]
  },
  {
   "cell_type": "code",
   "execution_count": 37,
   "metadata": {
    "scrolled": true
   },
   "outputs": [
    {
     "name": "stdout",
     "output_type": "stream",
     "text": [
      "Current territories:\n",
      "['Alaska', 'Central America', 'Eastern United States', 'Northwest Territory']\n",
      "Please enter the territory you would want to attack from: Alaska\n",
      "Please enter the territory you would want to attack: Alberta\n",
      "Enter the number of troops to deploy for this attack: 1\n",
      "Attacker: 1 vs Defender: 1\n",
      "Attacker: [2, 1, 5] vs Defender: [1, 5, 6]\n",
      "Attacker lost one troop.\n",
      "Failed attempt to conquer Alberta, 1 troop was killed.\n",
      "Current territories:\n",
      "['Alaska', 'Central America', 'Eastern United States', 'Northwest Territory']\n",
      "Would you like to make any attacks? Y/N N\n"
     ]
    }
   ],
   "source": [
    "ducky.attack()"
   ]
  },
  {
   "cell_type": "code",
   "execution_count": null,
   "metadata": {},
   "outputs": [],
   "source": [
    "ducky.occupied_territories.keys()"
   ]
  },
  {
   "cell_type": "code",
   "execution_count": null,
   "metadata": {},
   "outputs": [],
   "source": [
    "ducky.win_check()"
   ]
  },
  {
   "cell_type": "code",
   "execution_count": null,
   "metadata": {},
   "outputs": [],
   "source": [
    "ducky.continent_check()"
   ]
  },
  {
   "cell_type": "code",
   "execution_count": null,
   "metadata": {},
   "outputs": [],
   "source": [
    "{i: len(j) for i, j in continent_id.items()}"
   ]
  },
  {
   "cell_type": "code",
   "execution_count": null,
   "metadata": {},
   "outputs": [],
   "source": [
    "test={\n",
    "    1: 1,\n",
    "    2: 1,\n",
    "    3: 1,\n",
    "    4: 1,\n",
    "    5: 1,\n",
    "    6: 1,\n",
    "    7: 1,\n",
    "    8: 1,\n",
    "    9: 1,\n",
    "    10: 1\n",
    "}"
   ]
  },
  {
   "cell_type": "code",
   "execution_count": null,
   "metadata": {},
   "outputs": [],
   "source": [
    "set(continent_id['North America']).issubset(test.keys())"
   ]
  },
  {
   "cell_type": "code",
   "execution_count": null,
   "metadata": {},
   "outputs": [],
   "source": [
    "set(continent_id['North America'])"
   ]
  },
  {
   "cell_type": "code",
   "execution_count": null,
   "metadata": {},
   "outputs": [],
   "source": [
    "{i: set(j).issubset(test.keys()) for i,j in continent_id.items()} #return dictionary of continent and whether player owns the whole of it"
   ]
  },
  {
   "cell_type": "code",
   "execution_count": null,
   "metadata": {},
   "outputs": [],
   "source": []
  }
 ],
 "metadata": {
  "kernelspec": {
   "display_name": "Python 3",
   "language": "python",
   "name": "python3"
  },
  "language_info": {
   "codemirror_mode": {
    "name": "ipython",
    "version": 3
   },
   "file_extension": ".py",
   "mimetype": "text/x-python",
   "name": "python",
   "nbconvert_exporter": "python",
   "pygments_lexer": "ipython3",
   "version": "3.8.2"
  }
 },
 "nbformat": 4,
 "nbformat_minor": 4
}
