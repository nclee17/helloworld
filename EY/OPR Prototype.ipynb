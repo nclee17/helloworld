{
 "cells": [
  {
   "cell_type": "markdown",
   "metadata": {},
   "source": [
    "# OPR Prototype "
   ]
  },
  {
   "cell_type": "markdown",
   "metadata": {},
   "source": [
    "To standardize output from People Insight - Operating Performance Report and to put in Pay Band and other Reward information for the report."
   ]
  },
  {
   "cell_type": "code",
   "execution_count": null,
   "metadata": {},
   "outputs": [],
   "source": [
    "import pandas as pd\n",
    "import numpy as np"
   ]
  },
  {
   "cell_type": "markdown",
   "metadata": {},
   "source": [
    "### Pay Band Master"
   ]
  },
  {
   "cell_type": "code",
   "execution_count": null,
   "metadata": {},
   "outputs": [],
   "source": [
    "# Importing the GBR and ROI Pay Band Masters\n",
    "PBM = pd.read_csv('UKI PBM.csv', encoding='latin1')\n",
    "ROI = pd.read_csv('ROI PBM.csv', encoding='latin1')"
   ]
  },
  {
   "cell_type": "code",
   "execution_count": null,
   "metadata": {},
   "outputs": [],
   "source": [
    "# Removing the default UJI [000, 010, 020] from the 2 Pay Band Masters\n",
    "default=[\"000\",\"010\",\"020\"]\n",
    "\n",
    "PBM = PBM.set_index(\"UJI\")\n",
    "PBM.drop(default, axis=0, inplace=True)\n",
    "PBM = PBM.reset_index(inplace = False)\n",
    "\n",
    "ROI = ROI.set_index(\"UJI\")\n",
    "ROI.drop(default, axis=0, inplace=True)\n",
    "ROI = ROI.reset_index(inplace = False)"
   ]
  },
  {
   "cell_type": "code",
   "execution_count": null,
   "metadata": {},
   "outputs": [],
   "source": [
    "# Selecting columns required for merge\n",
    "col_merge = ['UJI', 'UJI Level', 'Location', 'Pay Band', 'Payband Level', 'UJI Library Short Description', 'Entry', 'Mid Point', 'Top', 'Market Median']\n",
    "\n",
    "PBM = PBM[col_merge]\n",
    "ROI = ROI[col_merge]"
   ]
  },
  {
   "cell_type": "code",
   "execution_count": null,
   "metadata": {},
   "outputs": [],
   "source": [
    "# Combine the two Pay Band Masters into one reference\n",
    "PBM = pd.concat([PBM, ROI], ignore_index=True)"
   ]
  },
  {
   "cell_type": "code",
   "execution_count": null,
   "metadata": {},
   "outputs": [],
   "source": [
    "# Formatting the mid point column\n",
    "PBM['Mid Point'] = PBM['Mid Point'].astype(str).str.replace(',', '')\n",
    "PBM['Mid Point'] = PBM['Mid Point'].astype(str).str.replace(' ', '').astype(float)\n",
    "\n",
    "# Removing duplicates based on UJI and Location\n",
    "PBM = PBM.sort_values(\"Mid Point\", ascending=False)\n",
    "PBM = PBM.drop_duplicates([\"UJI\",\"Location\"])\n",
    "\n",
    "#Sort by UJI\n",
    "PBM = PBM.sort_values(\"UJI\")"
   ]
  },
  {
   "cell_type": "markdown",
   "metadata": {},
   "source": [
    "### OPR"
   ]
  },
  {
   "cell_type": "code",
   "execution_count": null,
   "metadata": {},
   "outputs": [],
   "source": [
    "# Importing the OPR\n",
    "OPR = pd.read_csv('Operational People Roster.csv')"
   ]
  },
  {
   "cell_type": "code",
   "execution_count": null,
   "metadata": {},
   "outputs": [],
   "source": [
    "# Calculate FTE Salary\n",
    "OPR['FTE Salary'] = OPR['AnnualCompensationRate'].astype(str).str.replace(',', '').astype(float)/(OPR['FTE1'])\n",
    "OPR['FTE Salary'] = OPR['FTE Salary'].replace(np.inf, np.nan)"
   ]
  },
  {
   "cell_type": "code",
   "execution_count": null,
   "metadata": {},
   "outputs": [],
   "source": [
    "# Combine with pay band information\n",
    "OPR = pd.merge(OPR, PBM, how='left', left_on= ['SalaryGrade','LocationCity'], right_on= ['UJI', 'Location'])"
   ]
  },
  {
   "cell_type": "markdown",
   "metadata": {},
   "source": [
    "### Pay Band Information"
   ]
  },
  {
   "cell_type": "code",
   "execution_count": null,
   "metadata": {},
   "outputs": [],
   "source": [
    "# Formatting the columns\n",
    "OPR['Entry'] = OPR['Entry'].astype(str).str.replace(',', '')\n",
    "OPR['Entry'] = OPR['Entry'].astype(str).str.replace(' ', '').astype(float)\n",
    "\n",
    "OPR['Top'] = OPR['Top'].astype(str).str.replace(',', '')\n",
    "OPR['Top'] = OPR['Top'].astype(str).str.replace(' ', '').astype(float)\n",
    "\n",
    "OPR['AnnualCompensationRate'] = OPR['AnnualCompensationRate'].astype(str).str.replace(',', '')\n",
    "OPR['AnnualCompensationRate'] = OPR['AnnualCompensationRate'].astype(str).str.replace(' ', '').astype(float)\n",
    "\n",
    "OPR['Mid Point'] = OPR['Mid Point'].astype(str).str.replace(',', '')\n",
    "OPR['Mid Point'] = OPR['Mid Point'].astype(str).str.replace(' ', '').astype(float)"
   ]
  },
  {
   "cell_type": "code",
   "execution_count": null,
   "metadata": {},
   "outputs": [],
   "source": [
    "# Calculating Compa-Ratio\n",
    "OPR['Compa-Ratio'] = np.where(OPR['FTE Salary']==0, np.nan, OPR[\"FTE Salary\"]/OPR[\"Mid Point\"])\n",
    "OPR['Compa-Ratio'] = OPR['Compa-Ratio'].replace(np.inf, np.nan)"
   ]
  },
  {
   "cell_type": "code",
   "execution_count": null,
   "metadata": {},
   "outputs": [],
   "source": [
    "# Deriving entity basing on Business Unit\n",
    "OPR[\"Entity\"] = np.where(OPR['BU'].str.startswith(\"IE\"), \"ROI\", \"UKI\")\n",
    "OPR['Entity'] = np.where(OPR['BU'].str.startswith(\"GB080\"), \"FSO\", OPR.Entity)\n",
    "ROIFS = [\"IE002\",\"IE032\", \"IE042\", \"IE062\"]\n",
    "OPR['Entity'] = np.where(OPR['BU'].isin(ROIFS), \"ROI FS\", OPR.Entity)\n"
   ]
  },
  {
   "cell_type": "markdown",
   "metadata": {},
   "source": [
    "EY levels derived from Rank"
   ]
  },
  {
   "cell_type": "code",
   "execution_count": null,
   "metadata": {},
   "outputs": [],
   "source": [
    "Manager=[32, 63]\n",
    "Director=[21, 62, 13, 61]\n",
    "AM=[64,55]\n",
    "# 42 Grade 4 ONLY\n",
    "Others=[44,57,58,66,65,55, 42]\n",
    "IE=[\"ROI FS\", \"ROI\"]\n",
    "UK=[\"FSO\", \"UKI\"]"
   ]
  },
  {
   "cell_type": "code",
   "execution_count": null,
   "metadata": {},
   "outputs": [],
   "source": [
    "# Calculating tenure\n",
    "from datetime import datetime\n",
    "OPR['CurrentEmploymentDate1']= pd.to_datetime(OPR['CurrentEmploymentDate1'], format='%d-%b-%y')\n",
    "# Tenure calculated based on today's date - should potentially change to an input box for back dated reports\n",
    "now = pd.Timestamp('now')\n",
    "OPR['Tenure'] = OPR['CurrentEmploymentDate1'].where(OPR['CurrentEmploymentDate1'] < now, OPR['CurrentEmploymentDate1'] -  np.timedelta64(100, 'Y'))\n",
    "OPR['Tenure']= (now - OPR['Tenure']).astype('<m8[Y]')\n",
    "OPR['CurrentEmploymentDate1'] = OPR['CurrentEmploymentDate1'].dt.strftime('%d-%b-%y')"
   ]
  },
  {
   "cell_type": "code",
   "execution_count": null,
   "metadata": {},
   "outputs": [],
   "source": [
    "# Not sure why OPR2 was created\n",
    "OPR2 = OPR.copy()\n",
    "OPR2 = OPR2[['GPN', 'LPN', 'LastName', 'FirstName', 'JobCode', 'JobCodeDesc1', 'SalaryGrade','UJI Level','UJI Library Short Description','Pay Band', 'Rank','RankDesc','EYGrade','BusinessTitleJobPage','JobFamily','JobFamilyDesc','FTE Salary', 'AnnualCompensationRate','Entry', 'Mid Point', 'Top', 'Market Median', 'Compa-Ratio','Entity','BU','BUName','ServiceLine','SubSL1','DepartmentCode1','DepartmentName1','OU','OUName','MU','MUName','SMU','SMUName','Codeblock','LocationCode','LocationCity','LocationAddress1','StandardHours','StandardHoursSalaryAdminPlan','FTE1','EmployeeClass','RegularTemporary','PaygroupCode','EmployeeCategoryCode','EmployeeCategory','CurrentEmploymentDate1','SeniorityPayDate','GUI','EmployeeID1','EmployeeStatus1','CounselorGUI','CounselorName','gTESupervisorGUI','gTESupervisorName','EmailAddress','GenderCode','Ethnicity','MaritalStatus','DateOfBirth','EmployeeRecord', 'Tenure']]\n",
    "OPR2.rename(columns = {'SalaryGrade': 'UJI', 'UJI Library Short Description': 'UJI Description','BusinessTitleJobPage': 'Job Title', 'AnnualCompensationRate': 'Actual Salary', 'Mid Point': 'Mid', 'GenderCode': 'Gender'}, inplace = True)"
   ]
  },
  {
   "cell_type": "markdown",
   "metadata": {},
   "source": [
    "#### Allowances\n",
    "Providing information on PMI, car allowance and pension."
   ]
  },
  {
   "cell_type": "code",
   "execution_count": null,
   "metadata": {
    "jupyter": {
     "source_hidden": true
    }
   },
   "outputs": [],
   "source": [
    "# PMI calculations\n",
    "OPR2['PMI'] = np.where((OPR2['Rank'].isin(Manager)) | (OPR2['Rank'].isin(Director)), 1092.72, np.nan)\n",
    "OPR2['PMI'] = np.where(OPR2['Tenure'] > 4, 1092.72, OPR2['PMI'])\n",
    "OPR2['PMI Description'] = np.where((OPR2['Rank'].isin(Manager)) | (OPR2['Rank'].isin(Director)), \"Single Cover\", \"\")\n",
    "OPR2['PMI Description'] = np.where(OPR2['Tenure'] > 4, \"Single Cover\", OPR2['PMI Description'])\n",
    "\n",
    "#Finetuning the categories in ROI\n",
    "OPR2['PMI Description'] = np.where(OPR2['Entity'].isin(IE), np.nan, OPR2['PMI Description'])\n",
    "OPR2['PMI Description'] = np.where((OPR2['Rank'].isin(Manager)) & (OPR2['Entity'].isin(IE)) |(OPR2['Rank'].isin(AM)) & (OPR2['Entity'].isin(IE)) | (OPR2['Rank'].isin(Director)) & (OPR2['Entity'].isin(IE)), \"Medical Allowance\", OPR2['PMI Description'])\n",
    "OPR2['PMI Description'] = np.where((OPR2['Rank']==42) & (OPR2['Entity'].isin(IE)) & (OPR2['EYGrade']==4), \"Medical Allowance\", OPR2['PMI Description'])\n",
    "OPR2['PMI'] = np.where(OPR2['Entity'].isin(IE), np.nan, OPR2['PMI'])\n",
    "OPR2['PMI'] = np.where((OPR2['Rank'].isin(Manager)) & (OPR2['Entity'].isin(IE)) |(OPR2['Rank'].isin(AM)) & (OPR2['Entity'].isin(IE)) | (OPR2['Rank'].isin(Director)) & (OPR2['Entity'].isin(IE)), 660, OPR2['PMI'])\n",
    "OPR2['PMI'] = np.where((OPR2['Rank']==42) & (OPR2['Entity'].isin(IE)) & (OPR2['EYGrade']==4), 660, OPR2['PMI'])\n",
    "\n",
    "# Car allowance calculations\n",
    "OPR2['Car'] = np.where(OPR2['Rank'].isin(Manager), 4500, np.nan)\n",
    "OPR2['Car'] = np.where(OPR2['Rank'].isin(Director), 5500, OPR2['Car'])\n",
    "OPR2['Car'] = np.where(OPR2['Entity'].isin(IE), np.nan, OPR2['Car'])\n",
    "\n",
    "# Pensions calcuations\n",
    "OPR2['FTE Pension'] = np.where(OPR2['Entity'].isin(IE), 0.07, 0.06)\n",
    "#OPR2['FTE Pension'] = np.where(OPR2['BU'].str.startswith(\"IE\"), OPR2[\"FTE Salary\"]* 0.07, OPR2[\"FTE Salary\"]* 0.06 * 1.138)\n",
    "\n",
    "#Allowance = OPR2[[\"FTE Pension\", \"Car\", \"PMI\"]] \n",
    "#OPR2[\"FTE Allowance\"] = Allowance.sum(axis=1)\n"
   ]
  },
  {
   "cell_type": "code",
   "execution_count": null,
   "metadata": {},
   "outputs": [],
   "source": [
    "Output = OPR2.copy()"
   ]
  },
  {
   "cell_type": "markdown",
   "metadata": {},
   "source": [
    "### Drop/Rename Columns"
   ]
  },
  {
   "cell_type": "code",
   "execution_count": null,
   "metadata": {},
   "outputs": [],
   "source": [
    "Output = Output[['GPN', 'LPN', 'LastName', 'FirstName', 'JobCode', 'JobCodeDesc1', 'UJI','UJI Level','UJI Description', 'Pay Band', 'Rank','RankDesc','EYGrade','Job Title','JobFamily','JobFamilyDesc','FTE Salary', 'Actual Salary','PMI','PMI Description', 'Car', 'FTE Pension', 'Entry', 'Mid', 'Top', 'Market Median', 'Compa-Ratio','Entity','BU','BUName','ServiceLine','SubSL1','DepartmentCode1','DepartmentName1','OU','OUName','MU','MUName','SMU','SMUName','Codeblock','LocationCode','LocationCity','LocationAddress1','StandardHours','StandardHoursSalaryAdminPlan','FTE1','EmployeeClass','RegularTemporary','PaygroupCode','EmployeeCategoryCode','EmployeeCategory','CurrentEmploymentDate1','SeniorityPayDate','GUI','EmployeeID1','EmployeeStatus1','CounselorGUI','CounselorName','gTESupervisorGUI','gTESupervisorName','EmailAddress','Gender','Ethnicity','MaritalStatus','DateOfBirth']]"
   ]
  },
  {
   "cell_type": "markdown",
   "metadata": {},
   "source": [
    "### VPS"
   ]
  },
  {
   "cell_type": "code",
   "execution_count": null,
   "metadata": {},
   "outputs": [],
   "source": [
    "# Importing Incident Earnings output from People Insight\n",
    "VPS = pd.read_csv('Incidental Earnings - removed.csv', encoding='latin1')"
   ]
  },
  {
   "cell_type": "code",
   "execution_count": null,
   "metadata": {},
   "outputs": [],
   "source": [
    "Output = pd.merge(Output, VPS, how='left', left_on= ['GPN'], right_on= ['GPN'])"
   ]
  },
  {
   "cell_type": "code",
   "execution_count": null,
   "metadata": {},
   "outputs": [],
   "source": [
    "Output['Position in Band'] = np.where(Output['FTE Salary']==0, '', np.where(pd.isna(Output['Mid']), '', np.where(Output['FTE Salary']<Output['Entry'], 'Below Entry', np.where(Output['FTE Salary']<((Output['Entry']+Output['Mid'])/2), 'Q1', np.where(Output['FTE Salary']<Output['Mid'], 'Q2', np.where(Output['FTE Salary']<((Output['Top']+Output['Mid'])/2), 'Q3', np.where(Output['FTE Salary']<=Output['Top'], 'Q4', 'Exceed Top'))))))) "
   ]
  },
  {
   "cell_type": "markdown",
   "metadata": {},
   "source": [
    "### Salary Survey Match"
   ]
  },
  {
   "cell_type": "code",
   "execution_count": null,
   "metadata": {},
   "outputs": [],
   "source": [
    "submissions = pd.read_csv('2019 Submissions.csv', encoding='latin1')"
   ]
  },
  {
   "cell_type": "code",
   "execution_count": null,
   "metadata": {},
   "outputs": [],
   "source": [
    "Output = pd.merge(Output, submissions, how='left', left_on= ['GPN'], right_on= ['GPN'])"
   ]
  },
  {
   "cell_type": "code",
   "execution_count": null,
   "metadata": {},
   "outputs": [],
   "source": [
    "Output = Output[['GPN', 'LPN', 'LastName_x', 'FirstName_x', 'JobCode', 'JobCodeDesc1', 'UJI','UJI Level','UJI Description', 'Pay Band', 'Rank','RankDesc','EYGrade','Job Title','JobFamily','JobFamilyDesc','FTE Salary', 'Actual Salary','PMI','PMI Description', 'Car', 'FTE Pension', 'Entry', 'Mid', 'Top', 'Position in Band', 'Compa-Ratio','Entity','BU','BUName','ServiceLine','SubSL1','DepartmentCode1','DepartmentName1','OU','OUName','MU','MUName','SMU','SMUName','Codeblock','LocationCode','LocationCity','LocationAddress1','StandardHours','StandardHoursSalaryAdminPlan','FTE1','EmployeeClass','RegularTemporary','PaygroupCode','EmployeeCategoryCode','EmployeeCategory','CurrentEmploymentDate1','SeniorityPayDate','GUI','EmployeeID1','EmployeeStatus1','CounselorGUI','CounselorName','gTESupervisorGUI','gTESupervisorName','EmailAddress','Gender','Ethnicity','MaritalStatus','DateOfBirth', 'Amount1', 'WTW GI','McLagan','KEYPAD','New KEYPAD','Actuarial','Act level','Comp Res','Comp level'\n",
    "]]\n",
    "Output.rename(columns = {'LastName_x':'LastName', 'FirstName_x':'FirstName','Amount1': 'VPS'}, inplace = True)"
   ]
  },
  {
   "cell_type": "markdown",
   "metadata": {},
   "source": [
    "### Exporting"
   ]
  },
  {
   "cell_type": "code",
   "execution_count": null,
   "metadata": {},
   "outputs": [],
   "source": [
    "# Saving as .csv file\n",
    "Output.to_csv(r'C:\\Users\\2022464\\Downloads\\Learning\\Python\\OPR\\Output.csv',encoding='utf-8-sig', index=False)"
   ]
  }
 ],
 "metadata": {
  "kernelspec": {
   "display_name": "Python 3",
   "language": "python",
   "name": "python3"
  },
  "language_info": {
   "codemirror_mode": {
    "name": "ipython",
    "version": 3
   },
   "file_extension": ".py",
   "mimetype": "text/x-python",
   "name": "python",
   "nbconvert_exporter": "python",
   "pygments_lexer": "ipython3",
   "version": "3.8.2"
  }
 },
 "nbformat": 4,
 "nbformat_minor": 4
}
