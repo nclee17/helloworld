{
 "cells": [
  {
   "cell_type": "markdown",
   "metadata": {},
   "source": [
    "### Preparing the pay band master"
   ]
  },
  {
   "cell_type": "code",
   "execution_count": null,
   "metadata": {},
   "outputs": [],
   "source": [
    "import pandas as pd\n",
    "import numpy as np\n",
    "PBM = pd.read_csv('UKI PBM.csv', encoding='latin1')\n",
    "ROI = pd.read_csv('ROI PBM.csv', encoding='latin1')"
   ]
  },
  {
   "cell_type": "code",
   "execution_count": null,
   "metadata": {},
   "outputs": [],
   "source": [
    "import matplotlib.pyplot as plt \n",
    "%matplotlib inline \n",
    "\n",
    "import seaborn as sns"
   ]
  },
  {
   "cell_type": "markdown",
   "metadata": {},
   "source": [
    "### Remove Default UJI"
   ]
  },
  {
   "cell_type": "code",
   "execution_count": null,
   "metadata": {},
   "outputs": [],
   "source": [
    "default=[\"000\",\"010\",\"020\"]\n",
    "\n",
    "PBM = PBM.set_index(\"UJI\")\n",
    "PBM = PBM.drop(default, axis=0)\n",
    "PBM = PBM.reset_index(inplace = False)\n",
    "\n",
    "ROI = ROI.set_index(\"UJI\")\n",
    "ROI = ROI.drop(default, axis=0)\n",
    "ROI = ROI.reset_index(inplace = False)"
   ]
  },
  {
   "cell_type": "markdown",
   "metadata": {},
   "source": [
    "### Selecting columns required for merge"
   ]
  },
  {
   "cell_type": "code",
   "execution_count": null,
   "metadata": {},
   "outputs": [],
   "source": [
    "PBM = PBM[['UJI', 'Location', 'Pay Band', 'Level', 'UJI Library Short Description', 'Entry', 'Mid Point', 'Top']] #Selecting Mid Point instead of derived Mid\n",
    "\n",
    "ROI = ROI[['UJI', 'Location', 'Pay Band', 'Level', 'UJI Library Short Description', 'Entry', 'Mid Point', 'Top']] #Selecting Mid Point instead of derived Mid"
   ]
  },
  {
   "cell_type": "markdown",
   "metadata": {},
   "source": [
    "### Combine UKI and ROI pay band"
   ]
  },
  {
   "cell_type": "code",
   "execution_count": null,
   "metadata": {},
   "outputs": [],
   "source": [
    "PBM = pd.concat([PBM, ROI], ignore_index=True)"
   ]
  },
  {
   "cell_type": "markdown",
   "metadata": {},
   "source": [
    "### Removing Duplicates"
   ]
  },
  {
   "cell_type": "code",
   "execution_count": null,
   "metadata": {},
   "outputs": [],
   "source": [
    "PBM['Mid Point'] = PBM['Mid Point'].astype(str).str.replace(',', '')\n",
    "PBM['Mid Point'] = PBM['Mid Point'].astype(str).str.replace(' ', '').astype(float)\n",
    "PBM = PBM.sort_values(\"Mid Point\", ascending=False)\n",
    "PBM = PBM.drop_duplicates([\"UJI\",\"Location\"])\n",
    "\n",
    "#Sort by UJI\n",
    "PBM = PBM.sort_values(\"UJI\")"
   ]
  },
  {
   "cell_type": "markdown",
   "metadata": {},
   "source": [
    "### Import OPR file"
   ]
  },
  {
   "cell_type": "code",
   "execution_count": null,
   "metadata": {},
   "outputs": [],
   "source": [
    "OPR = pd.read_csv('Operational People Roster.csv')"
   ]
  },
  {
   "cell_type": "markdown",
   "metadata": {},
   "source": [
    "### FTE Salary"
   ]
  },
  {
   "cell_type": "code",
   "execution_count": null,
   "metadata": {},
   "outputs": [],
   "source": [
    "OPR['FTE Salary'] = OPR['AnnualCompensationRate'].astype(str).str.replace(',', '').astype(float).mul(OPR['FTE1'])"
   ]
  },
  {
   "cell_type": "markdown",
   "metadata": {},
   "source": [
    "### Combine with pay band information"
   ]
  },
  {
   "cell_type": "code",
   "execution_count": null,
   "metadata": {},
   "outputs": [],
   "source": [
    "OPR = pd.merge(OPR, PBM, how='left', left_on= ['SalaryGrade','LocationCity'], right_on= ['UJI', 'Location'])"
   ]
  },
  {
   "cell_type": "markdown",
   "metadata": {},
   "source": [
    "### Compa-Ratio"
   ]
  },
  {
   "cell_type": "code",
   "execution_count": null,
   "metadata": {},
   "outputs": [],
   "source": [
    "OPR['Compa-Ratio'] = np.where(OPR['FTE Salary']==0, np.nan, OPR[\"FTE Salary\"]/OPR[\"Mid Point\"].astype(str).str.replace(',', '').astype(float))\n",
    "OPR['Compa-Ratio'] = OPR['Compa-Ratio'].replace(np.inf, np.nan)"
   ]
  },
  {
   "cell_type": "markdown",
   "metadata": {},
   "source": [
    "### Entity"
   ]
  },
  {
   "cell_type": "code",
   "execution_count": null,
   "metadata": {},
   "outputs": [],
   "source": [
    "OPR[\"Entity\"] = np.where(OPR['BU'].str.startswith(\"IE\"), \"ROI\", \"UKI\")\n",
    "OPR['Entity'] = np.where(OPR['BU'].str.startswith(\"GB080\"), \"FSO\", OPR.Entity)\n",
    "ROIFS = [\"IE002\",\"IE032\", \"IE042\", \"IE062\"]\n",
    "OPR['Entity'] = np.where(OPR['BU'].isin(ROIFS), \"ROI FS\", OPR.Entity)\n"
   ]
  },
  {
   "cell_type": "markdown",
   "metadata": {},
   "source": [
    "### Allowances"
   ]
  },
  {
   "cell_type": "code",
   "execution_count": null,
   "metadata": {},
   "outputs": [],
   "source": [
    "from datetime import datetime\n",
    "OPR['CurrentEmploymentDate1']= pd.to_datetime(OPR['CurrentEmploymentDate1'], format='%d-%b-%y')\n",
    "now = pd.Timestamp('now')\n",
    "OPR['Tenure'] = OPR['CurrentEmploymentDate1'].where(OPR['CurrentEmploymentDate1'] < now, OPR['CurrentEmploymentDate1'] -  np.timedelta64(100, 'Y'))\n",
    "OPR['Tenure']= (now - OPR['Tenure']).astype('<m8[Y]')\n",
    "OPR['CurrentEmploymentDate1'] = OPR['CurrentEmploymentDate1'].dt.strftime('%d-%b-%y')"
   ]
  },
  {
   "cell_type": "code",
   "execution_count": null,
   "metadata": {},
   "outputs": [],
   "source": [
    "OPR2 = OPR.copy()\n",
    "OPR2 = OPR2[['GPN', 'LPN', 'LastName', 'FirstName', 'JobCode', 'JobCodeDesc1', 'SalaryGrade','Level','UJI Library Short Description','Rank','RankDesc','EYGrade','BusinessTitleJobPage','JobFamily','JobFamilyDesc','FTE Salary', 'AnnualCompensationRate','Entry', 'Mid Point', 'Top','Compa-Ratio','Entity','BU','BUName','ServiceLine','SubSL1','DepartmentCode1','DepartmentName1','OU','OUName','MU','MUName','SMU','SMUName','Codeblock','LocationCode','LocationCity','LocationAddress1','StandardHours','StandardHoursSalaryAdminPlan','FTE1','EmployeeClass','RegularTemporary','PaygroupCode','EmployeeCategoryCode','EmployeeCategory','CurrentEmploymentDate1','SeniorityPayDate','GUI','EmployeeID1','EmployeeStatus1','CounselorGUI','CounselorName','gTESupervisorGUI','gTESupervisorName','EmailAddress','GenderCode','Ethnicity','MaritalStatus','DateOfBirth','EmployeeRecord', 'Tenure']]\n",
    "OPR2.rename(columns = {'SalaryGrade': 'UJI', 'UJI Library Short Description': 'UJI Description','BusinessTitleJobPage': 'Job Title', 'AnnualCompensationRate': 'Actual Salary', 'Mid Point': 'Mid', 'GenderCode': 'Gender'}, inplace = True)"
   ]
  },
  {
   "cell_type": "code",
   "execution_count": null,
   "metadata": {},
   "outputs": [],
   "source": [
    "Manager=[32, 63]\n",
    "Director=[21, 62, 13, 61]\n",
    "AM=[64,55,42]\n",
    "OPR2['PMI'] = np.where((OPR2['Rank'].isin(Manager)) | (OPR2['Rank'].isin(Director)), 1092.72, np.nan)\n",
    "OPR2['PMI'] = np.where(OPR2['Tenure'] > 4, 1092.72, OPR2['PMI'])\n",
    "\n",
    "OPR2['PMI'] = np.where((OPR2['Tenure'] > 4) & (OPR2['BU'].str.startswith(\"IE\")), np.nan, OPR2['PMI'])\n",
    "OPR2['PMI'] = np.where((OPR2['Rank'].isin(Manager)) & (OPR2['BU'].str.startswith(\"IE\")) |(OPR2['Rank'].isin(AM)) & (OPR2['BU'].str.startswith(\"IE\")) | (OPR2['Rank'].isin(Director)) & (OPR2['BU'].str.startswith(\"IE\")), 660, OPR2['PMI'])\n",
    "\n",
    "OPR2['Car'] = np.where(OPR2['Rank'].isin(Manager), 4500, np.nan)\n",
    "OPR2['Car'] = np.where(OPR2['Rank'].isin(Director), 5500, OPR2['Car'])\n",
    "OPR2['Car'] = np.where(OPR2['BU'].str.startswith(\"IE\"), np.nan, OPR2['Car'])\n",
    "                     \n",
    "OPR2['FTE Pension'] = np.where(OPR2['BU'].str.startswith(\"IE\"), OPR2[\"FTE Salary\"]* 0.07, OPR2[\"FTE Salary\"]* 0.06 * 1.138)\n",
    "Allowance = OPR2[[\"FTE Pension\", \"Car\", \"PMI\"]] \n",
    "OPR2[\"FTE Allowance\"] = Allowance.sum(axis=1)\n"
   ]
  },
  {
   "cell_type": "code",
   "execution_count": null,
   "metadata": {},
   "outputs": [],
   "source": [
    "Output = OPR2.copy()"
   ]
  },
  {
   "cell_type": "markdown",
   "metadata": {},
   "source": [
    "### Drop/Rename Columns"
   ]
  },
  {
   "cell_type": "code",
   "execution_count": null,
   "metadata": {},
   "outputs": [],
   "source": [
    "Output['Entry'] = Output['Entry'].astype(str).str.replace(',', '')\n",
    "Output['Entry'] = Output['Entry'].astype(str).str.replace(' ', '').astype(float)\n",
    "\n",
    "Output['Top'] = Output['Top'].astype(str).str.replace(',', '')\n",
    "Output['Top'] = Output['Top'].astype(str).str.replace(' ', '').astype(float)\n",
    "\n",
    "Output['Actual Salary'] = Output['Actual Salary'].astype(str).str.replace(',', '')\n",
    "Output['Actual Salary'] = Output['Actual Salary'].astype(str).str.replace(' ', '').astype(float)\n",
    "\n",
    "Output['Salary Penetration']= (Output['FTE Salary']-Output['Entry'])/(Output['Top']-Output['Entry'])\n",
    "\n",
    "Output['CurrentEmploymentDate1']= pd.to_datetime(Output['CurrentEmploymentDate1'], format='%d-%b-%y')\n",
    "Output['DateOfBirth']= pd.to_datetime(Output['DateOfBirth'], format='%d-%b-%y')\n",
    "\n",
    "#Output.style.format({'FTE1': \"{:.1%}\",'Compa-Ratio': \"{:.2%}\",'Salary Penetration': \"{:.2%}\"})"
   ]
  },
  {
   "cell_type": "code",
   "execution_count": null,
   "metadata": {},
   "outputs": [],
   "source": [
    "df = Output[['GPN', 'JobCode', 'JobCodeDesc1', 'UJI','Level','UJI Description','Rank','RankDesc','FTE Salary', 'Actual Salary', 'FTE Allowance','Salary Penetration','Compa-Ratio','Entity','BU','BUName','ServiceLine','SubSL1','DepartmentCode1','DepartmentName1','OU','OUName','MU','MUName','SMU','SMUName','LocationCode','LocationCity','FTE1','EmployeeClass','RegularTemporary','EmployeeCategory','CurrentEmploymentDate1','EmployeeStatus1','Gender','Ethnicity','MaritalStatus','DateOfBirth']]"
   ]
  },
  {
   "cell_type": "code",
   "execution_count": null,
   "metadata": {},
   "outputs": [],
   "source": [
    "df.head(5)"
   ]
  },
  {
   "cell_type": "code",
   "execution_count": null,
   "metadata": {},
   "outputs": [],
   "source": [
    "df.shape"
   ]
  },
  {
   "cell_type": "code",
   "execution_count": null,
   "metadata": {},
   "outputs": [],
   "source": [
    "df.dtypes"
   ]
  },
  {
   "cell_type": "markdown",
   "metadata": {},
   "source": [
    "Rank = df.drop_duplicates([\"Rank\",\"RankDesc\"])\n",
    "Rank = Rank[['Rank', 'RankDesc']]\n",
    "Rank"
   ]
  },
  {
   "cell_type": "markdown",
   "metadata": {},
   "source": [
    "#### Rank"
   ]
  },
  {
   "cell_type": "code",
   "execution_count": null,
   "metadata": {},
   "outputs": [],
   "source": [
    "Ass = [66, 44, 57, 55, 56, 58]\n",
    "Snr = [42,65]\n",
    "Mgr = [32, 63]\n",
    "SM= [21, 62]\n",
    "D = [61, 13, ]\n",
    "P = [11]\n",
    "I = [51, 53]\n",
    "N = [4]"
   ]
  },
  {
   "cell_type": "code",
   "execution_count": null,
   "metadata": {},
   "outputs": [],
   "source": [
    "df[('RankDesc')].unique().tolist()"
   ]
  },
  {
   "cell_type": "code",
   "execution_count": null,
   "metadata": {},
   "outputs": [],
   "source": [
    "df.columns.values.tolist()"
   ]
  },
  {
   "cell_type": "markdown",
   "metadata": {},
   "source": [
    "#### Numerical Columns"
   ]
  },
  {
   "cell_type": "code",
   "execution_count": null,
   "metadata": {},
   "outputs": [],
   "source": [
    "# numerical columns\n",
    "numerical_cols = ['FTE Salary', 'Actual Salary', 'FTE Allowance', 'Salary Penetration', 'Compa-Ratio', 'FTE1']\n",
    "# check if contain null\n",
    "df[numerical_cols].isnull().sum()"
   ]
  },
  {
   "cell_type": "code",
   "execution_count": null,
   "metadata": {},
   "outputs": [],
   "source": [
    "np.where(df['Rank'].isin(SM))"
   ]
  },
  {
   "cell_type": "code",
   "execution_count": null,
   "metadata": {},
   "outputs": [],
   "source": [
    "play.head()"
   ]
  },
  {
   "cell_type": "code",
   "execution_count": null,
   "metadata": {},
   "outputs": [],
   "source": [
    "sns.boxplot(data=play, x='Entity', y='FTE Salary', width=.5, hue='Gender');"
   ]
  },
  {
   "cell_type": "markdown",
   "metadata": {},
   "source": [
    "df['DateOfBirth'] = pd.to_datetime(df['DateOfBirth'])\n",
    "df['SeniorityPayDate'] = pd.to_datetime(df['SeniorityPayDate'])\n",
    "df['CurrentEmploymentDate1'] = pd.to_datetime(df['CurrentEmploymentDate1'])\n"
   ]
  },
  {
   "cell_type": "code",
   "execution_count": null,
   "metadata": {},
   "outputs": [],
   "source": [
    "    "
   ]
  },
  {
   "cell_type": "markdown",
   "metadata": {},
   "source": [
    "### Save to CSV"
   ]
  },
  {
   "cell_type": "markdown",
   "metadata": {},
   "source": [
    "df.to_csv(r'C:\\Users\\2022464\\Documents\\Learning\\Python\\OPR\\Explore.csv',encoding='utf-8-sig')"
   ]
  }
 ],
 "metadata": {
  "kernelspec": {
   "display_name": "Python 3",
   "language": "python",
   "name": "python3"
  },
  "language_info": {
   "codemirror_mode": {
    "name": "ipython",
    "version": 3
   },
   "file_extension": ".py",
   "mimetype": "text/x-python",
   "name": "python",
   "nbconvert_exporter": "python",
   "pygments_lexer": "ipython3",
   "version": "3.8.2"
  }
 },
 "nbformat": 4,
 "nbformat_minor": 4
}
