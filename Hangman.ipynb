{
 "cells": [
  {
   "cell_type": "markdown",
   "metadata": {},
   "source": [
    "# Hangman"
   ]
  },
  {
   "cell_type": "code",
   "execution_count": 1,
   "metadata": {},
   "outputs": [],
   "source": [
    "from random import choice\n",
    "from IPython.display import clear_output"
   ]
  },
  {
   "cell_type": "code",
   "execution_count": 2,
   "metadata": {},
   "outputs": [],
   "source": [
    "words = [\"tree\", \"sloth\", \"duck\", \"pond\", \"python\", \"penguin\", \"horse\", \"cat\", \"sleep\", \"eat\", \"quack\"]"
   ]
  },
  {
   "cell_type": "code",
   "execution_count": 3,
   "metadata": {},
   "outputs": [
    {
     "data": {
      "text/plain": [
       "['_ ', '_ ', '_ ', '_ ', '_ ']"
      ]
     },
     "execution_count": 3,
     "metadata": {},
     "output_type": "execute_result"
    }
   ],
   "source": [
    "word=choice(words)\n",
    "guesses = [\"_ \" for i in word]\n",
    "guesses"
   ]
  },
  {
   "cell_type": "code",
   "execution_count": 3,
   "metadata": {},
   "outputs": [],
   "source": [
    "def hangman():\n",
    "    word = choice(words)\n",
    "    guessed, lives, game_over = [], 7, False\n",
    "    guesses = [\"_ \" for i in word]\n",
    "    while not game_over:\n",
    "        hidden_word = \"\".join(guesses)\n",
    "        print(f\"Word to guess: {hidden_word}\")\n",
    "        print(f\"Lives: {lives}\")\n",
    "        ans = input(\"Type quit or guess a letter: \".lower()) \n",
    "        clear_output()\n",
    "        if ans == \"quit\":\n",
    "            print(\"Thank you for playing.\")\n",
    "            game_over = True\n",
    "        elif ans in word and ans not in guessed:\n",
    "            print(\"Correct!\")\n",
    "            for i in range(len(word)):\n",
    "                if word[i] == ans:\n",
    "                    guesses[i] = ans\n",
    "        elif ans in guessed:\n",
    "            print(\"You have already gussed that. Try again.\")\n",
    "        else:\n",
    "            lives -=1\n",
    "            print(\"Incorrect, you lost a life.\")\n",
    "        if ans not in guessed:\n",
    "            guessed.append(ans)\n",
    "        if lives <=0:\n",
    "            print(\"Gameover.\")\n",
    "            game_over = True\n",
    "        elif word == \"\".join(guesses):\n",
    "            print(\"Congratulations!\")\n",
    "            game_over = True"
   ]
  },
  {
   "cell_type": "code",
   "execution_count": 4,
   "metadata": {},
   "outputs": [
    {
     "name": "stdout",
     "output_type": "stream",
     "text": [
      "Correct!\n",
      "Congratulations!\n"
     ]
    }
   ],
   "source": [
    "hangman()"
   ]
  },
  {
   "cell_type": "code",
   "execution_count": null,
   "metadata": {},
   "outputs": [],
   "source": []
  }
 ],
 "metadata": {
  "kernelspec": {
   "display_name": "Python 3",
   "language": "python",
   "name": "python3"
  },
  "language_info": {
   "codemirror_mode": {
    "name": "ipython",
    "version": 3
   },
   "file_extension": ".py",
   "mimetype": "text/x-python",
   "name": "python",
   "nbconvert_exporter": "python",
   "pygments_lexer": "ipython3",
   "version": "3.8.2"
  }
 },
 "nbformat": 4,
 "nbformat_minor": 4
}
