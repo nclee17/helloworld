{
 "cells": [
  {
   "cell_type": "markdown",
   "metadata": {},
   "source": [
    "# Restaurant\n",
    "Practising OOP by creating a restaurant."
   ]
  },
  {
   "cell_type": "code",
   "execution_count": 1,
   "metadata": {},
   "outputs": [],
   "source": [
    "import time\n",
    "class Restaurant:\n",
    "    name=\"Quacky Noms\"\n",
    "    owner=\"Ducky\"\n",
    "    menu={\"starter\": [\"Breadcrumbs\", \"Pizzacrumbs\"], \n",
    "          \"main\": [\"Pizza\", \"Museli\", \"Enemy\"], \n",
    "          \"dessert\": [\"Sweetcorn\", \"Cake\"], \n",
    "          \"drinks\": [\"Coffee\", \"Tea\"]}\n",
    "    starting_inventory= {'Breadcrumbs':5,\n",
    " 'Pizzacrumbs':5,\n",
    " 'Pizza':3,\n",
    " 'Museli':2,\n",
    " 'Enemy':2,\n",
    " 'Sweetcorn':3,\n",
    " 'Cake':3,\n",
    " 'Coffee':5,\n",
    " 'Tea':5}\n",
    "    \n",
    "    price={'Breadcrumbs':5,\n",
    " 'Pizzacrumbs':7,\n",
    " 'Pizza':13,\n",
    " 'Museli':15,\n",
    " 'Enemy':25,\n",
    " 'Sweetcorn':5,\n",
    " 'Cake':8,\n",
    " 'Coffee':2,\n",
    " 'Tea':2}\n",
    "    \n",
    "    inventory=starting_inventory.copy()\n",
    "    standard_setup={2: 4, 4:2, 6:1}\n",
    "    availability=standard_setup.copy()\n",
    "    customers=[]\n",
    "    profit=0\n",
    "    placement=0\n",
    "    ready=False\n",
    "    def __init__(self,location_city, two_seaters=standard_setup[2], four_seaters=standard_setup[4], six_seaters=standard_setup[6]):\n",
    "        \n",
    "        self.city=location_city\n",
    "        self.tables={2:two_seaters, 4:four_seaters, 6:six_seaters}\n",
    "        self.capacity=sum((i*j for i,j in self.tables.items()))\n",
    "\n",
    "    def table(self):\n",
    "        while True:\n",
    "            self.placement=0\n",
    "            try:\n",
    "                people=int(input(f'Welcome to {self.name} in {self.city}, can you let me know how many you are? '))\n",
    "            except:\n",
    "                print('Please provide as an integer.')\n",
    "            else:\n",
    "                break\n",
    "        \n",
    "        available_table=[i for i,j in self.availability.items() if j>0]\n",
    "        if len(available_table)==0:\n",
    "            print(f'Sorry, we are full at the moment')\n",
    "        elif people > max(i for i, j in self.tables.items()):\n",
    "            print(f'Sorry, we have no tables big enough to accommodate your party size of {people}.')\n",
    "        else:\n",
    "            place=list(filter(lambda available_table: available_table>=people, available_table))\n",
    "            if len(place)==0:\n",
    "                print(f\"Sorry, we currently don't have a table big enough to accommodate your party of {people}, please come back later\")\n",
    "            else:\n",
    "                self.placement=place[0]\n",
    "                self.availability[self.placement]-=1\n",
    "                self.customer_no=len(self.customers)\n",
    "                self.customers.append([self.customer_no, self.placement])\n",
    "                self.ready=True\n",
    "\n",
    "                                      \n",
    "    def ordering(self):\n",
    "        print(self.customer_no)\n",
    "        print(f\"\"\"Please take a look at our menu:\n",
    "{self.menu}\"\"\")\n",
    "        time.sleep(1)\n",
    "        # Taking the order and checking if it is offered on the menu\n",
    "        process=True\n",
    "        while process:\n",
    "            ordering=True\n",
    "            while ordering:\n",
    "                ask=input('May I have your order please? ').title().split(\", \")\n",
    "                order= list(filter(lambda ask: ask in [j for i in self.menu.values() for j in i], ask))\n",
    "                not_in_menu=list(filter(lambda ask: ask not in [j for i in self.menu.values() for j in i], ask))\n",
    "                if len(not_in_menu)>0:\n",
    "                    print(f\"Sorry, we do not have {not_in_menu} on our menu.\")\n",
    "                    re_order=input('Would you like to re-do your order? Y/N ').upper()\n",
    "                    if re_order==\"Y\":\n",
    "                        continue\n",
    "                    else:\n",
    "                        ordering=False    \n",
    "                else:\n",
    "                    ordering=False\n",
    "\n",
    "            # Checking if the order is in stock\n",
    "            out_of_stock=[]\n",
    "            for dish in order:\n",
    "                if self.inventory[dish]==0:\n",
    "                    out_of_stock.append(dish)\n",
    "                    order.remove(dish)\n",
    "                else:\n",
    "                    self.inventory[dish]-=1\n",
    "\n",
    "            if out_of_stock:\n",
    "                out_of_stock_dict={i: out_of_stock.count(i) for i in set(out_of_stock)}\n",
    "                print(f\"\"\"Unfortunately these are out of stock from your order:\n",
    "                {out_of_stock_dict}\"\"\")\n",
    "\n",
    "            if order:\n",
    "                final_order={j: order.count(j) for j in set(order)}\n",
    "                print(f\"\"\"Your order:\n",
    "                {final_order}\"\"\")\n",
    "                self.customers[self.customer_no].append(final_order)\n",
    "                process=False\n",
    "                \n",
    "            else:\n",
    "                print(f'You have not ordered anything that is currently available')\n",
    "                continue\n",
    "        return\n",
    "    \n",
    "    def hand_up(self, customer_no):\n",
    "        finish = True\n",
    "        while finish:\n",
    "            bill=input('Would you like your bill now? Y/N ').upper()\n",
    "            if bill==\"Y\":\n",
    "                finish=False\n",
    "            else:\n",
    "                time.sleep(1)\n",
    "                continue\n",
    "        addition =sum(j*self.price[i] for i, j in self.customers[customer_no][2].items())\n",
    "        print(f\"\"\"Your order was:\n",
    "        {self.customers[customer_no][2]}\n",
    "    Your bill comes to €{addition}.\n",
    "    Thank you.\"\"\")\n",
    "        self.availability[self.customers[customer_no][1]]+=1\n",
    "                    \n",
    "    def end_the_day(self):\n",
    "        income= sum(y*self.price[x] for i in self.customers for x,y in i[2].items())\n",
    "        print(f\"Today's income is: €{income} and served {len(self.customers)} tables.\")\n",
    "        re_order =[i for i, j in self.inventory.items() if j<(self.starting_inventory[i]/2)]\n",
    "        print(f\"These are low in stock, please stock up: {re_order}\")\n",
    "    \n",
    "    def start_the_day(self):\n",
    "        self.inventory=self.starting_inventory.copy()\n",
    "        self.availability=self.standard_setup.copy()\n",
    "        self.customers=[]    \n",
    "    \n",
    "    def customer(self):\n",
    "        customer_no=0\n",
    "        self.ready=False\n",
    "        self.table()\n",
    "        if self.ready:\n",
    "            self.ordering()\n",
    "\n"
   ]
  },
  {
   "cell_type": "code",
   "execution_count": 2,
   "metadata": {},
   "outputs": [],
   "source": [
    "coincoin=Restaurant(\"Paris\")"
   ]
  },
  {
   "cell_type": "code",
   "execution_count": 11,
   "metadata": {
    "scrolled": true
   },
   "outputs": [
    {
     "name": "stdout",
     "output_type": "stream",
     "text": [
      "Welcome to Quacky Noms in Paris, can you let me know how many you are? 2\n",
      "1\n",
      "Please take a look at our menu:\n",
      "{'starter': ['Breadcrumbs', 'Pizzacrumbs'], 'main': ['Pizza', 'Museli', 'Enemy'], 'dessert': ['Sweetcorn', 'Cake'], 'drinks': ['Coffee', 'Tea']}\n",
      "May I have your order please? Cake, Cake, Cake, Cake,Cake, Cake, Cake, Cake\n",
      "Sorry, we do not have ['Cake,Cake'] on our menu.\n",
      "Would you like to re-do your order? Y/N Y\n",
      "May I have your order please? Cake, Cake, Cake, Cake, Cake\n",
      "Unfortunately these are out of stock from your order:\n",
      "                {'Cake': 3}\n",
      "Your order:\n",
      "                {'Cake': 2}\n"
     ]
    }
   ],
   "source": [
    "coincoin.customer()"
   ]
  },
  {
   "cell_type": "code",
   "execution_count": 13,
   "metadata": {},
   "outputs": [
    {
     "name": "stdout",
     "output_type": "stream",
     "text": [
      "Would you like your bill now? Y/N Y\n",
      "Your order was:\n",
      "        {'Cake': 2}\n",
      "    Your bill comes to €16.\n",
      "    Thank you.\n"
     ]
    }
   ],
   "source": [
    "coincoin.hand_up(1)"
   ]
  },
  {
   "cell_type": "code",
   "execution_count": 14,
   "metadata": {},
   "outputs": [
    {
     "name": "stdout",
     "output_type": "stream",
     "text": [
      "Today's income is: €40 and served 2 tables.\n",
      "These are low in stock, please stock up: ['Cake']\n"
     ]
    }
   ],
   "source": [
    "coincoin.end_the_day()"
   ]
  },
  {
   "cell_type": "code",
   "execution_count": 9,
   "metadata": {},
   "outputs": [],
   "source": [
    "coincoin.start_the_day()"
   ]
  },
  {
   "cell_type": "markdown",
   "metadata": {},
   "source": [
    "ingredient_list = [\"flour\", \"salt\", \"yogurt\", \"oil\", \"water\", \"yeast\", \"tomato\", \"cheese\", \"mushroom\", \"oat\", \"fruits\", \"chicken\", \"sweetcorn\", \"coffee beans\", \"tea bag\"]\n",
    "\n",
    "ingredients={\"Breadcrumbs\": [\"flour\", \"salt\", \"yogurt\"], \"Pizzacrumbs\": [\"flour\", \"salt\", \"oil\", \"water\", \"yeast\"], \"Pizza\": [\"flour\", \"salt\", \"oil\", \"water\", \"yeast\", \"tomato\", \"cheese\", \"mushroom\"], \"Museli\": [\"oat\", \"yogurt\", \"fruits\"], \"Enemy\": [\"chicken\", \"oil\", \"salt\", \"mushroom\"], \"Sweetcorn\": [\"sweetcorn\"], \"Cake\": [\"flour\", \"yogurt\", \"salt\", \"fruit\"], \"Coffee\":[\"coffee beans\", \"Water\"], \"Tea\": [\"tea bag\", \"Water\"],}\n",
    "\n",
    "starting_inventory={\"flour\": 15, \"salt\": 15, \"yogurt\": 5, \"oil\": 4, \"water\": 30, \"yeast\": 4, \"tomato\": 5, \"cheese\": 7, \"mushroom\": 4, \"oat\":4, \"fruits\":3, \"chicken\":5, \"sweetcorn\":2, \"coffee beans\":6, \"tea bag\":10}"
   ]
  }
 ],
 "metadata": {
  "kernelspec": {
   "display_name": "Python 3",
   "language": "python",
   "name": "python3"
  },
  "language_info": {
   "codemirror_mode": {
    "name": "ipython",
    "version": 3
   },
   "file_extension": ".py",
   "mimetype": "text/x-python",
   "name": "python",
   "nbconvert_exporter": "python",
   "pygments_lexer": "ipython3",
   "version": "3.8.2"
  }
 },
 "nbformat": 4,
 "nbformat_minor": 4
}
