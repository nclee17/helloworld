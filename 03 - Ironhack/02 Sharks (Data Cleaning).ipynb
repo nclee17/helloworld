{
 "cells": [
  {
   "cell_type": "markdown",
   "metadata": {},
   "source": [
    "# Fatal Sharks Attacks in the past 25 years"
   ]
  },
  {
   "cell_type": "markdown",
   "metadata": {},
   "source": [
    "1. <a href=\"#Exploration\">Exploration</a>\n",
    "    1. <a href=\"#Data-Import\">Data Import & Basic Duplicates Removal</a>\n",
    "    2. <a href=\"#Functions\">Tools</a>\n",
    "2. <a href=\"#Data-Cleaning\">Data Cleaning</a>\n",
    "    1. <a href=\"#Cleaning-the-column-names\">Renaming Columns</a>\n",
    "    2. <a href=\"#Column-Removals\">Column Removal</a>\n",
    "        1. <a href=\"#Missing-Rate\">Missing Value Percentage</a>\n",
    "        2. <a href=\"#Dropping-Irrelevant-Columns\">Irrelevance</a>\n",
    "    3. <a href=\"#Empty-Rows\">Empty Rows</a>\n",
    "    4. <a href=\"#Incorrect-Values\">Incorrect Values</a>\n",
    "        1. <a href=\"#Sex\">Sex</a>\n",
    "        2. <a href=\"#Fatal\">Fatal</a>\n",
    "    5. <a href=\"#Missing-Values\">Missing Values</a>\n",
    "        1. <a href=\"#Year\">Year</a><br>\n",
    "    6. <a href=\"#Text-Cleaning\">Text Cleaning</a>\n",
    "        1. <a href=\"#Type\">Type</a>\n",
    "        2. <a href=\"#Country\">Country</a>\n",
    "        3. <a href=\"#Activity\">Activity</a>\n",
    "        4. <a href=\"#Species\">Species</a>\n",
    "3. <a href=\"#Play\">Preliminary Display of Data</a>\n"
   ]
  },
  {
   "cell_type": "code",
   "execution_count": 1,
   "metadata": {},
   "outputs": [],
   "source": [
    "# Import the packages/modules required\n",
    "import os\n",
    "import pandas as pd\n",
    "import numpy as np\n",
    "import matplotlib.pyplot as plt\n",
    "import seaborn as sns\n",
    "from scipy.stats.mstats import winsorize\n",
    "import re\n",
    "sns.set()\n",
    "import kaggle"
   ]
  },
  {
   "cell_type": "markdown",
   "metadata": {},
   "source": [
    "## Data Import"
   ]
  },
  {
   "cell_type": "code",
   "execution_count": 3,
   "metadata": {},
   "outputs": [
    {
     "name": "stdout",
     "output_type": "stream",
     "text": [
      "Downloading global-shark-attacks.zip to C:\\Users\\nclee\\Documents\\Education\\helloworld\n",
      "\n"
     ]
    },
    {
     "name": "stderr",
     "output_type": "stream",
     "text": [
      "\n",
      "  0%|          | 0.00/548k [00:00<?, ?B/s]\n",
      "100%|##########| 548k/548k [00:00<00:00, 12.0MB/s]\n"
     ]
    }
   ],
   "source": [
    "!kaggle datasets download -d teajay/global-shark-attacks --unzip"
   ]
  },
  {
   "cell_type": "code",
   "execution_count": 4,
   "metadata": {},
   "outputs": [],
   "source": [
    "# import csv file\n",
    "df = pd.read_csv('attacks.csv', sep=\",\", encoding = \"latin1\", engine='python')"
   ]
  },
  {
   "cell_type": "code",
   "execution_count": 5,
   "metadata": {},
   "outputs": [],
   "source": [
    "# Dropping duplicate rows of data\n",
    "def del_dup(df):\n",
    "    before = df.shape[0]\n",
    "    df.drop_duplicates(inplace=True)\n",
    "    after = df.shape[0]\n",
    "    print(f\"\"\"{before-after} duplicated rows are removed.\"\"\")"
   ]
  },
  {
   "cell_type": "code",
   "execution_count": 6,
   "metadata": {},
   "outputs": [
    {
     "name": "stdout",
     "output_type": "stream",
     "text": [
      "19411 duplicated rows are removed.\n"
     ]
    }
   ],
   "source": [
    "del_dup(df)"
   ]
  },
  {
   "cell_type": "markdown",
   "metadata": {},
   "source": [
    "## Exploration"
   ]
  },
  {
   "cell_type": "code",
   "execution_count": 7,
   "metadata": {},
   "outputs": [],
   "source": [
    "def des_col(df):\n",
    "    x = {i:df[i].nunique() for i in df.columns}\n",
    "    print(f\"\"\"Current column names and its number of unique values:\"\"\") \n",
    "    for i, j in x.items():\n",
    "        print(f\"\"\"{i}: {j}\"\"\")"
   ]
  },
  {
   "cell_type": "code",
   "execution_count": 8,
   "metadata": {},
   "outputs": [],
   "source": [
    "def explore(df):\n",
    "    print(f\"\"\"There are {df.shape[0]} rows and {df.shape[1]} columns in the data set.\n",
    "\n",
    "Below are the information on the columns with its number of non-null values and the data type:\n",
    "\"\"\")\n",
    "    display(df.info())\n",
    "    des_col(df)"
   ]
  },
  {
   "cell_type": "code",
   "execution_count": 9,
   "metadata": {},
   "outputs": [
    {
     "name": "stdout",
     "output_type": "stream",
     "text": [
      "There are 6312 rows and 24 columns in the data set.\n",
      "\n",
      "Below are the information on the columns with its number of non-null values and the data type:\n",
      "\n",
      "<class 'pandas.core.frame.DataFrame'>\n",
      "Int64Index: 6312 entries, 0 to 25722\n",
      "Data columns (total 24 columns):\n",
      " #   Column                  Non-Null Count  Dtype  \n",
      "---  ------                  --------------  -----  \n",
      " 0   Case Number             6310 non-null   object \n",
      " 1   Date                    6302 non-null   object \n",
      " 2   Year                    6300 non-null   float64\n",
      " 3   Type                    6298 non-null   object \n",
      " 4   Country                 6252 non-null   object \n",
      " 5   Area                    5847 non-null   object \n",
      " 6   Location                5762 non-null   object \n",
      " 7   Activity                5758 non-null   object \n",
      " 8   Name                    6092 non-null   object \n",
      " 9   Sex                     5737 non-null   object \n",
      " 10  Age                     3471 non-null   object \n",
      " 11  Injury                  6274 non-null   object \n",
      " 12  Fatal (Y/N)             5763 non-null   object \n",
      " 13  Time                    2948 non-null   object \n",
      " 14  Species                 3464 non-null   object \n",
      " 15  Investigator or Source  6285 non-null   object \n",
      " 16  pdf                     6302 non-null   object \n",
      " 17  href formula            6301 non-null   object \n",
      " 18  href                    6302 non-null   object \n",
      " 19  Case Number.1           6302 non-null   object \n",
      " 20  Case Number.2           6302 non-null   object \n",
      " 21  original order          6309 non-null   float64\n",
      " 22  Unnamed: 22             1 non-null      object \n",
      " 23  Unnamed: 23             2 non-null      object \n",
      "dtypes: float64(2), object(22)\n",
      "memory usage: 1.2+ MB\n"
     ]
    },
    {
     "data": {
      "text/plain": [
       "None"
      ]
     },
     "metadata": {},
     "output_type": "display_data"
    },
    {
     "name": "stdout",
     "output_type": "stream",
     "text": [
      "Current column names and its number of unique values:\n",
      "Case Number: 6287\n",
      "Date: 5433\n",
      "Year: 249\n",
      "Type: 8\n",
      "Country: 212\n",
      "Area: 825\n",
      "Location: 4108\n",
      "Activity: 1532\n",
      "Name: 5230\n",
      "Sex : 6\n",
      "Age: 157\n",
      "Injury: 3737\n",
      "Fatal (Y/N): 8\n",
      "Time: 366\n",
      "Species : 1549\n",
      "Investigator or Source: 4969\n",
      "pdf: 6291\n",
      "href formula: 6290\n",
      "href: 6285\n",
      "Case Number.1: 6285\n",
      "Case Number.2: 6286\n",
      "original order: 6308\n",
      "Unnamed: 22: 1\n",
      "Unnamed: 23: 2\n"
     ]
    }
   ],
   "source": [
    "explore(df)"
   ]
  },
  {
   "cell_type": "markdown",
   "metadata": {},
   "source": [
    "__Actions:__\n",
    "1. Delete columns that have little non-null values, use a function to drop columns with high missing value percentage:\n",
    "    - \"Unnamed: 22\"\n",
    "    - \"Unnamed: 23\"\n",
    "<br>   \n",
    "2. Missing values:\n",
    "    - \"Time\" more than half of the data are missing, is it useful for analysis?\n",
    "    - \"Age\" a lot are missing, is it useful for analysis?\n",
    "<br> \n",
    "3. Data types:\n",
    "    - \"Date\", \"Year\", \"Time\" can be expected as datetime data type\n",
    "    - \"Age\" is expected to be a numerical value\n",
    "    - \"Fatal\" to be in a boolean data type for Y/N\n",
    "<br>\n",
    "4. Incorrect values:\n",
    "    - \"Sex\" can be expected with output such as M/F/Non-specified\n",
    "    - \"Fatal\" to be expected as Y/N values\n",
    "<br>\n",
    "5. Text Cleansing:\n",
    "    - \"Area\", \"Country\", \"Activity\", \"Injury\", \"Species\"\n",
    "    - \"Location\" a lot of variation in value, may take too long to clean\n",
    "<br>\n",
    "6. Further exploration to check if other columns yield any useful information\n",
    "<br>\n",
    "7. Column names need to be cleansed to remove spaces, and standardized lower case for ease of typing :)\n",
    "    - \"Sex \"\n",
    "    - \"Species \"\n"
   ]
  },
  {
   "cell_type": "code",
   "execution_count": 10,
   "metadata": {
    "scrolled": true
   },
   "outputs": [],
   "source": [
    "def further_look(df):\n",
    "    display(df.head())"
   ]
  },
  {
   "cell_type": "code",
   "execution_count": 11,
   "metadata": {},
   "outputs": [
    {
     "data": {
      "text/html": [
       "<div>\n",
       "<style scoped>\n",
       "    .dataframe tbody tr th:only-of-type {\n",
       "        vertical-align: middle;\n",
       "    }\n",
       "\n",
       "    .dataframe tbody tr th {\n",
       "        vertical-align: top;\n",
       "    }\n",
       "\n",
       "    .dataframe thead th {\n",
       "        text-align: right;\n",
       "    }\n",
       "</style>\n",
       "<table border=\"1\" class=\"dataframe\">\n",
       "  <thead>\n",
       "    <tr style=\"text-align: right;\">\n",
       "      <th></th>\n",
       "      <th>Case Number</th>\n",
       "      <th>Date</th>\n",
       "      <th>Year</th>\n",
       "      <th>Type</th>\n",
       "      <th>Country</th>\n",
       "      <th>Area</th>\n",
       "      <th>Location</th>\n",
       "      <th>Activity</th>\n",
       "      <th>Name</th>\n",
       "      <th>Sex</th>\n",
       "      <th>...</th>\n",
       "      <th>Species</th>\n",
       "      <th>Investigator or Source</th>\n",
       "      <th>pdf</th>\n",
       "      <th>href formula</th>\n",
       "      <th>href</th>\n",
       "      <th>Case Number.1</th>\n",
       "      <th>Case Number.2</th>\n",
       "      <th>original order</th>\n",
       "      <th>Unnamed: 22</th>\n",
       "      <th>Unnamed: 23</th>\n",
       "    </tr>\n",
       "  </thead>\n",
       "  <tbody>\n",
       "    <tr>\n",
       "      <th>0</th>\n",
       "      <td>2018.06.25</td>\n",
       "      <td>25-Jun-2018</td>\n",
       "      <td>2018.0</td>\n",
       "      <td>Boating</td>\n",
       "      <td>USA</td>\n",
       "      <td>California</td>\n",
       "      <td>Oceanside, San Diego County</td>\n",
       "      <td>Paddling</td>\n",
       "      <td>Julie Wolfe</td>\n",
       "      <td>F</td>\n",
       "      <td>...</td>\n",
       "      <td>White shark</td>\n",
       "      <td>R. Collier, GSAF</td>\n",
       "      <td>2018.06.25-Wolfe.pdf</td>\n",
       "      <td>http://sharkattackfile.net/spreadsheets/pdf_di...</td>\n",
       "      <td>http://sharkattackfile.net/spreadsheets/pdf_di...</td>\n",
       "      <td>2018.06.25</td>\n",
       "      <td>2018.06.25</td>\n",
       "      <td>6303.0</td>\n",
       "      <td>NaN</td>\n",
       "      <td>NaN</td>\n",
       "    </tr>\n",
       "    <tr>\n",
       "      <th>1</th>\n",
       "      <td>2018.06.18</td>\n",
       "      <td>18-Jun-2018</td>\n",
       "      <td>2018.0</td>\n",
       "      <td>Unprovoked</td>\n",
       "      <td>USA</td>\n",
       "      <td>Georgia</td>\n",
       "      <td>St. Simon Island, Glynn County</td>\n",
       "      <td>Standing</td>\n",
       "      <td>Adyson McNeely</td>\n",
       "      <td>F</td>\n",
       "      <td>...</td>\n",
       "      <td>NaN</td>\n",
       "      <td>K.McMurray, TrackingSharks.com</td>\n",
       "      <td>2018.06.18-McNeely.pdf</td>\n",
       "      <td>http://sharkattackfile.net/spreadsheets/pdf_di...</td>\n",
       "      <td>http://sharkattackfile.net/spreadsheets/pdf_di...</td>\n",
       "      <td>2018.06.18</td>\n",
       "      <td>2018.06.18</td>\n",
       "      <td>6302.0</td>\n",
       "      <td>NaN</td>\n",
       "      <td>NaN</td>\n",
       "    </tr>\n",
       "    <tr>\n",
       "      <th>2</th>\n",
       "      <td>2018.06.09</td>\n",
       "      <td>09-Jun-2018</td>\n",
       "      <td>2018.0</td>\n",
       "      <td>Invalid</td>\n",
       "      <td>USA</td>\n",
       "      <td>Hawaii</td>\n",
       "      <td>Habush, Oahu</td>\n",
       "      <td>Surfing</td>\n",
       "      <td>John Denges</td>\n",
       "      <td>M</td>\n",
       "      <td>...</td>\n",
       "      <td>NaN</td>\n",
       "      <td>K.McMurray, TrackingSharks.com</td>\n",
       "      <td>2018.06.09-Denges.pdf</td>\n",
       "      <td>http://sharkattackfile.net/spreadsheets/pdf_di...</td>\n",
       "      <td>http://sharkattackfile.net/spreadsheets/pdf_di...</td>\n",
       "      <td>2018.06.09</td>\n",
       "      <td>2018.06.09</td>\n",
       "      <td>6301.0</td>\n",
       "      <td>NaN</td>\n",
       "      <td>NaN</td>\n",
       "    </tr>\n",
       "    <tr>\n",
       "      <th>3</th>\n",
       "      <td>2018.06.08</td>\n",
       "      <td>08-Jun-2018</td>\n",
       "      <td>2018.0</td>\n",
       "      <td>Unprovoked</td>\n",
       "      <td>AUSTRALIA</td>\n",
       "      <td>New South Wales</td>\n",
       "      <td>Arrawarra Headland</td>\n",
       "      <td>Surfing</td>\n",
       "      <td>male</td>\n",
       "      <td>M</td>\n",
       "      <td>...</td>\n",
       "      <td>2 m shark</td>\n",
       "      <td>B. Myatt, GSAF</td>\n",
       "      <td>2018.06.08-Arrawarra.pdf</td>\n",
       "      <td>http://sharkattackfile.net/spreadsheets/pdf_di...</td>\n",
       "      <td>http://sharkattackfile.net/spreadsheets/pdf_di...</td>\n",
       "      <td>2018.06.08</td>\n",
       "      <td>2018.06.08</td>\n",
       "      <td>6300.0</td>\n",
       "      <td>NaN</td>\n",
       "      <td>NaN</td>\n",
       "    </tr>\n",
       "    <tr>\n",
       "      <th>4</th>\n",
       "      <td>2018.06.04</td>\n",
       "      <td>04-Jun-2018</td>\n",
       "      <td>2018.0</td>\n",
       "      <td>Provoked</td>\n",
       "      <td>MEXICO</td>\n",
       "      <td>Colima</td>\n",
       "      <td>La Ticla</td>\n",
       "      <td>Free diving</td>\n",
       "      <td>Gustavo Ramos</td>\n",
       "      <td>M</td>\n",
       "      <td>...</td>\n",
       "      <td>Tiger shark, 3m</td>\n",
       "      <td>A .Kipper</td>\n",
       "      <td>2018.06.04-Ramos.pdf</td>\n",
       "      <td>http://sharkattackfile.net/spreadsheets/pdf_di...</td>\n",
       "      <td>http://sharkattackfile.net/spreadsheets/pdf_di...</td>\n",
       "      <td>2018.06.04</td>\n",
       "      <td>2018.06.04</td>\n",
       "      <td>6299.0</td>\n",
       "      <td>NaN</td>\n",
       "      <td>NaN</td>\n",
       "    </tr>\n",
       "  </tbody>\n",
       "</table>\n",
       "<p>5 rows × 24 columns</p>\n",
       "</div>"
      ],
      "text/plain": [
       "  Case Number         Date    Year        Type    Country             Area  \\\n",
       "0  2018.06.25  25-Jun-2018  2018.0     Boating        USA       California   \n",
       "1  2018.06.18  18-Jun-2018  2018.0  Unprovoked        USA          Georgia   \n",
       "2  2018.06.09  09-Jun-2018  2018.0     Invalid        USA           Hawaii   \n",
       "3  2018.06.08  08-Jun-2018  2018.0  Unprovoked  AUSTRALIA  New South Wales   \n",
       "4  2018.06.04  04-Jun-2018  2018.0    Provoked     MEXICO           Colima   \n",
       "\n",
       "                         Location     Activity             Name Sex   ...  \\\n",
       "0     Oceanside, San Diego County     Paddling      Julie Wolfe    F  ...   \n",
       "1  St. Simon Island, Glynn County     Standing  Adyson McNeely     F  ...   \n",
       "2                    Habush, Oahu      Surfing      John Denges    M  ...   \n",
       "3              Arrawarra Headland      Surfing             male    M  ...   \n",
       "4                        La Ticla  Free diving   Gustavo Ramos     M  ...   \n",
       "\n",
       "          Species           Investigator or Source                       pdf  \\\n",
       "0      White shark                R. Collier, GSAF      2018.06.25-Wolfe.pdf   \n",
       "1              NaN  K.McMurray, TrackingSharks.com    2018.06.18-McNeely.pdf   \n",
       "2              NaN  K.McMurray, TrackingSharks.com     2018.06.09-Denges.pdf   \n",
       "3        2 m shark                  B. Myatt, GSAF  2018.06.08-Arrawarra.pdf   \n",
       "4  Tiger shark, 3m                       A .Kipper      2018.06.04-Ramos.pdf   \n",
       "\n",
       "                                        href formula  \\\n",
       "0  http://sharkattackfile.net/spreadsheets/pdf_di...   \n",
       "1  http://sharkattackfile.net/spreadsheets/pdf_di...   \n",
       "2  http://sharkattackfile.net/spreadsheets/pdf_di...   \n",
       "3  http://sharkattackfile.net/spreadsheets/pdf_di...   \n",
       "4  http://sharkattackfile.net/spreadsheets/pdf_di...   \n",
       "\n",
       "                                                href Case Number.1  \\\n",
       "0  http://sharkattackfile.net/spreadsheets/pdf_di...    2018.06.25   \n",
       "1  http://sharkattackfile.net/spreadsheets/pdf_di...    2018.06.18   \n",
       "2  http://sharkattackfile.net/spreadsheets/pdf_di...    2018.06.09   \n",
       "3  http://sharkattackfile.net/spreadsheets/pdf_di...    2018.06.08   \n",
       "4  http://sharkattackfile.net/spreadsheets/pdf_di...    2018.06.04   \n",
       "\n",
       "  Case Number.2 original order Unnamed: 22 Unnamed: 23  \n",
       "0    2018.06.25         6303.0         NaN         NaN  \n",
       "1    2018.06.18         6302.0         NaN         NaN  \n",
       "2    2018.06.09         6301.0         NaN         NaN  \n",
       "3    2018.06.08         6300.0         NaN         NaN  \n",
       "4    2018.06.04         6299.0         NaN         NaN  \n",
       "\n",
       "[5 rows x 24 columns]"
      ]
     },
     "metadata": {},
     "output_type": "display_data"
    }
   ],
   "source": [
    "further_look(df)"
   ]
  },
  {
   "cell_type": "markdown",
   "metadata": {},
   "source": [
    "__Actions:__\n",
    "1. \"Case Number\", \"Case Number.1\", \"Case Number.2\", \"original order\" does it provide clues on missing \"Date\" / \"Year\"?\n",
    "2. \"Location\" is it too specific if data is all across the world?\n",
    "3. \"Type\" is subject to text cleansing\n",
    "4. Columns to be dropped due to irrelevance to analysis:\n",
    "    - \"Name\" - check exploration to check if contains any useful information\n",
    "    - \"Investigator or Source\"\n",
    "    - \"href formula\"\n",
    "    - \"href\"\n",
    "    - \"Location\"\n",
    "    - \"Area\""
   ]
  },
  {
   "cell_type": "markdown",
   "metadata": {},
   "source": [
    "### Functions"
   ]
  },
  {
   "cell_type": "code",
   "execution_count": 12,
   "metadata": {},
   "outputs": [],
   "source": [
    "# Display the value and the frequency in a column\n",
    "def value_freq(df, col):\n",
    "    print(f\"\"\"The value and its frequency in the {col} column:\n",
    "{df[col].value_counts()}\"\"\")"
   ]
  },
  {
   "cell_type": "code",
   "execution_count": 13,
   "metadata": {},
   "outputs": [],
   "source": [
    "# Display column information\n",
    "def des_cat_col(df, col):\n",
    "    value_freq(df, col)\n",
    "    print(f\"\"\"The {col} column contains {df[col].isna().sum()} missing values.\"\"\")"
   ]
  },
  {
   "cell_type": "code",
   "execution_count": 14,
   "metadata": {},
   "outputs": [],
   "source": [
    "# Stripping the column and taking the first letter as value, typically for M/F or Y/N columns\n",
    "def clean_initial(df, col):\n",
    "    df[col] = df[col].str.strip('^\\w+$ \\t.,%?></~#`¬!£$&*\\]\\[\\}\\{\\\"0123456789').str[0].str.upper()"
   ]
  },
  {
   "cell_type": "code",
   "execution_count": 15,
   "metadata": {},
   "outputs": [],
   "source": [
    "def clean(df, col):\n",
    "    df[col] = df[col].str.strip(\"^\\t\\w+$ .,%?></~#'`¬!£$&*\\]\\[\\}\\{\")\n",
    "    confirm = True\n",
    "    while confirm:\n",
    "        try:\n",
    "            ans = input(\"Want to strip numbers? (Y/N) \").title()[0]\n",
    "        except:\n",
    "            print(f\"\"\"Please input as Y/N \"\"\")\n",
    "        else:\n",
    "            if ans == \"Y\":\n",
    "                df[col] = df[col].str.strip('0123456789 \"')\n",
    "            confirm = False\n"
   ]
  },
  {
   "cell_type": "code",
   "execution_count": 16,
   "metadata": {},
   "outputs": [],
   "source": [
    "# Remove any numbers and '\",.-_/ from the value\n",
    "def removenum(df, col):\n",
    "    df[col] = df[col].str.replace(\"1\", \"\")\n",
    "    df[col] = df[col].str.replace(\"2\", \"\")\n",
    "    df[col] = df[col].str.replace(\"3\", \"\")\n",
    "    df[col] = df[col].str.replace(\"4\", \"\")\n",
    "    df[col] = df[col].str.replace(\"5\", \"\")\n",
    "    df[col] = df[col].str.replace(\"6\", \"\")\n",
    "    df[col] = df[col].str.replace(\"7\", \"\")\n",
    "    df[col] = df[col].str.replace(\"8\", \"\")\n",
    "    df[col] = df[col].str.replace(\"9\", \"\")\n",
    "    df[col] = df[col].str.replace(\"0\", \"\")\n",
    "    df[col] = df[col].str.replace(\"'\", \"\")\n",
    "    df[col] = df[col].str.replace('\"', \"\")\n",
    "    df[col] = df[col].str.replace(',', \" \")\n",
    "    df[col] = df[col].str.replace('.', \" \")\n",
    "    df[col] = df[col].str.replace('_', \" \")\n",
    "    df[col] = df[col].str.replace('-', \" \")\n",
    "    df[col] = df[col].str.replace('/', \" \")\n",
    "    df[col] = df[col].str.replace('?', \" \")\n",
    "    df[col] = df[col].str.replace('!', \" \")\n",
    "    df[col] = df[col].str.replace('#', \" \")\n",
    "    df[col] = df[col].str.replace('*', \" \")\n",
    "    df[col] = df[col].str.replace('^', \" \")\n",
    "    df[col] = df[col].str.replace('£\"', \" \")\n",
    "    df[col] = df[col].str.replace('$', \" \")\n",
    "    df[col] = df[col].str.replace('%', \" \")"
   ]
  },
  {
   "cell_type": "code",
   "execution_count": 17,
   "metadata": {},
   "outputs": [],
   "source": [
    "def replace_contain(df, col, contain, case, value):\n",
    "    df.loc[df[col].str.contains(contain, case=case), col]=value"
   ]
  },
  {
   "cell_type": "markdown",
   "metadata": {},
   "source": [
    "## Data Cleaning\n",
    "### Clearning the column names"
   ]
  },
  {
   "cell_type": "code",
   "execution_count": 18,
   "metadata": {},
   "outputs": [],
   "source": [
    "def clean_cols(df):\n",
    "    print(f\"\"\"Original column names:\n",
    "{df.columns}\"\"\")\n",
    "    cols=[i.lower().strip(r'^\\w+$ ').replace(\" \", \"_\") for i in df.columns]\n",
    "    df.columns=cols\n",
    "    print(f\"\"\"Now renamed to:\n",
    "{df.columns}\"\"\")"
   ]
  },
  {
   "cell_type": "code",
   "execution_count": 19,
   "metadata": {},
   "outputs": [
    {
     "name": "stdout",
     "output_type": "stream",
     "text": [
      "Original column names:\n",
      "Index(['Case Number', 'Date', 'Year', 'Type', 'Country', 'Area', 'Location',\n",
      "       'Activity', 'Name', 'Sex ', 'Age', 'Injury', 'Fatal (Y/N)', 'Time',\n",
      "       'Species ', 'Investigator or Source', 'pdf', 'href formula', 'href',\n",
      "       'Case Number.1', 'Case Number.2', 'original order', 'Unnamed: 22',\n",
      "       'Unnamed: 23'],\n",
      "      dtype='object')\n",
      "Now renamed to:\n",
      "Index(['case_number', 'date', 'year', 'type', 'country', 'area', 'location',\n",
      "       'activity', 'name', 'sex', 'age', 'injury', 'fatal_(y/n)', 'time',\n",
      "       'species', 'investigator_or_source', 'pdf', 'href_formula', 'href',\n",
      "       'case_number.1', 'case_number.2', 'original_order', 'unnamed:_22',\n",
      "       'unnamed:_23'],\n",
      "      dtype='object')\n"
     ]
    }
   ],
   "source": [
    "clean_cols(df)"
   ]
  },
  {
   "cell_type": "markdown",
   "metadata": {},
   "source": [
    "### Column Removals\n",
    "#### Missing Rate"
   ]
  },
  {
   "cell_type": "code",
   "execution_count": 20,
   "metadata": {},
   "outputs": [],
   "source": [
    "# function to delete columns based on the indicated missing value percentage threshold\n",
    "def drop_missingrate(df):\n",
    "    print(f\"\"\"There are currently:\n",
    "{df.shape[0]} rows and {df.shape[1]} columns\"\"\")\n",
    "    drop_perc = round(df.isnull().sum()[df.isnull().sum() > 0]/df.shape[0]*100,2)\n",
    "    print(f\"\"\"The columns with missing values percentages: \n",
    "{drop_perc}\n",
    "\"\"\")\n",
    "    ask = True\n",
    "    while ask:\n",
    "        try:\n",
    "            missing_perc = float(input(\"\"\"Please indicate the missing value percentage threshold (60%-100%)\n",
    "e.g. for 60%, please input as 60 \n",
    "\"\"\"))\n",
    "        except:\n",
    "            print(\"You have input an incorrect format\")\n",
    "        else:\n",
    "            if missing_perc >= 60:\n",
    "                ask = False\n",
    "            else:\n",
    "                print(\"Recommended missing value percentage is between 60% - 100%\")\n",
    "    \n",
    "    drop_cols = drop_perc[drop_perc>missing_perc].index\n",
    "    \n",
    "    print(f\"\"\"The columns recommended to be removed due to having more than {missing_perc}% missing value:\n",
    "{drop_cols}\"\"\")\n",
    "    confirm = True\n",
    "    while confirm:\n",
    "        try:\n",
    "            ans = input(\"Would you like to remove these columns? (Y/N) \").title()[0]\n",
    "        except:\n",
    "            print(f\"\"\"Please input as Y/N \"\"\")\n",
    "        else:\n",
    "            if ans == \"Y\":\n",
    "                df.drop(drop_cols, axis=1, inplace=True)\n",
    "                print(f\"\"\"After removing columns with more than {missing_perc}% missing values, there are:\n",
    "{df.shape[0]} rows and {df.shape[1]} columns.\n",
    "The missing value count for each column:\"\"\")\n",
    "                display(df.isnull().sum())\n",
    "            confirm = False"
   ]
  },
  {
   "cell_type": "code",
   "execution_count": 21,
   "metadata": {},
   "outputs": [
    {
     "name": "stdout",
     "output_type": "stream",
     "text": [
      "There are currently:\n",
      "6312 rows and 24 columns\n",
      "The columns with missing values percentages: \n",
      "case_number                0.03\n",
      "date                       0.16\n",
      "year                       0.19\n",
      "type                       0.22\n",
      "country                    0.95\n",
      "area                       7.37\n",
      "location                   8.71\n",
      "activity                   8.78\n",
      "name                       3.49\n",
      "sex                        9.11\n",
      "age                       45.01\n",
      "injury                     0.60\n",
      "fatal_(y/n)                8.70\n",
      "time                      53.30\n",
      "species                   45.12\n",
      "investigator_or_source     0.43\n",
      "pdf                        0.16\n",
      "href_formula               0.17\n",
      "href                       0.16\n",
      "case_number.1              0.16\n",
      "case_number.2              0.16\n",
      "original_order             0.05\n",
      "unnamed:_22               99.98\n",
      "unnamed:_23               99.97\n",
      "dtype: float64\n",
      "\n",
      "Please indicate the missing value percentage threshold (60%-100%)\n",
      "e.g. for 60%, please input as 60 \n",
      "60\n",
      "The columns recommended to be removed due to having more than 60.0% missing value:\n",
      "Index(['unnamed:_22', 'unnamed:_23'], dtype='object')\n",
      "Would you like to remove these columns? (Y/N) Y\n",
      "After removing columns with more than 60.0% missing values, there are:\n",
      "6312 rows and 22 columns.\n",
      "The missing value count for each column:\n"
     ]
    },
    {
     "data": {
      "text/plain": [
       "case_number                  2\n",
       "date                        10\n",
       "year                        12\n",
       "type                        14\n",
       "country                     60\n",
       "area                       465\n",
       "location                   550\n",
       "activity                   554\n",
       "name                       220\n",
       "sex                        575\n",
       "age                       2841\n",
       "injury                      38\n",
       "fatal_(y/n)                549\n",
       "time                      3364\n",
       "species                   2848\n",
       "investigator_or_source      27\n",
       "pdf                         10\n",
       "href_formula                11\n",
       "href                        10\n",
       "case_number.1               10\n",
       "case_number.2               10\n",
       "original_order               3\n",
       "dtype: int64"
      ]
     },
     "metadata": {},
     "output_type": "display_data"
    }
   ],
   "source": [
    "drop_missingrate(df)"
   ]
  },
  {
   "cell_type": "markdown",
   "metadata": {},
   "source": [
    "Although not yet reach the missing value percentage threshold, it is good to note that \"age\", \"time\", \"species\" contains high percentage of missing values."
   ]
  },
  {
   "cell_type": "markdown",
   "metadata": {},
   "source": [
    "#### Dropping Irrelevant Columns"
   ]
  },
  {
   "cell_type": "code",
   "execution_count": 22,
   "metadata": {},
   "outputs": [],
   "source": [
    "# Declare columns to be removed\n",
    "del_col= [\"href\", \"investigator_or_source\", \"href_formula\", \"location\", \"area\"]\n",
    "df.drop(columns=del_col, inplace=True)"
   ]
  },
  {
   "cell_type": "markdown",
   "metadata": {},
   "source": [
    "Re-examine each column and its number of unique value to focus on the "
   ]
  },
  {
   "cell_type": "code",
   "execution_count": 23,
   "metadata": {
    "scrolled": true
   },
   "outputs": [
    {
     "name": "stdout",
     "output_type": "stream",
     "text": [
      "Current column names and its number of unique values:\n",
      "case_number: 6287\n",
      "date: 5433\n",
      "year: 249\n",
      "type: 8\n",
      "country: 212\n",
      "activity: 1532\n",
      "name: 5230\n",
      "sex: 6\n",
      "age: 157\n",
      "injury: 3737\n",
      "fatal_(y/n): 8\n",
      "time: 366\n",
      "species: 1549\n",
      "pdf: 6291\n",
      "case_number.1: 6285\n",
      "case_number.2: 6286\n",
      "original_order: 6308\n"
     ]
    }
   ],
   "source": [
    "des_col(df)"
   ]
  },
  {
   "cell_type": "markdown",
   "metadata": {},
   "source": [
    "### Empty Rows"
   ]
  },
  {
   "cell_type": "code",
   "execution_count": 39,
   "metadata": {},
   "outputs": [],
   "source": [
    "# Remove rows considered to be empty based on how many values are missing per row\n",
    "def empty_rows(df):\n",
    "    print(f\"\"\"The dataframe has {len(df.columns)} columns.\"\"\")\n",
    "    input_col = True\n",
    "    while input_col:\n",
    "        try:\n",
    "            n_col = int(input(\"Please indicate the missing value threshold for each row: \"))\n",
    "        except:\n",
    "            print(f\"\"\"Please input as a number i.e 8\"\"\")\n",
    "        else:\n",
    "            input_col=False\n",
    "    n_rows = df[df.apply(lambda x: x.isna().sum(), axis=1)>12].shape[0]\n",
    "    confirm = True\n",
    "    print(f\"\"\"There are {n_rows} rows considered to be empty rows.\"\"\")\n",
    "    while confirm:\n",
    "        try:\n",
    "            ans = input(\"Would you like to remove the rows? (Y/N) \").title()[0]\n",
    "        except:\n",
    "            print(f\"\"\"Please input Y/N \"\"\")\n",
    "        else:\n",
    "            if ans ==\"Y\":\n",
    "                df.dropna(thresh=n_col, inplace=True)\n",
    "                print(f\"\"\"{n_rows} rows are removed.\"\"\")\n",
    "            confirm = False"
   ]
  },
  {
   "cell_type": "code",
   "execution_count": 40,
   "metadata": {},
   "outputs": [
    {
     "name": "stdout",
     "output_type": "stream",
     "text": [
      "The dataframe has 17 columns.\n"
     ]
    },
    {
     "name": "stdin",
     "output_type": "stream",
     "text": [
      "Please indicate the missing value threshold for each row:  12\n"
     ]
    },
    {
     "name": "stdout",
     "output_type": "stream",
     "text": [
      "There are 10 rows considered to be empty rows.\n"
     ]
    },
    {
     "name": "stdin",
     "output_type": "stream",
     "text": [
      "Would you like to remove the rows? (Y/N)  y\n"
     ]
    },
    {
     "name": "stdout",
     "output_type": "stream",
     "text": [
      "10 rows are removed.\n"
     ]
    }
   ],
   "source": [
    "# Removing rows with more than 12 missing values\n",
    "empty_rows(df)"
   ]
  },
  {
   "cell_type": "markdown",
   "metadata": {},
   "source": [
    "### Incorrect Values\n",
    "#### Sex"
   ]
  },
  {
   "cell_type": "code",
   "execution_count": 28,
   "metadata": {},
   "outputs": [],
   "source": [
    "# Sex is usually input as \"M\"/\"Male\"/\"F\"/\"Female\" therefore first letter is after stripping is used.\n",
    "def gender(df, col):\n",
    "    gender=[\"M\", \"F\"]\n",
    "    value_freq(df, col)\n",
    "    confirm = True\n",
    "    while confirm:\n",
    "        try:\n",
    "            ans = input('Would you like to proceed to trimming the value to its first letter? (Y/N) ').title()[0]\n",
    "        except:\n",
    "            print(f\"Please input as Y/N \")\n",
    "        else:\n",
    "            if ans == \"Y\":\n",
    "                clean_initial(df, col)\n",
    "            confirm = False\n",
    "    confirm = True\n",
    "    while confirm:\n",
    "        try:\n",
    "            ans = input('Would you like to replace values other than \"M\"/\"F\" to \"Unknown\"? (Y/N) ').title()[0]\n",
    "        except:\n",
    "            print(f\"Please input as Y/N \")\n",
    "        else:\n",
    "            if ans == \"Y\":\n",
    "                x = (df[col].isin(gender)==False).sum()\n",
    "                df.loc[~(df[col].isin(gender)), col] = \"Unknown\"\n",
    "                print(f'''{x} rows in column {col} has been updated to \"Unknown\"\n",
    "''')\n",
    "                value_freq(df,col)\n",
    "            confirm = False\n",
    "        "
   ]
  },
  {
   "cell_type": "code",
   "execution_count": 29,
   "metadata": {
    "scrolled": true
   },
   "outputs": [
    {
     "name": "stdout",
     "output_type": "stream",
     "text": [
      "The value and its frequency in the sex column:\n",
      "M      5094\n",
      "F       637\n",
      "N         2\n",
      "M         2\n",
      "lli       1\n",
      ".         1\n",
      "Name: sex, dtype: int64\n",
      "Would you like to proceed to trimming the value to its first letter? (Y/N) y\n",
      "Would you like to replace values other than \"M\"/\"F\" to \"Unknown\"? (Y/N) y\n",
      "569 rows in column sex has been updated to \"Unknown\"\n",
      "\n",
      "The value and its frequency in the sex column:\n",
      "M          5096\n",
      "F           637\n",
      "Unknown     569\n",
      "Name: sex, dtype: int64\n"
     ]
    }
   ],
   "source": [
    "gender(df, \"sex\")"
   ]
  },
  {
   "cell_type": "code",
   "execution_count": 30,
   "metadata": {},
   "outputs": [
    {
     "data": {
      "text/html": [
       "<div>\n",
       "<style scoped>\n",
       "    .dataframe tbody tr th:only-of-type {\n",
       "        vertical-align: middle;\n",
       "    }\n",
       "\n",
       "    .dataframe tbody tr th {\n",
       "        vertical-align: top;\n",
       "    }\n",
       "\n",
       "    .dataframe thead th {\n",
       "        text-align: right;\n",
       "    }\n",
       "</style>\n",
       "<table border=\"1\" class=\"dataframe\">\n",
       "  <thead>\n",
       "    <tr style=\"text-align: right;\">\n",
       "      <th></th>\n",
       "      <th>name</th>\n",
       "      <th>sex</th>\n",
       "    </tr>\n",
       "  </thead>\n",
       "  <tbody>\n",
       "    <tr>\n",
       "      <th>2225</th>\n",
       "      <td>male</td>\n",
       "      <td>Unknown</td>\n",
       "    </tr>\n",
       "    <tr>\n",
       "      <th>3049</th>\n",
       "      <td>male</td>\n",
       "      <td>Unknown</td>\n",
       "    </tr>\n",
       "    <tr>\n",
       "      <th>3452</th>\n",
       "      <td>male</td>\n",
       "      <td>Unknown</td>\n",
       "    </tr>\n",
       "    <tr>\n",
       "      <th>4338</th>\n",
       "      <td>male</td>\n",
       "      <td>Unknown</td>\n",
       "    </tr>\n",
       "    <tr>\n",
       "      <th>4467</th>\n",
       "      <td>male</td>\n",
       "      <td>Unknown</td>\n",
       "    </tr>\n",
       "    <tr>\n",
       "      <th>6062</th>\n",
       "      <td>male</td>\n",
       "      <td>Unknown</td>\n",
       "    </tr>\n",
       "    <tr>\n",
       "      <th>6108</th>\n",
       "      <td>male</td>\n",
       "      <td>Unknown</td>\n",
       "    </tr>\n",
       "  </tbody>\n",
       "</table>\n",
       "</div>"
      ],
      "text/plain": [
       "      name      sex\n",
       "2225  male  Unknown\n",
       "3049  male  Unknown\n",
       "3452  male  Unknown\n",
       "4338  male  Unknown\n",
       "4467  male  Unknown\n",
       "6062  male  Unknown\n",
       "6108  male  Unknown"
      ]
     },
     "execution_count": 30,
     "metadata": {},
     "output_type": "execute_result"
    }
   ],
   "source": [
    "# Data entry mistakes often occurs with \"Sex\" being store in the \"Name\" column\n",
    "gender=[\"male\", \"female\", \"girl\", \"boy\", \"man\", \"woman\", \"men\", \"women\"]\n",
    "df.loc[(df['name'].str.lower().isin(gender))&(df['sex']==\"Unknown\"),['name','sex']]"
   ]
  },
  {
   "cell_type": "code",
   "execution_count": 31,
   "metadata": {
    "scrolled": true
   },
   "outputs": [
    {
     "name": "stdout",
     "output_type": "stream",
     "text": [
      "The value and its frequency in the sex column:\n",
      "M          5103\n",
      "F           637\n",
      "Unknown     562\n",
      "Name: sex, dtype: int64\n"
     ]
    }
   ],
   "source": [
    "# Fill in the missing info\n",
    "df.loc[(df['name'].str.lower().isin(gender))&(df['sex']==\"Unknown\"),'sex']=df['name'].str[0].str.upper()\n",
    "value_freq(df, \"sex\")"
   ]
  },
  {
   "cell_type": "markdown",
   "metadata": {},
   "source": [
    "#### Fatal"
   ]
  },
  {
   "cell_type": "code",
   "execution_count": 32,
   "metadata": {},
   "outputs": [],
   "source": [
    "# Renaming the column to \"fatal\"\n",
    "df.rename(columns={'fatal_(y/n)' : 'fatal'}, inplace=True)"
   ]
  },
  {
   "cell_type": "code",
   "execution_count": 33,
   "metadata": {},
   "outputs": [],
   "source": [
    "def yes_no(df, col):\n",
    "    yn = [\"Y\", \"N\"]\n",
    "    value_freq(df, col)\n",
    "    clean_initial(df, col)\n",
    "    confirm = True\n",
    "    while confirm:\n",
    "        try:\n",
    "            ans = input('Would you like to replace values other than \"Y\"/\"N\" to \"Unknown\"? (Y/N) ').title()[0]            \n",
    "        except:\n",
    "            print(f\"Please input as Y/N \")\n",
    "        else:\n",
    "            if ans == \"Y\":\n",
    "                x = (df[col].isin(yn)==False).sum()\n",
    "                df.loc[~(df[col].isin(yn)), col] = \"Unknown\"\n",
    "                print(f'''{x} rows in column {col} has been updated to \"Unknown\"\n",
    "#''')\n",
    "                value_freq(df,col)\n",
    "            confirm = False"
   ]
  },
  {
   "cell_type": "code",
   "execution_count": 34,
   "metadata": {
    "scrolled": true
   },
   "outputs": [
    {
     "name": "stdout",
     "output_type": "stream",
     "text": [
      "The value and its frequency in the fatal column:\n",
      "N          4293\n",
      "Y          1388\n",
      "UNKNOWN      71\n",
      " N            7\n",
      "y             1\n",
      "M             1\n",
      "2017          1\n",
      "N             1\n",
      "Name: fatal, dtype: int64\n",
      "Would you like to replace values other than \"Y\"/\"N\" to \"Unknown\"? (Y/N) y\n",
      "612 rows in column fatal has been updated to \"Unknown\"\n",
      "#\n",
      "The value and its frequency in the fatal column:\n",
      "N          4301\n",
      "Y          1389\n",
      "Unknown     612\n",
      "Name: fatal, dtype: int64\n"
     ]
    }
   ],
   "source": [
    "yes_no(df, \"fatal\")"
   ]
  },
  {
   "cell_type": "code",
   "execution_count": 35,
   "metadata": {},
   "outputs": [],
   "source": [
    "# \"injury\" may provide the missing data on fatality\n",
    "df[df[\"injury\"].map(lambda x: isinstance(x, str) and \"fatal\" in x.lower())].injury.to_dict();"
   ]
  },
  {
   "cell_type": "code",
   "execution_count": 36,
   "metadata": {},
   "outputs": [],
   "source": [
    "# \"injury\" may provide the missing data on fatality\n",
    "df[df[\"injury\"].map(lambda x: isinstance(x, str) and \"death\" in x.lower())].injury.to_dict();"
   ]
  },
  {
   "cell_type": "code",
   "execution_count": 37,
   "metadata": {},
   "outputs": [
    {
     "name": "stderr",
     "output_type": "stream",
     "text": [
      "<ipython-input-37-dd756b2e65eb>:2: SettingWithCopyWarning: \n",
      "A value is trying to be set on a copy of a slice from a DataFrame\n",
      "\n",
      "See the caveats in the documentation: https://pandas.pydata.org/pandas-docs/stable/user_guide/indexing.html#returning-a-view-versus-a-copy\n",
      "  df.fatal[df[\"injury\"].map(lambda x: isinstance(x, str) and \"fatal\" in x.lower())]='Y'\n",
      "<ipython-input-37-dd756b2e65eb>:3: SettingWithCopyWarning: \n",
      "A value is trying to be set on a copy of a slice from a DataFrame\n",
      "\n",
      "See the caveats in the documentation: https://pandas.pydata.org/pandas-docs/stable/user_guide/indexing.html#returning-a-view-versus-a-copy\n",
      "  df.fatal[df[\"injury\"].map(lambda x: isinstance(x, str) and \"death\" in x.lower())]='Y'\n"
     ]
    }
   ],
   "source": [
    "# update missing values\n",
    "df.fatal[df[\"injury\"].map(lambda x: isinstance(x, str) and \"fatal\" in x.lower())]='Y'\n",
    "df.fatal[df[\"injury\"].map(lambda x: isinstance(x, str) and \"death\" in x.lower())]='Y'"
   ]
  },
  {
   "cell_type": "markdown",
   "metadata": {},
   "source": [
    "## Missing Values\n",
    "### Year"
   ]
  },
  {
   "cell_type": "code",
   "execution_count": 38,
   "metadata": {},
   "outputs": [
    {
     "data": {
      "text/plain": [
       "array([2018., 2017.,   nan, 2016., 2015., 2014., 2013., 2012., 2011.,\n",
       "       2010., 2009., 2008., 2007., 2006., 2005., 2004., 2003., 2002.,\n",
       "       2001., 2000., 1999., 1998., 1997., 1996., 1995., 1984., 1994.,\n",
       "       1993., 1992., 1991., 1990., 1989., 1969., 1988., 1987., 1986.,\n",
       "       1985., 1983., 1982., 1981., 1980., 1979., 1978., 1977., 1976.,\n",
       "       1975., 1974., 1973., 1972., 1971., 1970., 1968., 1967., 1966.,\n",
       "       1965., 1964., 1963., 1962., 1961., 1960., 1959., 1958., 1957.,\n",
       "       1956., 1955., 1954., 1953., 1952., 1951., 1950., 1949., 1948.,\n",
       "       1848., 1947., 1946., 1945., 1944., 1943., 1942., 1941., 1940.,\n",
       "       1939., 1938., 1937., 1936., 1935., 1934., 1933., 1932., 1931.,\n",
       "       1930., 1929., 1928., 1927., 1926., 1925., 1924., 1923., 1922.,\n",
       "       1921., 1920., 1919., 1918., 1917., 1916., 1915., 1914., 1913.,\n",
       "       1912., 1911., 1910., 1909., 1908., 1907., 1906., 1905., 1904.,\n",
       "       1903., 1902., 1901., 1900., 1899., 1898., 1897., 1896., 1895.,\n",
       "       1894., 1893., 1892., 1891., 1890., 1889., 1888., 1887., 1886.,\n",
       "       1885., 1884., 1883., 1882., 1881., 1880., 1879., 1878., 1877.,\n",
       "       1876., 1875., 1874., 1873., 1872., 1871., 1870., 1869., 1868.,\n",
       "       1867., 1866., 1865., 1864., 1863., 1862., 1861., 1860., 1859.,\n",
       "       1858., 1857., 1856., 1855., 1853., 1852., 1851., 1850., 1849.,\n",
       "       1847., 1846., 1845., 1844., 1842., 1841., 1840., 1839., 1837.,\n",
       "       1836., 1835., 1834., 1832., 1831., 1830., 1829., 1828., 1827.,\n",
       "       1826., 1825., 1823., 1822., 1819., 1818., 1817., 1816., 1815.,\n",
       "       1812., 1811., 1810., 1808., 1807., 1805., 1804., 1803., 1802.,\n",
       "       1801., 1800., 1797., 1792., 1791., 1788., 1787., 1786., 1785.,\n",
       "       1784., 1783., 1780., 1779., 1776., 1771., 1767., 1764., 1758.,\n",
       "       1753., 1751., 1749., 1755., 1748., 1742., 1738., 1733., 1723.,\n",
       "       1721., 1703., 1700., 1642., 1638., 1637., 1617., 1595., 1580.,\n",
       "       1555., 1554., 1543.,  500.,   77.,    5.,    0.])"
      ]
     },
     "execution_count": 38,
     "metadata": {},
     "output_type": "execute_result"
    }
   ],
   "source": [
    "# All the values in \"year\" to examine\n",
    "df.year.unique()"
   ]
  },
  {
   "cell_type": "code",
   "execution_count": 39,
   "metadata": {},
   "outputs": [
    {
     "data": {
      "text/plain": [
       "2"
      ]
     },
     "execution_count": 39,
     "metadata": {},
     "output_type": "execute_result"
    }
   ],
   "source": [
    "# Examine the number of missing values\n",
    "df.year.isna().sum()"
   ]
  },
  {
   "cell_type": "code",
   "execution_count": 40,
   "metadata": {},
   "outputs": [
    {
     "name": "stderr",
     "output_type": "stream",
     "text": [
      "<ipython-input-40-7d56757e204c>:2: UserWarning: Boolean Series key will be reindexed to match DataFrame index.\n",
      "  df[df.year.isna()][((df.case_number.str[:4])==((df['case_number.1']).str[:4])) & ((df.case_number.str[:4])==((df['case_number.2']).str[:4]))]\n"
     ]
    },
    {
     "data": {
      "text/html": [
       "<div>\n",
       "<style scoped>\n",
       "    .dataframe tbody tr th:only-of-type {\n",
       "        vertical-align: middle;\n",
       "    }\n",
       "\n",
       "    .dataframe tbody tr th {\n",
       "        vertical-align: top;\n",
       "    }\n",
       "\n",
       "    .dataframe thead th {\n",
       "        text-align: right;\n",
       "    }\n",
       "</style>\n",
       "<table border=\"1\" class=\"dataframe\">\n",
       "  <thead>\n",
       "    <tr style=\"text-align: right;\">\n",
       "      <th></th>\n",
       "      <th>case_number</th>\n",
       "      <th>date</th>\n",
       "      <th>year</th>\n",
       "      <th>type</th>\n",
       "      <th>country</th>\n",
       "      <th>activity</th>\n",
       "      <th>name</th>\n",
       "      <th>sex</th>\n",
       "      <th>age</th>\n",
       "      <th>injury</th>\n",
       "      <th>fatal</th>\n",
       "      <th>time</th>\n",
       "      <th>species</th>\n",
       "      <th>pdf</th>\n",
       "      <th>case_number.1</th>\n",
       "      <th>case_number.2</th>\n",
       "      <th>original_order</th>\n",
       "    </tr>\n",
       "  </thead>\n",
       "  <tbody>\n",
       "    <tr>\n",
       "      <th>187</th>\n",
       "      <td>2017.01.08.R</td>\n",
       "      <td>Reported 08-Jan-2017</td>\n",
       "      <td>NaN</td>\n",
       "      <td>Invalid</td>\n",
       "      <td>AUSTRALIA</td>\n",
       "      <td>Spearfishing</td>\n",
       "      <td>Kerry Daniel</td>\n",
       "      <td>M</td>\n",
       "      <td>35</td>\n",
       "      <td>No attack, shark made a threat display</td>\n",
       "      <td>Unknown</td>\n",
       "      <td>NaN</td>\n",
       "      <td>Bull shark</td>\n",
       "      <td>2017.01.08.R-KerryDaniel.pdf</td>\n",
       "      <td>2017.01.08.R</td>\n",
       "      <td>2017.01.08.R</td>\n",
       "      <td>6116.0</td>\n",
       "    </tr>\n",
       "    <tr>\n",
       "      <th>6079</th>\n",
       "      <td>1836.08.19.R</td>\n",
       "      <td>Reported 19-Aug-1836</td>\n",
       "      <td>NaN</td>\n",
       "      <td>Unprovoked</td>\n",
       "      <td>ENGLAND</td>\n",
       "      <td>Swimming</td>\n",
       "      <td>a boy</td>\n",
       "      <td>M</td>\n",
       "      <td>NaN</td>\n",
       "      <td>FATAL</td>\n",
       "      <td>Y</td>\n",
       "      <td>NaN</td>\n",
       "      <td>NaN</td>\n",
       "      <td>1835.08.19.R-Whitehaven.pdf</td>\n",
       "      <td>1836.08.19.R</td>\n",
       "      <td>1836.08.19.R</td>\n",
       "      <td>224.0</td>\n",
       "    </tr>\n",
       "  </tbody>\n",
       "</table>\n",
       "</div>"
      ],
      "text/plain": [
       "       case_number                  date  year        type    country  \\\n",
       "187   2017.01.08.R  Reported 08-Jan-2017   NaN     Invalid  AUSTRALIA   \n",
       "6079  1836.08.19.R  Reported 19-Aug-1836   NaN  Unprovoked    ENGLAND   \n",
       "\n",
       "          activity          name sex  age  \\\n",
       "187   Spearfishing  Kerry Daniel   M   35   \n",
       "6079      Swimming         a boy   M  NaN   \n",
       "\n",
       "                                      injury    fatal time     species  \\\n",
       "187   No attack, shark made a threat display  Unknown  NaN  Bull shark   \n",
       "6079                                   FATAL        Y  NaN         NaN   \n",
       "\n",
       "                               pdf case_number.1 case_number.2  original_order  \n",
       "187   2017.01.08.R-KerryDaniel.pdf  2017.01.08.R  2017.01.08.R          6116.0  \n",
       "6079   1835.08.19.R-Whitehaven.pdf  1836.08.19.R  1836.08.19.R           224.0  "
      ]
     },
     "execution_count": 40,
     "metadata": {},
     "output_type": "execute_result"
    }
   ],
   "source": [
    "# Can \"case_number\" provide the missing info? (checking value against \"case_number.1\" and \"case_number.2\")\n",
    "df[df.year.isna()][((df.case_number.str[:4])==((df['case_number.1']).str[:4])) & ((df.case_number.str[:4])==((df['case_number.2']).str[:4]))]"
   ]
  },
  {
   "cell_type": "markdown",
   "metadata": {},
   "source": [
    "Two of the missing value can be filled in with the information from \"case_number\"/\"case_number.1\"/\"case_number.2\""
   ]
  },
  {
   "cell_type": "code",
   "execution_count": 41,
   "metadata": {},
   "outputs": [
    {
     "name": "stderr",
     "output_type": "stream",
     "text": [
      "<ipython-input-41-e77b917fc602>:2: UserWarning: Boolean Series key will be reindexed to match DataFrame index.\n",
      "  x=df[df.year.isna()][((df.case_number.str[:4])==((df['case_number.1']).str[:4])) & ((df.case_number.str[:4])==((df['case_number.2']).str[:4]))]\n"
     ]
    }
   ],
   "source": [
    "# Update the missing values from the information of the other columns\n",
    "x=df[df.year.isna()][((df.case_number.str[:4])==((df['case_number.1']).str[:4])) & ((df.case_number.str[:4])==((df['case_number.2']).str[:4]))]\n",
    "df.loc[x.index, \"year\"]=df.case_number.str[:4]\n",
    "df.year=pd.to_numeric(df['year'],errors='coerce')"
   ]
  },
  {
   "cell_type": "code",
   "execution_count": 42,
   "metadata": {},
   "outputs": [
    {
     "data": {
      "text/plain": [
       "0"
      ]
     },
     "execution_count": 42,
     "metadata": {},
     "output_type": "execute_result"
    }
   ],
   "source": [
    "# Examine the number of missing values\n",
    "df.year.isna().sum()"
   ]
  },
  {
   "cell_type": "markdown",
   "metadata": {},
   "source": [
    "Since the analysis only concerns with the shark activities in the past 25 years, any records before 1995 will be dropped"
   ]
  },
  {
   "cell_type": "code",
   "execution_count": 43,
   "metadata": {},
   "outputs": [],
   "source": [
    "df.drop(df[df.year<1995].index, axis=0, inplace=True)"
   ]
  },
  {
   "cell_type": "markdown",
   "metadata": {},
   "source": [
    "### Text Cleaning\n",
    "#### Type"
   ]
  },
  {
   "cell_type": "code",
   "execution_count": 44,
   "metadata": {},
   "outputs": [
    {
     "name": "stdout",
     "output_type": "stream",
     "text": [
      "The value and its frequency in the type column:\n",
      "Unprovoked      1901\n",
      "Invalid          192\n",
      "Provoked         174\n",
      "Boating           86\n",
      "Boat              29\n",
      "Sea Disaster      17\n",
      "Questionable       2\n",
      "Boatomg            1\n",
      "Name: type, dtype: int64\n",
      "The type column contains 2 missing values.\n"
     ]
    }
   ],
   "source": [
    "des_cat_col(df, \"type\")"
   ]
  },
  {
   "cell_type": "markdown",
   "metadata": {},
   "source": [
    "\"Type\" is a categorical data where it needs to be cleansed."
   ]
  },
  {
   "cell_type": "code",
   "execution_count": 45,
   "metadata": {},
   "outputs": [
    {
     "name": "stdout",
     "output_type": "stream",
     "text": [
      "The value and its frequency in the type column:\n",
      "Unprovoked      1901\n",
      "Unknown          196\n",
      "Provoked         174\n",
      "Boating          116\n",
      "Sea Disaster      17\n",
      "Name: type, dtype: int64\n",
      "The type column contains 0 missing values.\n"
     ]
    }
   ],
   "source": [
    "df['type']=df['type'].fillna(\"Unknown\")\n",
    "replace_contain(df, \"type\", \"boat\", False, \"Boating\")\n",
    "df.loc[df['type'].isin([\"Questionable\", \"Invalid\"]), \"type\"] = \"Unknown\"\n",
    "des_cat_col(df,\"type\")"
   ]
  },
  {
   "cell_type": "markdown",
   "metadata": {},
   "source": [
    "#### Country"
   ]
  },
  {
   "cell_type": "code",
   "execution_count": 46,
   "metadata": {},
   "outputs": [
    {
     "name": "stdout",
     "output_type": "stream",
     "text": [
      "The value and its frequency in the country column:\n",
      "USA                     1180\n",
      "AUSTRALIA                434\n",
      "SOUTH AFRICA             173\n",
      "BRAZIL                    78\n",
      "BAHAMAS                   59\n",
      "                        ... \n",
      "ARUBA                      1\n",
      "NORTHERN ARABIAN SEA       1\n",
      "Sierra Leone               1\n",
      "ST. MAARTIN                1\n",
      "Fiji                       1\n",
      "Name: country, Length: 102, dtype: int64\n",
      "The country column contains 2 missing values.\n"
     ]
    }
   ],
   "source": [
    "des_cat_col(df, \"country\")"
   ]
  },
  {
   "cell_type": "code",
   "execution_count": 47,
   "metadata": {},
   "outputs": [
    {
     "name": "stdout",
     "output_type": "stream",
     "text": [
      "Want to strip numbers? (Y/N) \n",
      "Please input as Y/N \n",
      "Want to strip numbers? (Y/N) y\n"
     ]
    }
   ],
   "source": [
    "# Standardizing the country to uppercase and fill in the missing values\n",
    "df['country']=df['country'].str.upper()\n",
    "df['country']=df['country'].fillna(\"UNKNOWN\")\n",
    "removenum(df, \"country\")\n",
    "clean(df,\"country\")\n",
    "df['country']=df['country'].str.replace(\"  \", \" \")"
   ]
  },
  {
   "cell_type": "code",
   "execution_count": 48,
   "metadata": {},
   "outputs": [
    {
     "data": {
      "text/plain": [
       "array(['ST HELENA BRITISH OVERSEAS TERRITORY', 'CARIBBEAN SEA',\n",
       "       'NORTHERN ARABIAN SEA'], dtype=object)"
      ]
     },
     "execution_count": 48,
     "metadata": {},
     "output_type": "execute_result"
    }
   ],
   "source": [
    "df[df['country'].str.contains(\"sea\", case=False)][\"country\"].unique()"
   ]
  },
  {
   "cell_type": "code",
   "execution_count": 49,
   "metadata": {},
   "outputs": [],
   "source": [
    "# Interested in countries, not the sea, therefore removing these entries with \"sea\"\n",
    "replace_contain(df, \"country\", \"st helena\", False, \"ST HELENA\")\n",
    "replace_contain(df, \"country\", \"sea\", False, \"UNKNOWN\")"
   ]
  },
  {
   "cell_type": "code",
   "execution_count": 50,
   "metadata": {},
   "outputs": [
    {
     "data": {
      "text/plain": [
       "array(['ATLANTIC OCEAN'], dtype=object)"
      ]
     },
     "execution_count": 50,
     "metadata": {},
     "output_type": "execute_result"
    }
   ],
   "source": [
    "df[df['country'].str.contains(\"ocean\", case=False)][\"country\"].unique()"
   ]
  },
  {
   "cell_type": "code",
   "execution_count": 51,
   "metadata": {
    "scrolled": true
   },
   "outputs": [],
   "source": [
    "# Interested in countries, not the ocean, therefore removing these entries with \"ocean\"\n",
    "replace_contain(df, \"country\", \"ocean\", False, \"UNKNOWN\")"
   ]
  },
  {
   "cell_type": "code",
   "execution_count": 52,
   "metadata": {},
   "outputs": [
    {
     "data": {
      "text/plain": [
       "array(['GULF OF ADEN'], dtype=object)"
      ]
     },
     "execution_count": 52,
     "metadata": {},
     "output_type": "execute_result"
    }
   ],
   "source": [
    "df[df['country'].str.contains(\"gulf\", case=False)][\"country\"].unique()"
   ]
  },
  {
   "cell_type": "code",
   "execution_count": 53,
   "metadata": {},
   "outputs": [],
   "source": [
    "# Interested in countries, not the gulf, therefore removing these entries with \"gulf\"\n",
    "replace_contain(df, \"country\", \"gulf\", False, \"UNKNOWN\")"
   ]
  },
  {
   "cell_type": "code",
   "execution_count": 54,
   "metadata": {},
   "outputs": [
    {
     "data": {
      "text/plain": [
       "array(['USA', 'AUSTRALIA', 'MEXICO', 'BRAZIL', 'ENGLAND', 'SOUTH AFRICA',\n",
       "       'THAILAND', 'COSTA RICA', 'MALDIVES', 'BAHAMAS', 'NEW CALEDONIA',\n",
       "       'ECUADOR', 'MALAYSIA', 'LIBYA', 'UNKNOWN', 'CUBA', 'MAURITIUS',\n",
       "       'NEW ZEALAND', 'SPAIN', 'SAMOA', 'SOLOMON ISLANDS', 'JAPAN',\n",
       "       'EGYPT', 'ST HELENA', 'COMOROS', 'REUNION', 'FRENCH POLYNESIA',\n",
       "       'UNITED KINGDOM', 'UNITED ARAB EMIRATES', 'PHILIPPINES',\n",
       "       'INDONESIA', 'CHINA', 'COLUMBIA', 'CAPE VERDE', 'FIJI',\n",
       "       'DOMINICAN REPUBLIC', 'CAYMAN ISLANDS', 'ARUBA', 'MOZAMBIQUE',\n",
       "       'PUERTO RICO', 'ITALY', 'GREECE', 'ST MARTIN', 'FRANCE',\n",
       "       'PAPUA NEW GUINEA', 'TRINIDAD & TOBAGO', 'KIRIBATI', 'ISRAEL',\n",
       "       'DIEGO GARCIA', 'TAIWAN', 'JAMAICA', 'PALESTINIAN TERRITORIES',\n",
       "       'GUAM', 'SEYCHELLES', 'BELIZE', 'NIGERIA', 'TONGA', 'SCOTLAND',\n",
       "       'CANADA', 'CROATIA', 'SAUDI ARABIA', 'CHILE', 'ANTIGUA', 'KENYA',\n",
       "       'RUSSIA', 'TURKS & CAICOS', 'UNITED ARAB EMIRATES (UAE)', 'AZORES',\n",
       "       'SOUTH KOREA', 'MALTA', 'VIETNAM', 'MADAGASCAR', 'PANAMA',\n",
       "       'SOMALIA', 'NEVIS', 'BRITISH VIRGIN ISLANDS', 'NORWAY', 'SENEGAL',\n",
       "       'YEMEN', 'SIERRA LEONE', 'ST MAARTIN', 'GRAND CAYMAN', 'LIBERIA',\n",
       "       'VANUATU', 'HONDURAS', 'VENEZUELA', 'SRI LANKA', 'URUGUAY',\n",
       "       'INDIA', 'MICRONESIA', 'OKINAWA', 'TANZANIA', 'MARSHALL ISLANDS',\n",
       "       'EGYPT  ISRAEL', 'HONG KONG'], dtype=object)"
      ]
     },
     "execution_count": 54,
     "metadata": {},
     "output_type": "execute_result"
    }
   ],
   "source": [
    "df[\"country\"].unique()"
   ]
  },
  {
   "cell_type": "code",
   "execution_count": 55,
   "metadata": {},
   "outputs": [],
   "source": [
    "# Clean other obvious entries \n",
    "df.loc[df['country']==\"BETWEEN PORTUGAL & INDIA\", \"country\"]=\"UNKNOWN\"\n",
    "df.loc[df['country']==\"COAST OF AFRICA\", \"country\"]=\"UNKNOWN\"\n",
    "df.loc[df['country']==\"ST MAARTIN\", \"country\"]=\"ST MARTIN\"\n",
    "df.loc[df['country']==\"FEDERATED STATES OF MICRONESIA\", \"country\"]=\"MICRONESIA\"\n",
    "df.loc[df['country']==\"OKINAWA\", \"country\"]=\"JAPAN\"\n",
    "df.loc[df['country']==\"WESTERN SAMOA\", 'country']=\"SAMOA\"\n",
    "df.loc[df['country']==\"NEW BRITAIN\", 'country']=\"PAPUA NEW GUINEA\"\n",
    "df.loc[df['country']==\"EQUATORIAL GUINEA  CAMEROON\", 'country']=\"UNKNOWN\"\n",
    "df.loc[df['country']==\"AFRICA\", 'country']=\"UNKNOWN\"\n",
    "df.loc[df['country']==\"THE BALKANS\", 'country']=\"UNKNOWN\"\n",
    "df.loc[df['country']==\"SOLOMON ISLANDS  VANUATU\", 'country']=\"UNKNOWN\"\n",
    "df.loc[df['country']==\"CENTRAL PACIFIC\", 'country']=\"UNKNOWN\"\n",
    "df.loc[df['country']==\"BAY OF BENGAL\", 'country']=\"UNKNOWN\"\n",
    "df.loc[df['country']==\"ASIA\", 'country']=\"UNKNOWN\"\n",
    "df.loc[df['country']==\"IRAN  IRAQ\", 'country']=\"UNKNOWN\"\n",
    "df.loc[df['country']==\"ITALY  CROATIA\", 'country']=\"UNKNOWN\"\n",
    "replace_contain(df, \"country\", \"ceylon\", False, \"SRI LANKA\")\n",
    "replace_contain(df, \"country\", \"tobago\", False, \"TRINIDAD AND TOBAGO\")\n",
    "replace_contain(df, \"country\", \"andaman\", False, \"ANDAMAN AND NICOBAR ISLANDS\")\n",
    "replace_contain(df, \"country\", \"emirates\", False, \"UNITED ARAB EMIRATES\")\n",
    "df.loc[df['country']==\"BRITISH ISLES\", 'country']=\"UNITED KINGDOM\"\n",
    "df.loc[df['country']==\"SCOTLAND\", 'country']=\"UNITED KINGDOM\"\n",
    "df.loc[df['country']==\"ENGLAND\", 'country']=\"UNITED KINGDOM\"\n",
    "replace_contain(df, \"country\", \"west indies\", False, \"UNKNOWN\")\n",
    "df.loc[df['country']==\"MALDIVE ISLANDS\", 'country']=\"MALDIVES\"\n",
    "df.loc[df['country']==\"KOREA\", 'country']=\"SOUTH KOREA\"\n",
    "df.loc[df['country']==\"PALESTINIAN TERRITORIES\", 'country']=\"PALESTINIAN\"\n",
    "df.loc[df['country']==\"EGYPT  ISRAEL\", 'country']=\"UNKNOWN\"\n",
    "df.loc[df['country']==\"TURKS & CAICOS\", 'country']=\"TURKS AND CAICOS ISLANDS\"\n",
    "df.loc[df['country']==\"CRETE\", 'country']=\"GREECE\"\n",
    "replace_contain(df, \"country\", \"reunion\", False, \"REUNION\")\n",
    "replace_contain(df, \"country\", \"cayman\", False, \"CAYMAN ISLANDS\")\n",
    "df.loc[df['country']==\"USA\", 'country']=\"UNITED STATES\""
   ]
  },
  {
   "cell_type": "code",
   "execution_count": 56,
   "metadata": {},
   "outputs": [
    {
     "name": "stdout",
     "output_type": "stream",
     "text": [
      "The value and its frequency in the country column:\n",
      "United States    1180\n",
      "Australia         434\n",
      "South Africa      173\n",
      "Brazil             78\n",
      "Bahamas            59\n",
      "                 ... \n",
      "Greece              1\n",
      "Kiribati            1\n",
      "Nigeria             1\n",
      "Diego Garcia        1\n",
      "Aruba               1\n",
      "Name: country, Length: 88, dtype: int64\n",
      "The country column contains 0 missing values.\n"
     ]
    }
   ],
   "source": [
    "# Formatting it to look better\n",
    "df['country']=df['country'].str.title()\n",
    "des_cat_col(df, \"country\")"
   ]
  },
  {
   "cell_type": "markdown",
   "metadata": {},
   "source": [
    "#### Activity"
   ]
  },
  {
   "cell_type": "code",
   "execution_count": 57,
   "metadata": {},
   "outputs": [
    {
     "name": "stdout",
     "output_type": "stream",
     "text": [
      "The value and its frequency in the activity column:\n",
      "Surfing                      723\n",
      "Swimming                     320\n",
      "Spearfishing                 134\n",
      "Fishing                      124\n",
      "Wading                        84\n",
      "                            ... \n",
      "Spearfishing/ filming          1\n",
      "Fishing from a kayak           1\n",
      "Petting a shark                1\n",
      "Surfing / Wading               1\n",
      "\"Riding waves on a board\"      1\n",
      "Name: activity, Length: 370, dtype: int64\n",
      "The activity column contains 113 missing values.\n"
     ]
    }
   ],
   "source": [
    "des_cat_col(df, \"activity\")"
   ]
  },
  {
   "cell_type": "code",
   "execution_count": 58,
   "metadata": {},
   "outputs": [
    {
     "data": {
      "text/plain": [
       "113"
      ]
     },
     "metadata": {},
     "output_type": "display_data"
    }
   ],
   "source": [
    "## The category of activities\n",
    "category=[\"Swimming\", \"Wading\", \"Diving\", \"Fishing\", \"Unknown\", \"Others\", \"Surfing/Boarding\",'Accident/Disaster', 'Boating/Sailing' ]\n",
    "# Filling in missing values\n",
    "display(df.activity.isna().sum())\n",
    "df['activity']= df['activity'].fillna(\"Unknown\")"
   ]
  },
  {
   "cell_type": "code",
   "execution_count": 59,
   "metadata": {},
   "outputs": [],
   "source": [
    "# Text cleaning\n",
    "replace_contain(df, \"activity\", \"walk\", False, \"Wading\")\n",
    "replace_contain(df, \"activity\", \"div\", False, \"Diving\")\n",
    "replace_contain(df, \"activity\", \"ship\", False, \"Accident/Disaster\")\n",
    "replace_contain(df, \"activity\", \"disaster\", False, \"Accident/Disaster\")\n",
    "replace_contain(df, \"activity\", \"capsize\", False, \"Accident/Disaster\")\n",
    "replace_contain(df, \"activity\", \"tsunami\", False, \"Accident/Disaster\")\n",
    "replace_contain(df, \"activity\", \"bath\", False, \"Swimming\")\n",
    "df.loc[(df['activity'].str.contains(\"surf\", case=False)) & ~(df['activity'].str.contains(\"fish\", case=False)), \"activity\"]=\"Surfing/Boarding\"\n",
    "replace_contain(df, \"activity\", \"snorkeling\", False, \"Swimming\")\n",
    "replace_contain(df, \"activity\", \"boarding\", False, \"Surfing/Boarding\")\n",
    "df.loc[df.activity==\"Attempting to remove fishing net from submerged object\", \"activity\"]=\"Others\"\n",
    "replace_contain(df, \"activity\", \"fishing\", False, \"Fishing\")\n",
    "replace_contain(df, \"activity\", \"swimming\", False, \"Swimming\")\n",
    "replace_contain(df, \"activity\", \"ski\", False, \"Surfing/Boarding\")\n",
    "replace_contain(df, \"activity\", \"float\", False, \"Swimming\")\n",
    "replace_contain(df, \"activity\", \"row\", False, \"Boating/Sailing\")\n",
    "replace_contain(df, \"activity\", \"wad\", False, \"Wading\")\n",
    "replace_contain(df, \"activity\", \"canoe\", False, \"Boating/Sailing\")\n",
    "replace_contain(df, \"activity\", \"kayak\", False, \"Boating/Sailing\")\n",
    "replace_contain(df, \"activity\", \"padd\", False, \"Surfing/Boarding\")\n",
    "replace_contain(df, \"activity\", \"fell\", False, \"Accident/Disaster\")\n",
    "replace_contain(df, \"activity\", \"sink\", False, \"Accident/Disaster\")\n",
    "replace_contain(df, \"activity\", \"stand\", False, \"Wading\")\n",
    "replace_contain(df, \"activity\", \"yacht\", False, \"Boating/Sailing\")\n",
    "replace_contain(df, \"activity\", \"crab\", False, \"Fishing\")\n",
    "replace_contain(df, \"activity\", \"shrimp\", False, \"Fishing\")\n",
    "replace_contain(df, \"activity\", \"lobster\", False, \"Fishing\")\n",
    "replace_contain(df, \"activity\", \"kaka\", False, \"Surfing/Boarding\")\n",
    "replace_contain(df, \"activity\", \"plung\", False, \"Accident/Disaster\")\n",
    "replace_contain(df, \"activity\", \"adrift\", False, \"Accident/Disaster\")\n",
    "replace_contain(df, \"activity\", \"sail\", False, \"Boating/Sailing\")\n",
    "replace_contain(df, \"activity\", \"tread\", False, \"Wading\")\n",
    "replace_contain(df, \"activity\", \"hik\", False, \"Wading\")\n",
    "replace_contain(df, \"activity\", \"knnel\", False, \"Wading\")\n",
    "replace_contain(df, \"activity\", \"SUP\", False, \"Surfing/Boarding\")"
   ]
  },
  {
   "cell_type": "code",
   "execution_count": 60,
   "metadata": {},
   "outputs": [
    {
     "data": {
      "text/plain": [
       "(array(['Feeding sharks', 'Cleaning fish', 'Touching a shark',\n",
       "        'Attempting to lasso a shark', 'Photo shoot', 'Washing hands',\n",
       "        'Grabbing shark for a selfie', 'Tagging sharks', 'Teasing a shark',\n",
       "        'Feeding stingrays?', 'Photographing fish', 'Playing in the water',\n",
       "        'Playing', 'Attempting to rescue a shark',\n",
       "        'Photographing the shark', 'Hand feeding sharks',\n",
       "        'Sitting in the water', 'Filming', 'Feeding fish',\n",
       "        'Playing with an air mattress', 'Petting a shark',\n",
       "        'Kneeling in the water', 'Shark watching', 'Filming a documentary',\n",
       "        'Casting a net', 'Wrangling a shark',\n",
       "        'Attempting to free the shark',\n",
       "        'Dragging stranded shark into deeper water',\n",
       "        'Attempting to rescue an injured & beached shark',\n",
       "        'Jumping in the waves', 'Washing sand off a speared fish',\n",
       "        'Attempting to fix motor', 'Rescuing', 'Measuring sharks',\n",
       "        'Washing his feet', 'Crawling',\n",
       "        \"Accidentally stood on hooked shark's tail before attempting to gut it \",\n",
       "        'Attempting to chase shark out to sea',\n",
       "        'Removing fish from a trap', 'Jumping', 'Jumped into the water',\n",
       "        'Murder', 'Removing hook from shark', 'Reviving a sedated shark',\n",
       "        'Shark tagging', 'Playing on a sandbar',\n",
       "        'Playing soccer in the water', 'Lifesaving drill',\n",
       "        'Touching sharks', 'Removing shark from net',\n",
       "        'Holding onto an inflatable boat', \"Crouching in 2' of water\",\n",
       "        'Chumming for white sharks', 'Killing  sharks',\n",
       "        'Petting captive sharks', 'Attempting to retreive a dinghy',\n",
       "        'Collecting beche-de-mer', 'Batin',\n",
       "        'Attempting to catch a crocodile', 'Conducting research',\n",
       "        'Attempting to illegally enter the USA',\n",
       "        'Feeding prawns to captive sharks', \"Lying prone in 2' of water\",\n",
       "        \"Scientific research (Dr. Sonny Gruber's student)\", 'Cruising',\n",
       "        'Inflatable boat', 'Splashing', 'Moving a shark in a net ',\n",
       "        'Towing rubber dinghy', 'Watching seals',\n",
       "        'Attempting to attract dolphins', 'Chumming for sharks',\n",
       "        '\"Riding waves on a board\"', 'Playing / jumping',\n",
       "        'Sleeping in anchored boat'], dtype=object),\n",
       " 75)"
      ]
     },
     "execution_count": 60,
     "metadata": {},
     "output_type": "execute_result"
    }
   ],
   "source": [
    "# Examine what is left\n",
    "df[~(df['activity'].isin(category))][\"activity\"].unique(), df[~(df['activity'].isin(category))][\"activity\"].nunique()"
   ]
  },
  {
   "cell_type": "code",
   "execution_count": 61,
   "metadata": {},
   "outputs": [],
   "source": [
    "# Putting the remaining as \"Others\"\n",
    "df.loc[~(df['activity'].isin(category)), \"activity\"]=\"Others\""
   ]
  },
  {
   "cell_type": "code",
   "execution_count": 62,
   "metadata": {
    "scrolled": true
   },
   "outputs": [
    {
     "data": {
      "text/plain": [
       "Surfing/Boarding     980\n",
       "Swimming             458\n",
       "Fishing              354\n",
       "Diving               164\n",
       "Wading               158\n",
       "Unknown              116\n",
       "Others                95\n",
       "Boating/Sailing       50\n",
       "Accident/Disaster     29\n",
       "Name: activity, dtype: int64"
      ]
     },
     "execution_count": 62,
     "metadata": {},
     "output_type": "execute_result"
    }
   ],
   "source": [
    "df[\"activity\"].value_counts()"
   ]
  },
  {
   "cell_type": "markdown",
   "metadata": {},
   "source": [
    "#### Species "
   ]
  },
  {
   "cell_type": "code",
   "execution_count": 63,
   "metadata": {},
   "outputs": [],
   "source": [
    "def fullclean(df, col):\n",
    "    df[col] = df[col].str.strip(\"\"\" -_^\\w+$.,%?></~#\\'`¬!£$&*0123456789\\[\\]\"\"\")\n",
    "    df[col] = df[col].str.strip(''' -_^\\w+$.,%?></~#\\\"`¬!£$&*0123456789\\[\\]''')"
   ]
  },
  {
   "cell_type": "code",
   "execution_count": 64,
   "metadata": {},
   "outputs": [],
   "source": [
    "# Stripping the unwanted characters\n",
    "fullclean(df, \"species\")\n",
    "removenum(df, \"species\")"
   ]
  },
  {
   "cell_type": "code",
   "execution_count": 65,
   "metadata": {},
   "outputs": [
    {
     "name": "stdout",
     "output_type": "stream",
     "text": [
      "Missing values: 828\n"
     ]
    }
   ],
   "source": [
    "# Dealing with missing values\n",
    "print(f\"Missing values: {df.species.isna().sum()}\")\n",
    "# Missing values as \"Missing\"\n",
    "df['species'] = df['species'].fillna(\"Missing\")"
   ]
  },
  {
   "cell_type": "code",
   "execution_count": 66,
   "metadata": {},
   "outputs": [],
   "source": [
    "# Stripping those starts or ends with \"m\", \"to\", \"lb\"\n",
    "df.loc[df['species'].str.startswith(\"m \"), \"species\"]=df['species'].str.strip(''' -_mM^\\w+$.,%?></~#\\\"`¬!£$&*0123456789\\[\\]''')\n",
    "df.loc[df['species'].str.endswith(\" m\"), \"species\"]=df['species'].str.strip(''' -_mM^\\w+$.,%?></~#\\\"`¬!£$&*0123456789\\[\\]''')\n",
    "fullclean(df, \"species\")\n",
    "df.loc[df['species'].str.startswith(\"to \"), \"species\"]=df['species'].str.strip(''' -_to^\\w+$.,%?></~#\\\"`¬!£$&*0123456789\\[\\]''')\n",
    "df.loc[df['species'].str.endswith(\" to\"), \"species\"]=df['species'].str.strip(''' -_to^\\w+$.,%?></~#\\\"`¬!£$&*0123456789\\[\\]''')\n",
    "fullclean(df, \"species\")\n",
    "df.loc[df['species'].str.startswith(\"lb \"), \"species\"]=df['species'].str.strip(''' -_lb^\\w+$.,%?></~#\\\"`¬!£$&*0123456789\\[\\]''')\n",
    "df.loc[df['species'].str.endswith(\" lb\"), \"species\"]=df['species'].str.strip(''' -_lb^\\w+$.,%?></~#\\\"`¬!£$&*0123456789\\[\\]''')\n",
    "fullclean(df, \"species\")"
   ]
  },
  {
   "cell_type": "code",
   "execution_count": 67,
   "metadata": {},
   "outputs": [],
   "source": [
    "# \"Unknown\", \"Suspect\", \"Unidentified\" as \"Missing\"\n",
    "replace_contain(df, \"species\", \"unknown\", False, \"Missing\")\n",
    "replace_contain(df, \"species\", \"suspect\", False, \"Unconfirmed\")\n",
    "replace_contain(df, \"species\", \"unident\", False, \"Missing\")\n",
    "replace_contain(df, \"species\", \"y Dr. D.P. L. Schultz; mako shark\", False, \"Shark\")\n",
    "replace_contain(df, \"species\", \"Tiger sharks & \", False, \"Shark\")\n",
    "replace_contain(df, \"species\", \"unsome drowned but \", False, \"Unconfirmed\")\n",
    "replace_contain(df, \"species\", \"Said to involve a 1 m  white shark, but thought  that it was more likely a blue shar\", False, \"Shark\")\n",
    "replace_contain(df, \"species\", \" or \", False, \"Shark\")"
   ]
  },
  {
   "cell_type": "code",
   "execution_count": 68,
   "metadata": {},
   "outputs": [],
   "source": [
    "# \"Unconfirmed\" for entries that are not confirmed to have involved a shark\n",
    "replace_contain(df, \"species\", \"filmed by divers\", False, \"Unconfirmed\")\n",
    "replace_contain(df, \"species\", \"not confirmed\", False, \"Unconfirmed\")\n",
    "replace_contain(df, \"species\", \"invalid\", False, \"Unconfirmed\")\n",
    "replace_contain(df, \"species\", \"unconfirmed\", False, \"Unconfirmed\")\n",
    "replace_contain(df, \"species\", \"question\", False, \"Unconfirmed\")\n",
    "replace_contain(df, \"species\", \"stingray\", False, \"Unconfirmed\")\n",
    "replace_contain(df, \"species\", \"sea lion\", False, \"Unconfirmed\")\n",
    "replace_contain(df, \"species\", \"no shark\", False, \"Unconfirmed\")\n",
    "replace_contain(df, \"species\", \"eel\", False, \"Unconfirmed\")\n",
    "replace_contain(df, \"species\", \"doubt\", False, \"Unconfirmed\")\n",
    "replace_contain(df, \"species\", \"drown\", False, \"Unconfirmed\")\n",
    "replace_contain(df, \"species\", \"hoax\", False, \"Unconfirmed\")\n",
    "replace_contain(df, \"species\", \"to be determined\", False, \"Unconfirmed\")\n",
    "replace_contain(df, \"species\", \"true\", False, \"Unconfirmed\")\n",
    "replace_contain(df, \"species\", \"involvement not c\", False, \"Unconfirmed\")\n",
    "replace_contain(df, \"species\", \"autheticated\", False, \"Unconfirmed\")\n",
    "replace_contain(df, \"species\", \"barracuda\", False, \"Unconfirmed\")\n",
    "replace_contain(df, \"species\", \"involvement prior\", False, \"Unconfirmed\")\n",
    "replace_contain(df, \"species\", \"debris\", False, \"Unconfirmed\")"
   ]
  },
  {
   "cell_type": "code",
   "execution_count": 69,
   "metadata": {},
   "outputs": [],
   "source": [
    "# Reef Sharks\n",
    "replace_contain(df, \"species\", \"caribbean reef shark\", False, \"Caribbean Reef Shark\")\n",
    "replace_contain(df, \"species\", \"blacktip reef shark\", False, \"Blacktip Reef Shark\")\n",
    "replace_contain(df, \"species\", \"whitetip reef shark\", False, \"Whitetip Reef Shark\")\n",
    "replace_contain(df, \"species\", \"white-tipped reef shark\", False, \"Whitetip Reef Shark\")\n",
    "replace_contain(df, \"species\", \"grey reef shark\", False, \"Grey Reef Shark\")\n",
    "replace_contain(df, \"species\", \"gray reef shark\", False, \"Grey Reef Shark\")\n",
    "replace_contain(df, \"species\", \"blacktail reef shark\", False, \"Blacktail Reef Shark\")\n",
    "replace_contain(df, \"species\", \"Reef shark\", True, \"Reef Shark\")\n",
    "replace_contain(df, \"species\", \"reef shark\", True, \"Reef Shark\")\n",
    "# Sand Sharks\n",
    "replace_contain(df, \"species\", \"sand shark\", False, \"Sand Shark\")\n",
    "replace_contain(df, \"species\", \"raggedtooth shark\", False, \"Sand Shark\")\n",
    "replace_contain(df, \"species\", \"sandtiger\", False, \"Sand Tiger Shark\")\n",
    "replace_contain(df, \"species\", \"grey nurse shark\", False, \"Sand Tiger Shark\")\n",
    "# Lemon Sharks\n",
    "replace_contain(df, \"species\", \"lemon\", False, \"Lemon Shark\")\n",
    "# Sandbar Sharks\n",
    "replace_contain(df, \"species\", \"sandbar\", False, \"Sandbar Shark\")\n",
    "replace_contain(df, \"species\", \"brown\", False, \"Sandbar Shark\")\n",
    "# Copper Sharks\n",
    "replace_contain(df, \"species\", \"bronze\", False, \"Copper Shark\")\n",
    "replace_contain(df, \"species\", \"copper\", False, \"Copper Shark\")\n",
    "# White Sharks\n",
    "replace_contain(df, \"species\", \"white shark\", False, \"White Shark\")\n",
    "replace_contain(df, \"species\", \"hite shark\", False, \"White Shark\")\n",
    "# Hammerhead Sharks\n",
    "replace_contain(df, \"species\", \"hammerhead\", False, \"Hammerhead Shark\")\n",
    "# Tiger Sharks\n",
    "df.loc[(df['species'].str.contains(\"tiger shark\", case=False))&(df.species!=\"Sand Tiger Shark\"), \"species\"] = \"Tiger Shark\"\n",
    "# Oceanic Whitetip Sharks\n",
    "replace_contain(df, \"species\", \"oceanic\", False, \"Oceanic Whitetip Shark\")\n",
    "# Spinner Sharks\n",
    "replace_contain(df, \"species\", \"spinner\", False, \"Spinner Shark\")\n",
    "# Blue Sharks\n",
    "replace_contain(df, \"species\", \"blue\", False, \"Blue Shark\")\n",
    "# Bull Sharks\n",
    "replace_contain(df, \"species\", \"bull\", False, \"Bull Shark\")\n",
    "replace_contain(df, \"species\", \"zam\", False, \"Bull Shark\")\n",
    "replace_contain(df, \"species\", \"leucas\", False, \"Bull Shark\")\n",
    "# Salmon Sharks\n",
    "replace_contain(df, \"species\", \"salmon\", False, \"Salmon Shark\")\n",
    "# Silky Sharks\n",
    "replace_contain(df, \"species\", \"silk\", False, \"Silky Shark\")\n",
    "# Sevengill Sharks\n",
    "replace_contain(df, \"species\", \"broad\", False, \"Broadnose Sevengill Shark\")\n",
    "df.loc[(df['species'].str.contains(\"seven\", case=False))&(df.species!=\"Broadnose Sevengill Shark\"), \"species\"] = \"Sevengill Shark\"\n",
    "# Smooth-hound\n",
    "replace_contain(df, \"species\", \"star\", False, \"Starry Smooth-hound\")\n",
    "df.loc[(df['species'].str.contains(\"smooth\", case=False))&(df.species!=\"Starry Smooth-hound\"), \"species\"] = \"Smooth-hound\"\n",
    "# Dusky Sharks\n",
    "replace_contain(df, \"species\", \"dusk\", False, \"Dusky Shark\")\n",
    "# Tawny Nurse Sharks\n",
    "replace_contain(df, \"species\", \"tawn\", False, \"Tawny Nurse Shark\")\n",
    "# Nurse Sharks\n",
    "df.loc[(df['species'].str.contains(\"nurse\", case=False))&(df.species!=\"Tawny Nurse Shark\"), \"species\"] = \"Nurse Shark\"\n",
    "# Galapagos Sharks\n",
    "replace_contain(df, \"species\", \"gala\", False, \"Galapagos Shark\")\n",
    "# Porbeagle Sharks\n",
    "replace_contain(df, \"species\", \"porbe\", False, \"Porbeagle Shark\")\n",
    "# Port Jackson Sharks\n",
    "replace_contain(df, \"species\", \"port\", False, \"Port Jackson Shark\")\n",
    "# Wobbegong Sharks\n",
    "replace_contain(df, \"species\", \"wobb\", False, \"Wobbegong Shark\")\n",
    "# Cookiecutter Sharks\n",
    "replace_contain(df, \"species\", \"cookie\", False, \"Cookiecutter Shark\")\n",
    "# Basking Sharks\n",
    "replace_contain(df, \"species\", \"bask\", False, \"Basking Shark\")\n",
    "# Goblin Sharks\n",
    "replace_contain(df, \"species\", \"gob\", False, \"Goblin Shark\")\n",
    "# Leopard Sharks\n",
    "replace_contain(df, \"species\", \"leo\", False, \"Leopard Shark\")\n",
    "# Cow Sharks\n",
    "replace_contain(df, \"species\", \"cow\", False, \"Cow Shark\")\n",
    "# Thresher Sharks\n",
    "replace_contain(df, \"species\", \"thresher\", False, \"Thresher Shark\")\n",
    "# Angel Sharks\n",
    "replace_contain(df, \"species\", \"angel\", False, \"Angel Shark\")\n",
    "# School Sharks\n",
    "replace_contain(df, \"species\", \"soup\", False, \"School Shark\")\n",
    "# Longfin Mako Sharks\n",
    "replace_contain(df, \"species\", \"longfin\", False, \"Longfin Mako Shark\")\n",
    "# Shortfin Mako Sharks\n",
    "replace_contain(df, \"species\", \"longfin\", False, \"Shortfin Mako Shark\")\n",
    "# Mako Sharks\n",
    "df.loc[(df['species'].str.contains(\"ako\", case=False))&(df.species!=\"Longfin Mako Shark\")&(df.species!=\"Shortfin Mako Shark\"), \"species\"] = \"Mako Shark\"\n",
    "# Small-spotted Catsharks\n",
    "replace_contain(df, \"species\", \"canicula\", False, \"Small-spotted Catshark\")\n",
    "# Blacktip Sharks\n",
    "df.loc[(df['species'].str.contains(\"black\", case=False))&(df.species!=\"Blacktip Reef Shark\"), \"species\"] = \"Blacktip Shark\"\n",
    "# Spurdog\n",
    "replace_contain(df, \"species\", \"dogfish\", False, \"Spurdog\")\n",
    "# Catsharks\n",
    "replace_contain(df, \"species\", \"small cat\", False, \"Catshark\")\n"
   ]
  },
  {
   "cell_type": "code",
   "execution_count": 70,
   "metadata": {},
   "outputs": [],
   "source": [
    "category = [\"Missing\", \"Unconfirmed\", \"Caribbean Reef Shark\", \"Whitetip Reef Shark\", \"Grey Reef Shark\", \"Salmon Shark\", \"Blacktip Shark\", \"Catshark\", \"Blacktip Reef Shark\", \"Blacktail Reef Shark\", \"Reef Shark\", \"Sand Tiger Shark\", \"Sand Shark\", \"Sandbar Shark\", \"Lemon Shark\", \"Copper Shark\", \"White Shark\", \"Hammerhead Shark\", \"Tiger Shark\", \"Oceanic Whitetip Shark\", \"Spinner Shark\", \"Blue Shark\", \"Bull Shark\", \"Silky Shark\", \"Broadnose Sevengill Shark\", \"Sevengill Shark\", \"Starry Smooth-hound\", \"Smooth-hound\", \"Dusky Shark\", \"Tawny Nurse Shark\", \"Nurse Shark\", 'Galapagos Shark', \"Basking Shark\", \"Port Jackson Shark\", \"Porbeagle Shark\", \"Wobbegong Shark\", \"Cookiecutter Shark\", \"Goblin Shark\", \"Leopard Shark\", \"Cow Shark\", \"Thresher Shark\", \"Angel Shark\", \"School Shark\", \"Longfin Mako Shark\", \"Shortfin Mako Shark\", \"Mako Shark\", \"Small-spotted Catshark\", \"Spurdog\"]"
   ]
  },
  {
   "cell_type": "code",
   "execution_count": 71,
   "metadata": {},
   "outputs": [
    {
     "data": {
      "text/plain": [
       "array(['shark', 'small shark', 'A small shark', 'a small shark',\n",
       "       'juvenile shark', 'Shark', 'm shark', 'foot shark', 'tp  shark',\n",
       "       'metre shark', 'gill shark', 'small sharks', 'kg shark', '',\n",
       "       'Said to involve a   m shark', 'shark   kg shark T', 'to',\n",
       "       'On    anglers from New Zealand caught a   m []   kg [ lb] shark at the same spot  It was believed this was the same shark that killed Alysha',\n",
       "       'm [ to ] shark', 'sharks', 'grey colored shark', 'cm [ ]  shark',\n",
       "       'A \\x93small\\x94 shark',\n",
       "       'cm to  cm [ to ] bite diameter just below left knee',\n",
       "       'cm [] captive shark', 'm [ to ] grey colored shark',\n",
       "       'm [ to ] shark; Tooth fragment recovered from hand', '\\xa0',\n",
       "       'haler shark', 'm [  to ] shark', 'cm to  cm [ to ] shark',\n",
       "       'A  shark was seen in the area by witnesses', 'm [   to  ] shark',\n",
       "       'm [ to ] shark seen in the vicinity', 'a young shark',\n",
       "       'm [ to ]   shark', 'Two   m to   m [ to ] sharks'], dtype=object)"
      ]
     },
     "execution_count": 71,
     "metadata": {},
     "output_type": "execute_result"
    }
   ],
   "source": [
    "df[~(df.species.isin(category))][\"species\"].unique()"
   ]
  },
  {
   "cell_type": "code",
   "execution_count": 72,
   "metadata": {},
   "outputs": [],
   "source": [
    "# Others with sharks are renamed as \"Shark\"\n",
    "df.loc[~(df.species.isin(category)), \"species\"] = \"Shark\""
   ]
  },
  {
   "cell_type": "code",
   "execution_count": 73,
   "metadata": {},
   "outputs": [
    {
     "name": "stdout",
     "output_type": "stream",
     "text": [
      "The value and its frequency in the species column:\n",
      "Missing                      841\n",
      "Shark                        452\n",
      "White Shark                  276\n",
      "Unconfirmed                  183\n",
      "Bull Shark                   141\n",
      "Tiger Shark                  133\n",
      "Blacktip Shark                43\n",
      "Copper Shark                  38\n",
      "Nurse Shark                   27\n",
      "Sand Shark                    25\n",
      "Wobbegong Shark               25\n",
      "Mako Shark                    23\n",
      "Sand Tiger Shark              19\n",
      "Lemon Shark                   19\n",
      "Oceanic Whitetip Shark        16\n",
      "Spinner Shark                 16\n",
      "Reef Shark                    12\n",
      "Grey Reef Shark               12\n",
      "Caribbean Reef Shark          12\n",
      "Blue Shark                    11\n",
      "Hammerhead Shark              11\n",
      "Blacktip Reef Shark           10\n",
      "Sevengill Shark                8\n",
      "Angel Shark                    5\n",
      "Galapagos Shark                4\n",
      "Tawny Nurse Shark              4\n",
      "Porbeagle Shark                4\n",
      "Whitetip Reef Shark            4\n",
      "Sandbar Shark                  3\n",
      "Cookiecutter Shark             2\n",
      "Small-spotted Catshark         2\n",
      "Basking Shark                  2\n",
      "Dusky Shark                    2\n",
      "Salmon Shark                   2\n",
      "Goblin Shark                   2\n",
      "Cow Shark                      2\n",
      "Broadnose Sevengill Shark      2\n",
      "Spurdog                        2\n",
      "Leopard Shark                  1\n",
      "Thresher Shark                 1\n",
      "School Shark                   1\n",
      "Shortfin Mako Shark            1\n",
      "Silky Shark                    1\n",
      "Port Jackson Shark             1\n",
      "Catshark                       1\n",
      "Starry Smooth-hound            1\n",
      "Smooth-hound                   1\n",
      "Name: species, dtype: int64\n",
      "The species column contains 0 missing values.\n"
     ]
    }
   ],
   "source": [
    "des_cat_col(df, \"species\")"
   ]
  },
  {
   "cell_type": "markdown",
   "metadata": {},
   "source": [
    "Dropping columns"
   ]
  },
  {
   "cell_type": "code",
   "execution_count": 74,
   "metadata": {},
   "outputs": [
    {
     "data": {
      "text/html": [
       "<div>\n",
       "<style scoped>\n",
       "    .dataframe tbody tr th:only-of-type {\n",
       "        vertical-align: middle;\n",
       "    }\n",
       "\n",
       "    .dataframe tbody tr th {\n",
       "        vertical-align: top;\n",
       "    }\n",
       "\n",
       "    .dataframe thead th {\n",
       "        text-align: right;\n",
       "    }\n",
       "</style>\n",
       "<table border=\"1\" class=\"dataframe\">\n",
       "  <thead>\n",
       "    <tr style=\"text-align: right;\">\n",
       "      <th></th>\n",
       "      <th>year</th>\n",
       "      <th>type</th>\n",
       "      <th>country</th>\n",
       "      <th>activity</th>\n",
       "      <th>sex</th>\n",
       "      <th>fatal</th>\n",
       "      <th>species</th>\n",
       "    </tr>\n",
       "  </thead>\n",
       "  <tbody>\n",
       "    <tr>\n",
       "      <th>0</th>\n",
       "      <td>2018.0</td>\n",
       "      <td>Boating</td>\n",
       "      <td>United States</td>\n",
       "      <td>Surfing/Boarding</td>\n",
       "      <td>F</td>\n",
       "      <td>N</td>\n",
       "      <td>White Shark</td>\n",
       "    </tr>\n",
       "    <tr>\n",
       "      <th>1</th>\n",
       "      <td>2018.0</td>\n",
       "      <td>Unprovoked</td>\n",
       "      <td>United States</td>\n",
       "      <td>Wading</td>\n",
       "      <td>F</td>\n",
       "      <td>N</td>\n",
       "      <td>Missing</td>\n",
       "    </tr>\n",
       "    <tr>\n",
       "      <th>2</th>\n",
       "      <td>2018.0</td>\n",
       "      <td>Unknown</td>\n",
       "      <td>United States</td>\n",
       "      <td>Surfing/Boarding</td>\n",
       "      <td>M</td>\n",
       "      <td>N</td>\n",
       "      <td>Missing</td>\n",
       "    </tr>\n",
       "    <tr>\n",
       "      <th>3</th>\n",
       "      <td>2018.0</td>\n",
       "      <td>Unprovoked</td>\n",
       "      <td>Australia</td>\n",
       "      <td>Surfing/Boarding</td>\n",
       "      <td>M</td>\n",
       "      <td>N</td>\n",
       "      <td>Shark</td>\n",
       "    </tr>\n",
       "    <tr>\n",
       "      <th>4</th>\n",
       "      <td>2018.0</td>\n",
       "      <td>Provoked</td>\n",
       "      <td>Mexico</td>\n",
       "      <td>Diving</td>\n",
       "      <td>M</td>\n",
       "      <td>N</td>\n",
       "      <td>Tiger Shark</td>\n",
       "    </tr>\n",
       "    <tr>\n",
       "      <th>...</th>\n",
       "      <td>...</td>\n",
       "      <td>...</td>\n",
       "      <td>...</td>\n",
       "      <td>...</td>\n",
       "      <td>...</td>\n",
       "      <td>...</td>\n",
       "      <td>...</td>\n",
       "    </tr>\n",
       "    <tr>\n",
       "      <th>2400</th>\n",
       "      <td>1995.0</td>\n",
       "      <td>Unprovoked</td>\n",
       "      <td>Brazil</td>\n",
       "      <td>Surfing/Boarding</td>\n",
       "      <td>M</td>\n",
       "      <td>N</td>\n",
       "      <td>Shark</td>\n",
       "    </tr>\n",
       "    <tr>\n",
       "      <th>2401</th>\n",
       "      <td>1995.0</td>\n",
       "      <td>Unknown</td>\n",
       "      <td>South Africa</td>\n",
       "      <td>Diving</td>\n",
       "      <td>M</td>\n",
       "      <td>Unknown</td>\n",
       "      <td>Unconfirmed</td>\n",
       "    </tr>\n",
       "    <tr>\n",
       "      <th>2402</th>\n",
       "      <td>1995.0</td>\n",
       "      <td>Provoked</td>\n",
       "      <td>Australia</td>\n",
       "      <td>Swimming</td>\n",
       "      <td>M</td>\n",
       "      <td>N</td>\n",
       "      <td>Leopard Shark</td>\n",
       "    </tr>\n",
       "    <tr>\n",
       "      <th>2403</th>\n",
       "      <td>1995.0</td>\n",
       "      <td>Unknown</td>\n",
       "      <td>United States</td>\n",
       "      <td>Diving</td>\n",
       "      <td>M</td>\n",
       "      <td>Y</td>\n",
       "      <td>Unconfirmed</td>\n",
       "    </tr>\n",
       "    <tr>\n",
       "      <th>2404</th>\n",
       "      <td>1995.0</td>\n",
       "      <td>Unprovoked</td>\n",
       "      <td>United States</td>\n",
       "      <td>Unknown</td>\n",
       "      <td>M</td>\n",
       "      <td>Unknown</td>\n",
       "      <td>Missing</td>\n",
       "    </tr>\n",
       "  </tbody>\n",
       "</table>\n",
       "<p>2404 rows × 7 columns</p>\n",
       "</div>"
      ],
      "text/plain": [
       "        year        type        country          activity sex    fatal  \\\n",
       "0     2018.0     Boating  United States  Surfing/Boarding   F        N   \n",
       "1     2018.0  Unprovoked  United States            Wading   F        N   \n",
       "2     2018.0     Unknown  United States  Surfing/Boarding   M        N   \n",
       "3     2018.0  Unprovoked      Australia  Surfing/Boarding   M        N   \n",
       "4     2018.0    Provoked         Mexico            Diving   M        N   \n",
       "...      ...         ...            ...               ...  ..      ...   \n",
       "2400  1995.0  Unprovoked         Brazil  Surfing/Boarding   M        N   \n",
       "2401  1995.0     Unknown   South Africa            Diving   M  Unknown   \n",
       "2402  1995.0    Provoked      Australia          Swimming   M        N   \n",
       "2403  1995.0     Unknown  United States            Diving   M        Y   \n",
       "2404  1995.0  Unprovoked  United States           Unknown   M  Unknown   \n",
       "\n",
       "            species  \n",
       "0       White Shark  \n",
       "1           Missing  \n",
       "2           Missing  \n",
       "3             Shark  \n",
       "4       Tiger Shark  \n",
       "...             ...  \n",
       "2400          Shark  \n",
       "2401    Unconfirmed  \n",
       "2402  Leopard Shark  \n",
       "2403    Unconfirmed  \n",
       "2404        Missing  \n",
       "\n",
       "[2404 rows x 7 columns]"
      ]
     },
     "execution_count": 74,
     "metadata": {},
     "output_type": "execute_result"
    }
   ],
   "source": [
    "df.drop(columns=['case_number', 'case_number.1', 'case_number.2', 'date', 'name', 'age', 'injury', 'time', 'pdf', 'original_order'])"
   ]
  },
  {
   "cell_type": "markdown",
   "metadata": {},
   "source": [
    "### Play"
   ]
  },
  {
   "cell_type": "code",
   "execution_count": 75,
   "metadata": {},
   "outputs": [],
   "source": [
    "# Fatality percentage for confirmed shark attack\n",
    "category = [\"Missing\", \"Unconfirmed\"]\n",
    "confirmed_shark_attack = df[~(df.species.isin(category))]\n"
   ]
  },
  {
   "cell_type": "code",
   "execution_count": 76,
   "metadata": {},
   "outputs": [
    {
     "data": {
      "text/plain": [
       "Text(0, 0.5, 'Number of attack')"
      ]
     },
     "execution_count": 76,
     "metadata": {},
     "output_type": "execute_result"
    },
    {
     "data": {
      "image/png": "[encoded data removed]",
      "text/plain": [
       "<Figure size 1440x432 with 1 Axes>"
      ]
     },
     "metadata": {
      "needs_background": "light"
     },
     "output_type": "display_data"
    }
   ],
   "source": [
    "# Confirmed shark attack per year\n",
    "year_index = sorted([i for i in confirmed_shark_attack.year.unique()])\n",
    "year_values = [confirmed_shark_attack[confirmed_shark_attack.year==i]['year'].count() for i in year_index]\n",
    "fig,ax = plt.subplots(figsize=(20,6))\n",
    "sns.barplot(x = year_index,y=year_values,ax=ax)\n",
    "plt.title('Shark Attacks per Year')\n",
    "plt.xlabel('Year')\n",
    "plt.ylabel('Number of attack')"
   ]
  },
  {
   "cell_type": "code",
   "execution_count": 77,
   "metadata": {},
   "outputs": [
    {
     "data": {
      "image/png": "[encoded data removed]",
      "text/plain": [
       "<Figure size 1080x144 with 1 Axes>"
      ]
     },
     "metadata": {
      "needs_background": "light"
     },
     "output_type": "display_data"
    }
   ],
   "source": [
    "# Proportion of fatality for confirmed shark attacks\n",
    "fatal_perc = {i: round(confirmed_shark_attack[confirmed_shark_attack.fatal==i]['fatal'].count()/confirmed_shark_attack.shape[0]*100,2) for i in list(confirmed_shark_attack['fatal'].unique())}\n",
    "\n",
    "fig, ax = plt.subplots(figsize=(15,2))\n",
    "label=\"Confirmed Shark Attack\"\n",
    "ax.barh(label, fatal_perc[\"Y\"], label='Y')\n",
    "ax.barh(label, fatal_perc[\"N\"], left=fatal_perc[\"Y\"],\n",
    "       label='N')\n",
    "ax.barh(label, fatal_perc[\"Unknown\"], left=(fatal_perc[\"Y\"]+ fatal_perc[\"N\"]), label=\"Unknown\")\n",
    "\n",
    "ax.set_xlabel('Percentage')\n",
    "ax.set_title('Fatality Percentage')\n",
    "ax.legend(loc=\"right\")\n",
    "\n",
    "plt.show()"
   ]
  },
  {
   "cell_type": "code",
   "execution_count": 78,
   "metadata": {},
   "outputs": [
    {
     "data": {
      "text/plain": [
       "Text(0, 0.5, 'Number of fatal attack')"
      ]
     },
     "execution_count": 78,
     "metadata": {},
     "output_type": "execute_result"
    },
    {
     "data": {
      "image/png": "[encoded data removed]",
      "text/plain": [
       "<Figure size 1440x432 with 1 Axes>"
      ]
     },
     "metadata": {
      "needs_background": "light"
     },
     "output_type": "display_data"
    }
   ],
   "source": [
    "# Fatal shark attacks by year\n",
    "fatal_attacks = confirmed_shark_attack[confirmed_shark_attack['fatal'] == 'Y']\n",
    "fatal_by_year = fatal_attacks['year'].value_counts().sort_index(ascending = True) \n",
    "fig,ax = plt.subplots(figsize=(20,6))\n",
    "sns.barplot(x = fatal_by_year.index,y=fatal_by_year.values.tolist(),ax=ax)\n",
    "plt.title('Fatal Shark Attacks per Year')\n",
    "plt.xlabel('Year')\n",
    "plt.ylabel('Number of fatal attack')"
   ]
  },
  {
   "cell_type": "markdown",
   "metadata": {},
   "source": [
    "##### Fatality and Sex"
   ]
  },
  {
   "cell_type": "code",
   "execution_count": 79,
   "metadata": {},
   "outputs": [
    {
     "data": {
      "image/png": "[encoded data removed]",
      "text/plain": [
       "<Figure size 1080x144 with 1 Axes>"
      ]
     },
     "metadata": {
      "needs_background": "light"
     },
     "output_type": "display_data"
    }
   ],
   "source": [
    "sex_perc = {i: round(fatal_attacks[fatal_attacks.sex==i]['sex'].count()/fatal_attacks.shape[0]*100,2) for i in list(fatal_attacks['sex'].unique())}\n",
    "\n",
    "fig, ax = plt.subplots(figsize=(15,2))\n",
    "label=\"Fatal Shark Attack\"\n",
    "ax.barh(label, sex_perc[\"M\"], label='Male')\n",
    "ax.barh(label, sex_perc[\"F\"], left=sex_perc[\"M\"],\n",
    "       label='Female')\n",
    "ax.barh(label, sex_perc[\"Unknown\"], left=(sex_perc[\"M\"]+ sex_perc[\"F\"]), label=\"Unknown\")\n",
    "\n",
    "ax.set_xlabel('Percentage')\n",
    "ax.set_title('Sex Percentage')\n",
    "ax.legend(loc=\"right\")\n",
    "\n",
    "plt.show()"
   ]
  },
  {
   "cell_type": "markdown",
   "metadata": {},
   "source": [
    "##### Fatality and Activities"
   ]
  },
  {
   "cell_type": "code",
   "execution_count": 80,
   "metadata": {},
   "outputs": [
    {
     "data": {
      "text/plain": [
       "Text(0, 0.5, 'Activity')"
      ]
     },
     "execution_count": 80,
     "metadata": {},
     "output_type": "execute_result"
    },
    {
     "data": {
      "image/png": "[encoded data removed]",
      "text/plain": [
       "<Figure size 1440x576 with 1 Axes>"
      ]
     },
     "metadata": {
      "needs_background": "light"
     },
     "output_type": "display_data"
    }
   ],
   "source": [
    "# Fatal shark attacks by activity\n",
    "fatal_activity = fatal_attacks['activity'].value_counts().sort_index(ascending = True) \n",
    "fig,ax = plt.subplots(figsize=(20,8))\n",
    "sns.barplot(x = fatal_activity.values.tolist(),y=fatal_activity.index)\n",
    "plt.title('Fatal Shark Attacks by Activity')\n",
    "plt.xlabel('Number of fatal attack')\n",
    "plt.ylabel('Activity')"
   ]
  },
  {
   "cell_type": "markdown",
   "metadata": {},
   "source": [
    "##### Fatality and Type"
   ]
  },
  {
   "cell_type": "code",
   "execution_count": 81,
   "metadata": {},
   "outputs": [
    {
     "data": {
      "text/plain": [
       "Text(0, 0.5, 'Type')"
      ]
     },
     "execution_count": 81,
     "metadata": {},
     "output_type": "execute_result"
    },
    {
     "data": {
      "image/png": "[encoded data removed]",
      "text/plain": [
       "<Figure size 720x288 with 1 Axes>"
      ]
     },
     "metadata": {
      "needs_background": "light"
     },
     "output_type": "display_data"
    }
   ],
   "source": [
    "# Fatal shark attacks by type\n",
    "fatal_type = fatal_attacks['type'].value_counts().sort_index(ascending = True) \n",
    "fig,ax = plt.subplots(figsize=(10,4))\n",
    "sns.barplot(x = fatal_type.values.tolist(),y=fatal_type.index)\n",
    "plt.title('Fatal Shark Attacks by Type')\n",
    "plt.xlabel('Number of fatal attack')\n",
    "plt.ylabel('Type')"
   ]
  },
  {
   "cell_type": "markdown",
   "metadata": {},
   "source": [
    "##### Fatality and Species"
   ]
  },
  {
   "cell_type": "code",
   "execution_count": 82,
   "metadata": {},
   "outputs": [
    {
     "data": {
      "text/plain": [
       "Text(0, 0.5, 'Species')"
      ]
     },
     "execution_count": 82,
     "metadata": {},
     "output_type": "execute_result"
    },
    {
     "data": {
      "image/png": "[encoded data removed]",
      "text/plain": [
       "<Figure size 1080x432 with 1 Axes>"
      ]
     },
     "metadata": {
      "needs_background": "light"
     },
     "output_type": "display_data"
    }
   ],
   "source": [
    "# Fatal shark attacks by species\n",
    "fatal_species = fatal_attacks['species'].value_counts().sort_index(ascending = True) \n",
    "fig,ax = plt.subplots(figsize=(15,6))\n",
    "sns.barplot(x = fatal_species.values.tolist(),y=fatal_species.index)\n",
    "plt.title('Fatal Shark Attacks by Species')\n",
    "plt.xlabel('Number of fatal attack')\n",
    "plt.ylabel('Species')"
   ]
  },
  {
   "cell_type": "code",
   "execution_count": 83,
   "metadata": {
    "scrolled": true
   },
   "outputs": [
    {
     "data": {
      "text/plain": [
       "Text(0, 0.5, 'Number of fatal attack')"
      ]
     },
     "execution_count": 83,
     "metadata": {},
     "output_type": "execute_result"
    },
    {
     "data": {
      "image/png": "[encoded data removed]",
      "text/plain": [
       "<Figure size 1440x1080 with 1 Axes>"
      ]
     },
     "metadata": {
      "needs_background": "light"
     },
     "output_type": "display_data"
    }
   ],
   "source": [
    "# Fatal shark attacks by country\n",
    "fatal_country = fatal_attacks['country'].value_counts().sort_index(ascending = True) \n",
    "fig,ax = plt.subplots(figsize=(20,15))\n",
    "sns.barplot(x =fatal_country.values.tolist(),y=fatal_country.index,ax=ax)\n",
    "plt.title('Fatal Shark Attacks by Country')\n",
    "plt.xlabel('Country')\n",
    "plt.ylabel('Number of fatal attack')"
   ]
  },
  {
   "cell_type": "code",
   "execution_count": 84,
   "metadata": {},
   "outputs": [],
   "source": [
    "df.to_csv('work.csv')"
   ]
  }
 ],
 "metadata": {
  "kernelspec": {
   "display_name": "Python 3",
   "language": "python",
   "name": "python3"
  },
  "language_info": {
   "codemirror_mode": {
    "name": "ipython",
    "version": 3
   },
   "file_extension": ".py",
   "mimetype": "text/x-python",
   "name": "python",
   "nbconvert_exporter": "python",
   "pygments_lexer": "ipython3",
   "version": "3.8.2"
  }
 },
 "nbformat": 4,
 "nbformat_minor": 4
}
