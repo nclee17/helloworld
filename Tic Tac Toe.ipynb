{
 "cells": [
  {
   "cell_type": "markdown",
   "metadata": {},
   "source": [
    "# Tic Tac Toe"
   ]
  },
  {
   "cell_type": "code",
   "execution_count": null,
   "metadata": {},
   "outputs": [],
   "source": [
    "from IPython.display import clear_output\n",
    "\n",
    "def display_board(board):\n",
    "    clear_output()\n",
    "    print(f\"{board[1]} | {board[2]} | {board[3]}\")\n",
    "    print(\"-\"*9)\n",
    "    print(f\"{board[4]} | {board[5]} | {board[6]}\")\n",
    "    print(\"-\"*9)\n",
    "    print(f\"{board[7]} | {board[8]} | {board[9]}\")"
   ]
  },
  {
   "cell_type": "code",
   "execution_count": null,
   "metadata": {},
   "outputs": [],
   "source": [
    "def player_input():\n",
    "    player1 = input(\"Please choose 'X' or 'O' for Player 1: \").upper()\n",
    "    while player1 not in (\"X\", \"O\"):\n",
    "        player1=input(\"Incorrect format detected: Player 1, please choose 'X' or 'O': \").upper()\n",
    "    if player1 == \"X\":\n",
    "        return (\"X\", \"O\")\n",
    "    else:\n",
    "        return (\"O\", \"X\")"
   ]
  },
  {
   "cell_type": "code",
   "execution_count": null,
   "metadata": {},
   "outputs": [],
   "source": [
    "def place_marker(board, marker, position):\n",
    "    board[position]=marker  "
   ]
  },
  {
   "cell_type": "code",
   "execution_count": null,
   "metadata": {},
   "outputs": [],
   "source": [
    "def win_check(board, mark):\n",
    "    return (set(board[1:4])=={mark})|(set(board[4:7])=={mark})|(set(board[7:10])=={mark})|(board[1]==mark and board[4]==mark and board[7]==mark)|(board[2]==mark and board[5]==mark and board[8]==mark)|(board[3]==mark and board[6]==mark and board[9]==mark)|(board[1]==mark and board[5]==mark and board[9]==mark)|(board[3]==mark and board[5]==mark and board[7]==mark)"
   ]
  },
  {
   "cell_type": "code",
   "execution_count": null,
   "metadata": {},
   "outputs": [],
   "source": [
    "import random\n",
    "\n",
    "def choose_first():\n",
    "    choice= random.randint(0,1)\n",
    "    if choice == 0:\n",
    "        return \"Player 1\"\n",
    "    else:\n",
    "        return \"Player 2\""
   ]
  },
  {
   "cell_type": "code",
   "execution_count": null,
   "metadata": {},
   "outputs": [],
   "source": [
    "def space_check(board, position):\n",
    "    return type(board[position])==int"
   ]
  },
  {
   "cell_type": "code",
   "execution_count": null,
   "metadata": {},
   "outputs": [],
   "source": [
    "def full_board_check(board):\n",
    "    return (1 in board)|(2 in board)|(3 in board)|(4 in board)|(5 in board)|(6 in board)|(7 in board)|(8 in board)|(9 in board)"
   ]
  },
  {
   "cell_type": "code",
   "execution_count": null,
   "metadata": {},
   "outputs": [],
   "source": [
    "def player_choice(board):\n",
    "    position=int(input(\"Please indicate a desired position as a number (1-9): \"))\n",
    "    while (position not in range(1,10))|(not space_check(board, position)):\n",
    "        position=int(input(\"Error detected: please indicate desired position as a number (1-9) on a free space: \"))\n",
    "    return position   "
   ]
  },
  {
   "cell_type": "code",
   "execution_count": null,
   "metadata": {},
   "outputs": [],
   "source": [
    "def replay():\n",
    "    playagain=input(\"Would you like to play another game? Y/N \").upper()\n",
    "    return playagain==\"Y\""
   ]
  },
  {
   "cell_type": "code",
   "execution_count": null,
   "metadata": {},
   "outputs": [],
   "source": [
    "print('Welcome to Tic Tac Toe!')\n",
    "\n",
    "while True:\n",
    "    the_board = ['#',1,2,3,4,5,6,7,8,9]\n",
    "    display_board(the_board)\n",
    "    marker1, marker2 = player_input()\n",
    "    turn = choose_first()\n",
    "    print(f\"{turn} will go first.\")\n",
    "    \n",
    "    ready = input(\"Ready to play? Y/N \").upper()\n",
    "    if ready == \"Y\":\n",
    "        game_on = True\n",
    "    else:\n",
    "        game_on = False\n",
    "    \n",
    "    while game_on:\n",
    "        if turn == \"Player 1\":\n",
    "            display_board(the_board)\n",
    "            position = player_choice(the_board)\n",
    "            place_marker(the_board, marker1, position)\n",
    "            if win_check(the_board, marker1):\n",
    "                display_board(the_board)\n",
    "                print(\"Congratulations, Player 1 has won the game.\")\n",
    "                game_on = False\n",
    "            elif not full_board_check(the_board):\n",
    "                display_board(the_board)\n",
    "                print(\"Gameover: TIE.\")\n",
    "                game_on = False\n",
    "            else:\n",
    "                turn = \"Player 2\"\n",
    "        \n",
    "        else:\n",
    "            display_board(the_board)\n",
    "            position = player_choice(the_board)\n",
    "            place_marker(the_board, marker2, position)\n",
    "            if win_check(the_board, marker2):\n",
    "                display_board(the_board)\n",
    "                print(\"Congratulations, Player 2 has won the game.\")\n",
    "                game_on = False\n",
    "            elif not full_board_check(the_board):\n",
    "                display_board(the_board)\n",
    "                print(\"Gameover: TIE.\")\n",
    "                game_on = False\n",
    "            else:\n",
    "                turn = \"Player 1\"\n",
    "\n",
    "    if not replay():\n",
    "        break\n",
    "\n"
   ]
  }
 ],
 "metadata": {
  "kernelspec": {
   "display_name": "Python 3",
   "language": "python",
   "name": "python3"
  },
  "language_info": {
   "codemirror_mode": {
    "name": "ipython",
    "version": 3
   },
   "file_extension": ".py",
   "mimetype": "text/x-python",
   "name": "python",
   "nbconvert_exporter": "python",
   "pygments_lexer": "ipython3",
   "version": "3.8.2"
  }
 },
 "nbformat": 4,
 "nbformat_minor": 1
}
