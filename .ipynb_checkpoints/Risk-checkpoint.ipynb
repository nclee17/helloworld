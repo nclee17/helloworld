{
 "cells": [
  {
   "cell_type": "code",
   "execution_count": 1,
   "metadata": {},
   "outputs": [],
   "source": [
    "import random\n",
    "import matplotlib"
   ]
  },
  {
   "cell_type": "code",
   "execution_count": 2,
   "metadata": {},
   "outputs": [],
   "source": [
    "%matplotlib inline"
   ]
  },
  {
   "cell_type": "code",
   "execution_count": 7,
   "metadata": {},
   "outputs": [],
   "source": [
    "continent_id={\n",
    "    \"North America\":  [1, 2, 3, 4, 5, 6, 7, 8, 9],\n",
    "    \" South America\": [10, 11, 12, 13],\n",
    "    \"Europe\": [14, 15, 16, 17, 18, 19, 20],\n",
    "    \"Africa\": [21, 22, 23, 24, 25, 26],\n",
    "    \"Asia\": [27, 28, 29, 30, 31, 32, 33, 34, 35, 36, 37, 38],\n",
    "    \"Australia\": [39, 40, 41, 42]    \n",
    "}"
   ]
  },
  {
   "cell_type": "code",
   "execution_count": 8,
   "metadata": {},
   "outputs": [],
   "source": [
    "territory_id={\n",
    "    1: \"Alaska\", 2: \"Alberta\", 3: \"Central America\", 4: \"Eastern United States\", 5: \"Greenland\",\n",
    "    6: \"Northwest Territory\", 7: \"Ontario\", 8: \"Quebec\", 9: \"Western United States\",10: \"Argentina\", \n",
    "    11: \"Brazil\", 12: \"Peru\", 13: \"Venezuela\", 14: \"Great Britain\", 15: \"Iceland\", \n",
    "    16: \"Northern Europe\", 17: \"Scandinavia\", 18: \"Southern Europe\", 19: \"Ukraine\", 20: \"Western Europe\",\n",
    "    21: \"Congo\", 22: \"East Africa\", 23: \"Egypt\", 24: \"Madagascar\", 25: \"North Africa\",\n",
    "    26: \"South Africa\", 27: \"Afghanistan\", 28: \"China\", 29: \"India\", 30: \"Irkutsk\",\n",
    "    31: \"Japan\", 32: \"Kamchatka\", 33: \"Middle East\", 34: \"Mongolia\", 35: \"Siam \",\n",
    "    36: \"Siberia\", 37: \"Ural\", 38: \"Yakutsk\", 39: \"Eastern Australia\", 40: \"Indonesia\",\n",
    "    41: \"New Guinea\",42: \"Western Australia\"\n",
    "}"
   ]
  },
  {
   "cell_type": "code",
   "execution_count": 9,
   "metadata": {},
   "outputs": [],
   "source": [
    "# Card Dictionary\n",
    "card_dict=territory_id.copy()\n",
    "card_dict[0]=\"Wild Card\"\n",
    "card_dict[43]=\"Wild Card\""
   ]
  },
  {
   "cell_type": "code",
   "execution_count": 47,
   "metadata": {},
   "outputs": [],
   "source": [
    "territory_occupation={\n",
    "    1: [1, 2],\n",
    "    2: [\"\", 0],\n",
    "    3: [\"\", 0],\n",
    "    4: [\"\", 0],\n",
    "    5: [\"\", 0],\n",
    "    6: [\"\", 0],\n",
    "    7: [\"\", 0],\n",
    "    8: [\"\", 0],\n",
    "    9: [\"\", 0],\n",
    "    10: [\"\", 0],\n",
    "    11: [\"\", 0],\n",
    "    12: [\"\", 0],\n",
    "    13: [\"\", 0],\n",
    "    14: [\"\", 0],\n",
    "    15: [\"\", 0],\n",
    "    16: [\"\", 0],\n",
    "    17: [\"\", 0],\n",
    "    18: [\"\", 0],\n",
    "    19: [\"\", 0],\n",
    "    20: [\"\", 0],\n",
    "    21: [\"\", 0],\n",
    "    22: [\"\", 0],\n",
    "    23: [\"\", 0],\n",
    "    24: [\"\", 0],\n",
    "    25: [\"\", 0],\n",
    "    26: [\"\", 0],\n",
    "    27: [\"\", 0],\n",
    "    28: [\"\", 0],\n",
    "    29: [\"\", 0],\n",
    "    30: [\"\", 0],\n",
    "    31: [\"\", 0],\n",
    "    32: [\"\", 0],\n",
    "    33: [\"\", 0],\n",
    "    34: [\"\", 0],\n",
    "    35: [\"\", 0],\n",
    "    36: [\"\", 0],\n",
    "    37: [\"\", 0],\n",
    "    38: [\"\", 0],\n",
    "    39: [\"\", 0],\n",
    "    40: [\"\", 0],\n",
    "    41: [\"\", 0],\n",
    "    42: [\"\", 0],\n",
    "}"
   ]
  },
  {
   "cell_type": "code",
   "execution_count": 20,
   "metadata": {},
   "outputs": [],
   "source": [
    "neighbour_id={\n",
    "    1: [2, 6, 32],\n",
    "    2: [1, 6, 7, 9],\n",
    "    3: [4, 9, 13],\n",
    "    4: [3, 7, 8, 9],\n",
    "    5: [6, 7, 8, 15],\n",
    "    6: [1, 2, 5, 7],\n",
    "    7: [2, 4, 5, 6, 8, 9],\n",
    "    8: [4, 5, 7],\n",
    "    9: [2, 3, 4, 7],\n",
    "    10: [11, 12],\n",
    "    11: [10, 12, 13, 25],\n",
    "    12: [10, 11, 13],\n",
    "    13: [3, 11, 12],\n",
    "    14: [15, 16, 17, 20],\n",
    "    15: [5, 16, 17],\n",
    "    16: [14, 17, 18, 19, 20],\n",
    "    17: [14, 15, 16, 19],\n",
    "    18: [16, 19, 20, 23, 25, 33],\n",
    "    19: [16, 17, 27, 33, 37],\n",
    "    20: [14, 16, 18, 25],\n",
    "    21: [22, 25, 26],\n",
    "    22: [21, 23, 24, 25, 26, 33],\n",
    "    23: [18, 22, 25, 33],\n",
    "    24: [22, 26],\n",
    "    25: [11, 18, 20, 21, 22, 23],\n",
    "    26: [21, 22, 24],\n",
    "    27: [19, 28, 29, 33, 37],\n",
    "    28: [27, 29, 34, 35, 36, 37],\n",
    "    29: [27, 28, 33, 35],\n",
    "    30: [32, 34, 36, 38],\n",
    "    31: [32, 34],\n",
    "    32: [1, 30, 31, 34, 38],\n",
    "    33: [18, 19, 22, 23, 27, 29],\n",
    "    34: [28, 30, 31, 32, 36],\n",
    "    35: [28, 29, 40],\n",
    "    36: [28, 30, 34, 37, 38],\n",
    "    37: [19, 27, 28, 36],\n",
    "    38: [30, 32, 36],\n",
    "    39: [41, 42],\n",
    "    40: [35, 41, 42],\n",
    "    41: [39, 40, 42],\n",
    "    42: [39, 40, 41]\n",
    "}"
   ]
  },
  {
   "cell_type": "code",
   "execution_count": 13,
   "metadata": {},
   "outputs": [
    {
     "data": {
      "text/plain": [
       "([4, 3, 4], 11, [4, 1, 1], 6)"
      ]
     },
     "execution_count": 13,
     "metadata": {},
     "output_type": "execute_result"
    }
   ],
   "source": [
    "# dice roll\n",
    "red_dice, blue_dice=random.choices(range(1,7), k=3), random.choices(range(1,7), k=3)\n",
    "red_dice, sum(red_dice), blue_dice, sum(blue_dice)"
   ]
  },
  {
   "cell_type": "code",
   "execution_count": 6,
   "metadata": {},
   "outputs": [],
   "source": [
    "# initial territory split\n",
    "initial_card_shuffle=random.sample(range(1, 43), 42)\n",
    "card_shuffle=random.sample(range(44), 44)"
   ]
  },
  {
   "cell_type": "code",
   "execution_count": 90,
   "metadata": {},
   "outputs": [],
   "source": [
    "class Player:\n",
    "    def __init__(self,player_id):\n",
    "        self.id=player_id  # position of the player in the game\n",
    "        self.occupied_territories=dict() # dictionnary with the territories owned and the number on each territory\n",
    "        self.riskcards=[]\n",
    "        self.missions=[] #Later maybe\n",
    "        self.stock=0 # counter for the reinforcement phase\n",
    "        \n",
    "     #provide the list of territories occupied by the player \n",
    "    def get_occupied_territories(self):\n",
    "        self.occupied_territories={x:territory_occupation[x][1] for x in territory_occupation.keys() if territory_occupation[x][0]==self.id}\n",
    "        return self.occupied_territories\n",
    "    \n",
    "    def move(self, from_territory_id, to_territory_id, troops):\n",
    "        outcome = (from_territory_id in self.occupied_territories.keys(), territory_occupation[from_territory_id][1]-troops>=1, to_territory_id in neighbour_id[from_territory_id], to_territory_id not in self.occupied_territories.keys())\n",
    "        return outcome\n",
    "    \n",
    "    def attack(self, from_territory_id=1, to_territory_id=2, troops=3):\n",
    "        pass\n",
    "\n",
    "        if sum(move(self, from_territory_id, to_territory_id, troops))==4:\n",
    "            print(\"attack!\")\n",
    "        else:\n",
    "            print(\"criteria not met for an attack\")\n",
    "\n",
    "    def manoeuvre(self, from_territory_id=1, to_territory_id=2, troops=3):\n",
    "        pass\n",
    "\n",
    "        if sum(move(self, from_territory_id, to_territory_id, troops)[:3])==3:\n",
    "            print(\"manoeuvre\")\n",
    "        else:\n",
    "            print(\"criteria not met for a manoeuvre\")\n"
   ]
  },
  {
   "cell_type": "code",
   "execution_count": 91,
   "metadata": {},
   "outputs": [],
   "source": [
    "ducky=Player(1)"
   ]
  },
  {
   "cell_type": "code",
   "execution_count": null,
   "metadata": {},
   "outputs": [],
   "source": []
  }
 ],
 "metadata": {
  "kernelspec": {
   "display_name": "Python 3",
   "language": "python",
   "name": "python3"
  },
  "language_info": {
   "codemirror_mode": {
    "name": "ipython",
    "version": 3
   },
   "file_extension": ".py",
   "mimetype": "text/x-python",
   "name": "python",
   "nbconvert_exporter": "python",
   "pygments_lexer": "ipython3",
   "version": "3.8.2"
  }
 },
 "nbformat": 4,
 "nbformat_minor": 4
}
